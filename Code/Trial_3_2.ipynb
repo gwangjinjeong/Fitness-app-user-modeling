{
 "cells": [
  {
   "cell_type": "markdown",
   "metadata": {
    "toc": true
   },
   "source": [
    "<h1>Table of Contents<span class=\"tocSkip\"></span></h1>\n",
    "<div class=\"toc\"><ul class=\"toc-item\"><li><span><a href=\"#Question-List\" data-toc-modified-id=\"Question-List-1\"><span class=\"toc-item-num\">1&nbsp;&nbsp;</span>Question List</a></span></li><li><span><a href=\"#Data-Loading\" data-toc-modified-id=\"Data-Loading-2\"><span class=\"toc-item-num\">2&nbsp;&nbsp;</span>Data Loading</a></span></li><li><span><a href=\"#Data-Preprocessing\" data-toc-modified-id=\"Data-Preprocessing-3\"><span class=\"toc-item-num\">3&nbsp;&nbsp;</span>Data Preprocessing</a></span><ul class=\"toc-item\"><li><span><a href=\"#Check-the-Data-type\" data-toc-modified-id=\"Check-the-Data-type-3.1\"><span class=\"toc-item-num\">3.1&nbsp;&nbsp;</span>Check the Data type</a></span></li><li><span><a href=\"#Check-Null-Values\" data-toc-modified-id=\"Check-Null-Values-3.2\"><span class=\"toc-item-num\">3.2&nbsp;&nbsp;</span>Check Null Values</a></span><ul class=\"toc-item\"><li><span><a href=\"#소셜미디어-이용여부-&amp;-스마트폰-이용여부\" data-toc-modified-id=\"소셜미디어-이용여부-&amp;-스마트폰-이용여부-3.2.1\"><span class=\"toc-item-num\">3.2.1&nbsp;&nbsp;</span>소셜미디어 이용여부 &amp; 스마트폰 이용여부</a></span></li><li><span><a href=\"#체중-키-BMI\" data-toc-modified-id=\"체중-키-BMI-3.2.2\"><span class=\"toc-item-num\">3.2.2&nbsp;&nbsp;</span>체중 키 BMI</a></span></li></ul></li><li><span><a href=\"#OneHotEncoder-&amp;-Label-Encoder\" data-toc-modified-id=\"OneHotEncoder-&amp;-Label-Encoder-3.3\"><span class=\"toc-item-num\">3.3&nbsp;&nbsp;</span>OneHotEncoder &amp; Label Encoder</a></span></li><li><span><a href=\"#Check-the-Correlation\" data-toc-modified-id=\"Check-the-Correlation-3.4\"><span class=\"toc-item-num\">3.4&nbsp;&nbsp;</span>Check the Correlation</a></span></li></ul></li><li><span><a href=\"#Split-train-and-test-set\" data-toc-modified-id=\"Split-train-and-test-set-4\"><span class=\"toc-item-num\">4&nbsp;&nbsp;</span>Split train and test set</a></span></li><li><span><a href=\"#Modeling\" data-toc-modified-id=\"Modeling-5\"><span class=\"toc-item-num\">5&nbsp;&nbsp;</span>Modeling</a></span><ul class=\"toc-item\"><li><span><a href=\"#XGBoost-Classifier\" data-toc-modified-id=\"XGBoost-Classifier-5.1\"><span class=\"toc-item-num\">5.1&nbsp;&nbsp;</span>XGBoost Classifier</a></span><ul class=\"toc-item\"><li><span><a href=\"#GridSearchCV로-최적의-parameter찾기\" data-toc-modified-id=\"GridSearchCV로-최적의-parameter찾기-5.1.1\"><span class=\"toc-item-num\">5.1.1&nbsp;&nbsp;</span>GridSearchCV로 최적의 parameter찾기</a></span></li><li><span><a href=\"#Randomsearch로-최적의-parameter찾기\" data-toc-modified-id=\"Randomsearch로-최적의-parameter찾기-5.1.2\"><span class=\"toc-item-num\">5.1.2&nbsp;&nbsp;</span>Randomsearch로 최적의 parameter찾기</a></span></li></ul></li><li><span><a href=\"#GradientBoostingClassifier\" data-toc-modified-id=\"GradientBoostingClassifier-5.2\"><span class=\"toc-item-num\">5.2&nbsp;&nbsp;</span>GradientBoostingClassifier</a></span></li><li><span><a href=\"#Light-GBM\" data-toc-modified-id=\"Light-GBM-5.3\"><span class=\"toc-item-num\">5.3&nbsp;&nbsp;</span>Light GBM</a></span><ul class=\"toc-item\"><li><ul class=\"toc-item\"><li><span><a href=\"#Randomsearch로-최적의-parameter-찾기\" data-toc-modified-id=\"Randomsearch로-최적의-parameter-찾기-5.3.0.1\"><span class=\"toc-item-num\">5.3.0.1&nbsp;&nbsp;</span>Randomsearch로 최적의 parameter 찾기</a></span></li></ul></li></ul></li><li><span><a href=\"#AdaBoost\" data-toc-modified-id=\"AdaBoost-5.4\"><span class=\"toc-item-num\">5.4&nbsp;&nbsp;</span>AdaBoost</a></span><ul class=\"toc-item\"><li><ul class=\"toc-item\"><li><span><a href=\"#Randomsearch로-최적의-parameter-찾기\" data-toc-modified-id=\"Randomsearch로-최적의-parameter-찾기-5.4.0.1\"><span class=\"toc-item-num\">5.4.0.1&nbsp;&nbsp;</span>Randomsearch로 최적의 parameter 찾기</a></span></li></ul></li></ul></li></ul></li></ul></div>"
   ]
  },
  {
   "cell_type": "markdown",
   "metadata": {
    "colab_type": "text",
    "id": "ZS5mb8CVciSH"
   },
   "source": [
    "# Question List"
   ]
  },
  {
   "cell_type": "markdown",
   "metadata": {
    "colab_type": "text",
    "id": "21XVc-3zco80"
   },
   "source": [
    "1. Feature Importances가 어느정도 되어야 중요하다고 판단할 수 있는가?   \n",
    " * 중요한 정도를 알았다면 feature importances에 따라 변수를 삭제해도 되는가?\n",
    " * 예를들어 \"체중관리효능감_1\t나의 체중이 감소하거나 증가하는 것은 나의 행동에 달려 있다.\"라는 Variable(질문)이 있을때, 답변이 보통이다 매우그렇다   \n",
    "\n",
    "2. 전처리가 가장 중요할텐데\n",
    "\n"
   ]
  },
  {
   "cell_type": "markdown",
   "metadata": {
    "colab_type": "text",
    "id": "LrGA_RpwN-at"
   },
   "source": [
    "# Data Loading"
   ]
  },
  {
   "cell_type": "code",
   "execution_count": 1,
   "metadata": {
    "colab": {},
    "colab_type": "code",
    "id": "L14URbslxFFi"
   },
   "outputs": [],
   "source": [
    "import pandas as pd"
   ]
  },
  {
   "cell_type": "code",
   "execution_count": 2,
   "metadata": {
    "colab": {},
    "colab_type": "code",
    "id": "2lAD6IJ0sESe"
   },
   "outputs": [],
   "source": [
    "rawData = pd.read_excel('RawData_2017.xlsx', sheet_name='data')"
   ]
  },
  {
   "cell_type": "code",
   "execution_count": 3,
   "metadata": {
    "colab": {
     "base_uri": "https://localhost:8080/",
     "height": 423
    },
    "colab_type": "code",
    "id": "Dz7dKtZpsO3u",
    "outputId": "ffca657a-2030-4389-e8b9-f7a003db5c4b"
   },
   "outputs": [
    {
     "data": {
      "text/html": [
       "<div>\n",
       "<style scoped>\n",
       "    .dataframe tbody tr th:only-of-type {\n",
       "        vertical-align: middle;\n",
       "    }\n",
       "\n",
       "    .dataframe tbody tr th {\n",
       "        vertical-align: top;\n",
       "    }\n",
       "\n",
       "    .dataframe thead th {\n",
       "        text-align: right;\n",
       "    }\n",
       "</style>\n",
       "<table border=\"1\" class=\"dataframe\">\n",
       "  <thead>\n",
       "    <tr style=\"text-align: right;\">\n",
       "      <th></th>\n",
       "      <th>no</th>\n",
       "      <th>거주지역</th>\n",
       "      <th>성별</th>\n",
       "      <th>연령</th>\n",
       "      <th>연령_그룹</th>\n",
       "      <th>소셜미디어이용여부</th>\n",
       "      <th>소셜미디어이용빈도</th>\n",
       "      <th>스마트폰앱이용여부</th>\n",
       "      <th>스마트폰앱이용갯수</th>\n",
       "      <th>스마트폰앱이용시간</th>\n",
       "      <th>...</th>\n",
       "      <th>문49</th>\n",
       "      <th>문50</th>\n",
       "      <th>고지혈증</th>\n",
       "      <th>고혈압</th>\n",
       "      <th>당뇨병</th>\n",
       "      <th>대사증후군</th>\n",
       "      <th>관절염</th>\n",
       "      <th>기타</th>\n",
       "      <th>문52</th>\n",
       "      <th>문53</th>\n",
       "    </tr>\n",
       "  </thead>\n",
       "  <tbody>\n",
       "    <tr>\n",
       "      <th>0</th>\n",
       "      <td>1</td>\n",
       "      <td>9</td>\n",
       "      <td>2</td>\n",
       "      <td>63</td>\n",
       "      <td>5</td>\n",
       "      <td>1</td>\n",
       "      <td>4.0</td>\n",
       "      <td>1</td>\n",
       "      <td>5.0</td>\n",
       "      <td>1.0</td>\n",
       "      <td>...</td>\n",
       "      <td>1</td>\n",
       "      <td>1</td>\n",
       "      <td>2</td>\n",
       "      <td>1</td>\n",
       "      <td>2</td>\n",
       "      <td>2</td>\n",
       "      <td>2</td>\n",
       "      <td>2</td>\n",
       "      <td>3</td>\n",
       "      <td>4</td>\n",
       "    </tr>\n",
       "    <tr>\n",
       "      <th>1</th>\n",
       "      <td>2</td>\n",
       "      <td>3</td>\n",
       "      <td>1</td>\n",
       "      <td>36</td>\n",
       "      <td>2</td>\n",
       "      <td>1</td>\n",
       "      <td>5.0</td>\n",
       "      <td>1</td>\n",
       "      <td>20.0</td>\n",
       "      <td>10.0</td>\n",
       "      <td>...</td>\n",
       "      <td>2</td>\n",
       "      <td>2</td>\n",
       "      <td>2</td>\n",
       "      <td>2</td>\n",
       "      <td>2</td>\n",
       "      <td>2</td>\n",
       "      <td>2</td>\n",
       "      <td>2</td>\n",
       "      <td>5</td>\n",
       "      <td>4</td>\n",
       "    </tr>\n",
       "    <tr>\n",
       "      <th>2</th>\n",
       "      <td>3</td>\n",
       "      <td>9</td>\n",
       "      <td>2</td>\n",
       "      <td>21</td>\n",
       "      <td>1</td>\n",
       "      <td>1</td>\n",
       "      <td>5.0</td>\n",
       "      <td>1</td>\n",
       "      <td>15.0</td>\n",
       "      <td>5.0</td>\n",
       "      <td>...</td>\n",
       "      <td>2</td>\n",
       "      <td>2</td>\n",
       "      <td>2</td>\n",
       "      <td>2</td>\n",
       "      <td>2</td>\n",
       "      <td>2</td>\n",
       "      <td>2</td>\n",
       "      <td>2</td>\n",
       "      <td>4</td>\n",
       "      <td>1</td>\n",
       "    </tr>\n",
       "    <tr>\n",
       "      <th>3</th>\n",
       "      <td>5</td>\n",
       "      <td>9</td>\n",
       "      <td>1</td>\n",
       "      <td>31</td>\n",
       "      <td>2</td>\n",
       "      <td>1</td>\n",
       "      <td>5.0</td>\n",
       "      <td>1</td>\n",
       "      <td>1.0</td>\n",
       "      <td>4.0</td>\n",
       "      <td>...</td>\n",
       "      <td>1</td>\n",
       "      <td>1</td>\n",
       "      <td>2</td>\n",
       "      <td>2</td>\n",
       "      <td>2</td>\n",
       "      <td>2</td>\n",
       "      <td>2</td>\n",
       "      <td>1</td>\n",
       "      <td>5</td>\n",
       "      <td>3</td>\n",
       "    </tr>\n",
       "    <tr>\n",
       "      <th>4</th>\n",
       "      <td>6</td>\n",
       "      <td>9</td>\n",
       "      <td>1</td>\n",
       "      <td>54</td>\n",
       "      <td>4</td>\n",
       "      <td>1</td>\n",
       "      <td>5.0</td>\n",
       "      <td>1</td>\n",
       "      <td>30.0</td>\n",
       "      <td>4.0</td>\n",
       "      <td>...</td>\n",
       "      <td>2</td>\n",
       "      <td>2</td>\n",
       "      <td>2</td>\n",
       "      <td>2</td>\n",
       "      <td>2</td>\n",
       "      <td>2</td>\n",
       "      <td>2</td>\n",
       "      <td>2</td>\n",
       "      <td>1</td>\n",
       "      <td>3</td>\n",
       "    </tr>\n",
       "  </tbody>\n",
       "</table>\n",
       "<p>5 rows × 112 columns</p>\n",
       "</div>"
      ],
      "text/plain": [
       "   no  거주지역  성별  연령  연령_그룹  소셜미디어이용여부  소셜미디어이용빈도  스마트폰앱이용여부  스마트폰앱이용갯수  \\\n",
       "0   1     9   2  63      5          1        4.0          1        5.0   \n",
       "1   2     3   1  36      2          1        5.0          1       20.0   \n",
       "2   3     9   2  21      1          1        5.0          1       15.0   \n",
       "3   5     9   1  31      2          1        5.0          1        1.0   \n",
       "4   6     9   1  54      4          1        5.0          1       30.0   \n",
       "\n",
       "   스마트폰앱이용시간  ...  문49  문50  고지혈증  고혈압  당뇨병  대사증후군  관절염  기타  문52  문53  \n",
       "0        1.0  ...    1    1     2    1    2      2    2   2    3    4  \n",
       "1       10.0  ...    2    2     2    2    2      2    2   2    5    4  \n",
       "2        5.0  ...    2    2     2    2    2      2    2   2    4    1  \n",
       "3        4.0  ...    1    1     2    2    2      2    2   1    5    3  \n",
       "4        4.0  ...    2    2     2    2    2      2    2   2    1    3  \n",
       "\n",
       "[5 rows x 112 columns]"
      ]
     },
     "execution_count": 3,
     "metadata": {},
     "output_type": "execute_result"
    }
   ],
   "source": [
    "rawData.head()"
   ]
  },
  {
   "cell_type": "markdown",
   "metadata": {
    "colab_type": "text",
    "id": "RBk_npgnOFpI"
   },
   "source": [
    "# Data Preprocessing"
   ]
  },
  {
   "cell_type": "code",
   "execution_count": 4,
   "metadata": {
    "colab": {},
    "colab_type": "code",
    "id": "q_R3ltwykNw0"
   },
   "outputs": [],
   "source": [
    "dataset = rawData"
   ]
  },
  {
   "cell_type": "code",
   "execution_count": 5,
   "metadata": {
    "colab": {},
    "colab_type": "code",
    "id": "M24trcmue0Yd"
   },
   "outputs": [],
   "source": [
    "no = dataset['no']"
   ]
  },
  {
   "cell_type": "code",
   "execution_count": 6,
   "metadata": {
    "colab": {
     "base_uri": "https://localhost:8080/",
     "height": 35
    },
    "colab_type": "code",
    "id": "tsUpLA2Z74AU",
    "outputId": "a7e06bd4-d0c6-410f-b69b-61312109a90e"
   },
   "outputs": [
    {
     "data": {
      "text/plain": [
       "(1500, 112)"
      ]
     },
     "execution_count": 6,
     "metadata": {},
     "output_type": "execute_result"
    }
   ],
   "source": [
    "dataset.shape"
   ]
  },
  {
   "cell_type": "markdown",
   "metadata": {
    "colab_type": "text",
    "id": "9kCgc68LP19-"
   },
   "source": [
    "## Check the Data type\n",
    "\n",
    "dataset.describe()"
   ]
  },
  {
   "cell_type": "code",
   "execution_count": 7,
   "metadata": {
    "colab": {
     "base_uri": "https://localhost:8080/",
     "height": 35
    },
    "colab_type": "code",
    "id": "hDI1r2lfxwPq",
    "outputId": "85fdda61-4415-44cc-a5b0-c149284d568e"
   },
   "outputs": [
    {
     "data": {
      "text/plain": [
       "Series([], dtype: object)"
      ]
     },
     "execution_count": 7,
     "metadata": {},
     "output_type": "execute_result"
    }
   ],
   "source": [
    "dataset.dtypes[dataset.dtypes == 'category']"
   ]
  },
  {
   "cell_type": "code",
   "execution_count": 8,
   "metadata": {
    "colab": {
     "base_uri": "https://localhost:8080/",
     "height": 1000
    },
    "colab_type": "code",
    "id": "_qsbHbxF9aoF",
    "outputId": "ad593dae-4bfd-4b8f-a00b-6664180549b5"
   },
   "outputs": [
    {
     "data": {
      "text/plain": [
       "no                int64\n",
       "거주지역              int64\n",
       "성별                int64\n",
       "연령                int64\n",
       "연령_그룹             int64\n",
       "소셜미디어이용여부         int64\n",
       "소셜미디어이용빈도       float64\n",
       "스마트폰앱이용여부         int64\n",
       "스마트폰앱이용갯수       float64\n",
       "스마트폰앱이용시간       float64\n",
       "운동/다이어트앱이용여부      int64\n",
       "지각된민감성_1          int64\n",
       "지각된민감성_2          int64\n",
       "지각된민감성_3          int64\n",
       "지각된민감성_4          int64\n",
       "지각된민감성_5          int64\n",
       "지각된심각성_1          int64\n",
       "지각된심각성_2          int64\n",
       "지각된심각성_3          int64\n",
       "지각된심각성_4          int64\n",
       "지각된심각성_5          int64\n",
       "운동의유익성_1          int64\n",
       "운동의유익성_2          int64\n",
       "운동의유익성_3          int64\n",
       "운동의유익성_4          int64\n",
       "운동의유익성_5          int64\n",
       "운동의유익성_6          int64\n",
       "운동의유익성_7          int64\n",
       "운동의유익성_8          int64\n",
       "운동에대한장애_1         int64\n",
       "                 ...   \n",
       "문17_1             int64\n",
       "문17_2             int64\n",
       "문17_3             int64\n",
       "문17_4             int64\n",
       "문18_1             int64\n",
       "문18_2             int64\n",
       "문18_3             int64\n",
       "문18_4             int64\n",
       "문18_5             int64\n",
       "문18_6             int64\n",
       "문19_1             int64\n",
       "문19_2             int64\n",
       "문19_3             int64\n",
       "문19_4             int64\n",
       "문19_5             int64\n",
       "문20_1             int64\n",
       "문20_2             int64\n",
       "문20_3             int64\n",
       "문20_4             int64\n",
       "문21               int64\n",
       "문49               int64\n",
       "문50               int64\n",
       "고지혈증              int64\n",
       "고혈압               int64\n",
       "당뇨병               int64\n",
       "대사증후군             int64\n",
       "관절염               int64\n",
       "기타                int64\n",
       "문52               int64\n",
       "문53               int64\n",
       "Length: 112, dtype: object"
      ]
     },
     "execution_count": 8,
     "metadata": {},
     "output_type": "execute_result"
    }
   ],
   "source": [
    "dataset.dtypes[dataset.dtypes != 'category']"
   ]
  },
  {
   "cell_type": "markdown",
   "metadata": {
    "colab_type": "text",
    "id": "3kaqnbggQFnI"
   },
   "source": [
    "## Check Null Values"
   ]
  },
  {
   "cell_type": "code",
   "execution_count": 9,
   "metadata": {
    "colab": {},
    "colab_type": "code",
    "id": "HqNP3jl8ZOuf"
   },
   "outputs": [],
   "source": [
    "import operator\n",
    "import seaborn as sns"
   ]
  },
  {
   "cell_type": "code",
   "execution_count": 10,
   "metadata": {
    "colab": {},
    "colab_type": "code",
    "id": "-IrBPP_LRUrb"
   },
   "outputs": [],
   "source": [
    "null_values = dataset.isnull().sum()\n",
    "sorted_null_values = sorted(null_values.items(), reverse=True, key=operator.itemgetter(1))"
   ]
  },
  {
   "cell_type": "code",
   "execution_count": 11,
   "metadata": {
    "colab": {
     "base_uri": "https://localhost:8080/",
     "height": 161
    },
    "colab_type": "code",
    "id": "t5grzRMcxdiC",
    "outputId": "ec6c96fa-86ff-46f8-c83c-209b8d81b401"
   },
   "outputs": [
    {
     "name": "stdout",
     "output_type": "stream",
     "text": [
      "      Attribute| Null_Val|   Data Type\n",
      "--------------------------------------------------\n",
      "      스마트폰앱이용갯수   152      float64\n",
      "      스마트폰앱이용시간   152      float64\n",
      "             체중    89      float64\n",
      "            BMI    87      float64\n",
      "              키    65      float64\n",
      "      소셜미디어이용빈도    53      float64\n"
     ]
    }
   ],
   "source": [
    "print(\"%15s| %5s|%12s\" % (\"Attribute\", \"Null_Val\", \"Data Type\"))\n",
    "print('-'*50)\n",
    "for (k, v) in sorted_null_values:\n",
    "    if v > 0:\n",
    "        print(\"%15s %5d %12s\" % (k, v, dataset[k].dtype))"
   ]
  },
  {
   "cell_type": "markdown",
   "metadata": {
    "colab_type": "text",
    "id": "dqn4ieCyQQKj"
   },
   "source": [
    "### 소셜미디어 이용여부 & 스마트폰 이용여부\n",
    "---\n",
    "'소셜미디어이용여부' 열에 따라 이용빈도가 결정됨을 확인   \n",
    "'스마트폰이용여부' 열에 따라 이용갯수와 시간이 결정됨을 확인   \n",
    "\n",
    "**즉, '사용하지않음'의 경우 null 값을 모두 0으로 지정**\n",
    "\n",
    "---"
   ]
  },
  {
   "cell_type": "code",
   "execution_count": 12,
   "metadata": {
    "colab": {
     "base_uri": "https://localhost:8080/",
     "height": 35
    },
    "colab_type": "code",
    "id": "qdxfmIU3Qvy4",
    "outputId": "8ffd8ff0-6e97-46b6-efb7-e8054fcf8e0d"
   },
   "outputs": [
    {
     "data": {
      "text/plain": [
       "0.0"
      ]
     },
     "execution_count": 12,
     "metadata": {},
     "output_type": "execute_result"
    }
   ],
   "source": [
    "dataset[dataset['소셜미디어이용여부'] == 2]['소셜미디어이용빈도'].sum()"
   ]
  },
  {
   "cell_type": "code",
   "execution_count": 13,
   "metadata": {
    "colab": {
     "base_uri": "https://localhost:8080/",
     "height": 35
    },
    "colab_type": "code",
    "id": "5_cdHwZ4SkrD",
    "outputId": "beebcb71-5a21-4fbf-d518-ef0c7da8fdcb"
   },
   "outputs": [
    {
     "data": {
      "text/plain": [
       "0.0"
      ]
     },
     "execution_count": 13,
     "metadata": {},
     "output_type": "execute_result"
    }
   ],
   "source": [
    "dataset[dataset['스마트폰앱이용여부'] == 2]['스마트폰앱이용갯수'].sum()"
   ]
  },
  {
   "cell_type": "code",
   "execution_count": 14,
   "metadata": {
    "colab": {
     "base_uri": "https://localhost:8080/",
     "height": 35
    },
    "colab_type": "code",
    "id": "WEZCsrILSrY6",
    "outputId": "8f0dc6f2-fc94-486f-f535-11343b224a92"
   },
   "outputs": [
    {
     "data": {
      "text/plain": [
       "0.0"
      ]
     },
     "execution_count": 14,
     "metadata": {},
     "output_type": "execute_result"
    }
   ],
   "source": [
    "dataset[dataset['스마트폰앱이용여부'] == 2]['스마트폰앱이용시간'].sum()"
   ]
  },
  {
   "cell_type": "code",
   "execution_count": 15,
   "metadata": {
    "colab": {},
    "colab_type": "code",
    "id": "LOpJU6yQTY3w"
   },
   "outputs": [],
   "source": [
    "import pylab\n",
    "import numpy as np"
   ]
  },
  {
   "cell_type": "code",
   "execution_count": 16,
   "metadata": {
    "colab": {
     "base_uri": "https://localhost:8080/",
     "height": 301
    },
    "colab_type": "code",
    "id": "EshcHeCsVHcO",
    "outputId": "873c3737-2420-472e-d774-e70f56eb0e08"
   },
   "outputs": [
    {
     "data": {
      "text/plain": [
       "<matplotlib.axes._subplots.AxesSubplot at 0x2c882ed7ac8>"
      ]
     },
     "execution_count": 16,
     "metadata": {},
     "output_type": "execute_result"
    },
    {
     "data": {
      "image/png": "[encoded data removed]",
      "text/plain": [
       "<Figure size 432x288 with 1 Axes>"
      ]
     },
     "metadata": {
      "needs_background": "light"
     },
     "output_type": "display_data"
    }
   ],
   "source": [
    "sns.distplot(dataset['스마트폰앱이용시간'][~np.isnan(dataset['스마트폰앱이용시간'])])\n"
   ]
  },
  {
   "cell_type": "code",
   "execution_count": 17,
   "metadata": {
    "colab": {},
    "colab_type": "code",
    "id": "nnBVCgHCVZa5"
   },
   "outputs": [],
   "source": [
    "for col in ['소셜미디어이용빈도','스마트폰앱이용갯수','스마트폰앱이용시간']:\n",
    "  dataset[col] = dataset[col].fillna(0)"
   ]
  },
  {
   "cell_type": "code",
   "execution_count": 18,
   "metadata": {
    "colab": {},
    "colab_type": "code",
    "id": "toiLcbhVcEeE"
   },
   "outputs": [],
   "source": [
    "null_values = dataset.isnull().sum()"
   ]
  },
  {
   "cell_type": "code",
   "execution_count": 19,
   "metadata": {
    "colab": {},
    "colab_type": "code",
    "id": "oRsubHfyUa2n"
   },
   "outputs": [],
   "source": [
    "dataset = dataset.drop(['소셜미디어이용여부','스마트폰앱이용여부'],axis=1)"
   ]
  },
  {
   "cell_type": "markdown",
   "metadata": {
    "colab_type": "text",
    "id": "ZsLfyl4accU8"
   },
   "source": [
    "### 체중 키 BMI"
   ]
  },
  {
   "cell_type": "markdown",
   "metadata": {
    "colab_type": "text",
    "id": "SlvJNbPBcrYX"
   },
   "source": [
    "---\n",
    "\n",
    "BMI가 키와 체중을 모두 포함하고 있다고 보기 때문에 키와 체중을 삭제\n",
    "\n",
    "단, BMI 수식으로 구할수 있는건 살리자\n",
    "\n",
    "---"
   ]
  },
  {
   "cell_type": "code",
   "execution_count": 20,
   "metadata": {
    "colab": {
     "base_uri": "https://localhost:8080/",
     "height": 107
    },
    "colab_type": "code",
    "id": "RRjTfpakJBj2",
    "outputId": "d51e6bfb-0bb8-49b1-8a3b-8610e4d94faf"
   },
   "outputs": [
    {
     "name": "stdout",
     "output_type": "stream",
     "text": [
      "      Attribute| Null_Val|   Data Type\n",
      "--------------------------------------------------\n",
      "             체중    89      float64\n",
      "            BMI    87      float64\n",
      "              키    65      float64\n"
     ]
    }
   ],
   "source": [
    "sorted_null_values = sorted(null_values.items(), reverse=True, key=operator.itemgetter(1))\n",
    "print(\"%15s| %5s|%12s\" % (\"Attribute\", \"Null_Val\", \"Data Type\"))\n",
    "print('-'*50)\n",
    "for (k, v) in sorted_null_values:\n",
    "    if v > 0:\n",
    "        print(\"%15s %5d %12s\" % (k, v, dataset[k].dtype))"
   ]
  },
  {
   "cell_type": "code",
   "execution_count": 21,
   "metadata": {
    "colab": {
     "base_uri": "https://localhost:8080/",
     "height": 397
    },
    "colab_type": "code",
    "id": "smt4_ANmYmpi",
    "outputId": "597c3378-c38d-4de6-cfa7-1a885794b172"
   },
   "outputs": [
    {
     "name": "stderr",
     "output_type": "stream",
     "text": [
      "C:\\Users\\iThings_lab\\Anaconda3\\envs\\tf_gpu\\lib\\site-packages\\ipykernel_launcher.py:1: UserWarning: Boolean Series key will be reindexed to match DataFrame index.\n",
      "  \"\"\"Entry point for launching an IPython kernel.\n"
     ]
    },
    {
     "data": {
      "text/html": [
       "<div>\n",
       "<style scoped>\n",
       "    .dataframe tbody tr th:only-of-type {\n",
       "        vertical-align: middle;\n",
       "    }\n",
       "\n",
       "    .dataframe tbody tr th {\n",
       "        vertical-align: top;\n",
       "    }\n",
       "\n",
       "    .dataframe thead th {\n",
       "        text-align: right;\n",
       "    }\n",
       "</style>\n",
       "<table border=\"1\" class=\"dataframe\">\n",
       "  <thead>\n",
       "    <tr style=\"text-align: right;\">\n",
       "      <th></th>\n",
       "      <th>no</th>\n",
       "      <th>거주지역</th>\n",
       "      <th>성별</th>\n",
       "      <th>연령</th>\n",
       "      <th>연령_그룹</th>\n",
       "      <th>소셜미디어이용빈도</th>\n",
       "      <th>스마트폰앱이용갯수</th>\n",
       "      <th>스마트폰앱이용시간</th>\n",
       "      <th>운동/다이어트앱이용여부</th>\n",
       "      <th>지각된민감성_1</th>\n",
       "      <th>...</th>\n",
       "      <th>문49</th>\n",
       "      <th>문50</th>\n",
       "      <th>고지혈증</th>\n",
       "      <th>고혈압</th>\n",
       "      <th>당뇨병</th>\n",
       "      <th>대사증후군</th>\n",
       "      <th>관절염</th>\n",
       "      <th>기타</th>\n",
       "      <th>문52</th>\n",
       "      <th>문53</th>\n",
       "    </tr>\n",
       "  </thead>\n",
       "  <tbody>\n",
       "    <tr>\n",
       "      <th>108</th>\n",
       "      <td>152</td>\n",
       "      <td>1</td>\n",
       "      <td>1</td>\n",
       "      <td>28</td>\n",
       "      <td>1</td>\n",
       "      <td>4.0</td>\n",
       "      <td>1.0</td>\n",
       "      <td>1.0</td>\n",
       "      <td>2</td>\n",
       "      <td>4</td>\n",
       "      <td>...</td>\n",
       "      <td>2</td>\n",
       "      <td>2</td>\n",
       "      <td>2</td>\n",
       "      <td>2</td>\n",
       "      <td>2</td>\n",
       "      <td>2</td>\n",
       "      <td>2</td>\n",
       "      <td>2</td>\n",
       "      <td>5</td>\n",
       "      <td>3</td>\n",
       "    </tr>\n",
       "    <tr>\n",
       "      <th>281</th>\n",
       "      <td>369</td>\n",
       "      <td>9</td>\n",
       "      <td>2</td>\n",
       "      <td>19</td>\n",
       "      <td>1</td>\n",
       "      <td>5.0</td>\n",
       "      <td>43.0</td>\n",
       "      <td>7.0</td>\n",
       "      <td>1</td>\n",
       "      <td>2</td>\n",
       "      <td>...</td>\n",
       "      <td>1</td>\n",
       "      <td>2</td>\n",
       "      <td>2</td>\n",
       "      <td>2</td>\n",
       "      <td>2</td>\n",
       "      <td>2</td>\n",
       "      <td>2</td>\n",
       "      <td>2</td>\n",
       "      <td>4</td>\n",
       "      <td>1</td>\n",
       "    </tr>\n",
       "    <tr>\n",
       "      <th>1203</th>\n",
       "      <td>1911</td>\n",
       "      <td>1</td>\n",
       "      <td>1</td>\n",
       "      <td>33</td>\n",
       "      <td>2</td>\n",
       "      <td>4.0</td>\n",
       "      <td>60.0</td>\n",
       "      <td>2.0</td>\n",
       "      <td>1</td>\n",
       "      <td>4</td>\n",
       "      <td>...</td>\n",
       "      <td>2</td>\n",
       "      <td>2</td>\n",
       "      <td>2</td>\n",
       "      <td>2</td>\n",
       "      <td>2</td>\n",
       "      <td>2</td>\n",
       "      <td>2</td>\n",
       "      <td>2</td>\n",
       "      <td>5</td>\n",
       "      <td>3</td>\n",
       "    </tr>\n",
       "  </tbody>\n",
       "</table>\n",
       "<p>3 rows × 110 columns</p>\n",
       "</div>"
      ],
      "text/plain": [
       "        no  거주지역  성별  연령  연령_그룹  소셜미디어이용빈도  스마트폰앱이용갯수  스마트폰앱이용시간  \\\n",
       "108    152     1   1  28      1        4.0        1.0        1.0   \n",
       "281    369     9   2  19      1        5.0       43.0        7.0   \n",
       "1203  1911     1   1  33      2        4.0       60.0        2.0   \n",
       "\n",
       "      운동/다이어트앱이용여부  지각된민감성_1  ...  문49  문50  고지혈증  고혈압  당뇨병  대사증후군  관절염  기타  \\\n",
       "108              2         4  ...    2    2     2    2    2      2    2   2   \n",
       "281              1         2  ...    1    2     2    2    2      2    2   2   \n",
       "1203             1         4  ...    2    2     2    2    2      2    2   2   \n",
       "\n",
       "      문52  문53  \n",
       "108     5    3  \n",
       "281     4    1  \n",
       "1203    5    3  \n",
       "\n",
       "[3 rows x 110 columns]"
      ]
     },
     "execution_count": 21,
     "metadata": {},
     "output_type": "execute_result"
    }
   ],
   "source": [
    "dataset[np.isnan(dataset['체중'])][~np.isnan(dataset['BMI'])]\n",
    "# 체중이 nan값인거 중에 BMI가 nan값이 아닌거."
   ]
  },
  {
   "cell_type": "code",
   "execution_count": 22,
   "metadata": {
    "colab": {
     "base_uri": "https://localhost:8080/",
     "height": 301
    },
    "colab_type": "code",
    "id": "mtRtcizCOO4p",
    "outputId": "0baad836-a65b-4113-93f5-8ec884df5a93"
   },
   "outputs": [
    {
     "data": {
      "text/plain": [
       "<matplotlib.axes._subplots.AxesSubplot at 0x2c884f41cf8>"
      ]
     },
     "execution_count": 22,
     "metadata": {},
     "output_type": "execute_result"
    },
    {
     "data": {
      "image/png": "[encoded data removed]",
      "text/plain": [
       "<Figure size 432x288 with 1 Axes>"
      ]
     },
     "metadata": {
      "needs_background": "light"
     },
     "output_type": "display_data"
    }
   ],
   "source": [
    "sns.distplot(dataset['BMI'][~np.isnan(dataset['BMI'])])\n"
   ]
  },
  {
   "cell_type": "code",
   "execution_count": 23,
   "metadata": {
    "colab": {
     "base_uri": "https://localhost:8080/",
     "height": 71
    },
    "colab_type": "code",
    "id": "YiMP0Wgabq9k",
    "outputId": "d84d2b24-9b23-4def-a797-a91b090be880"
   },
   "outputs": [
    {
     "name": "stderr",
     "output_type": "stream",
     "text": [
      "C:\\Users\\iThings_lab\\Anaconda3\\envs\\tf_gpu\\lib\\site-packages\\ipykernel_launcher.py:1: UserWarning: Boolean Series key will be reindexed to match DataFrame index.\n",
      "  \"\"\"Entry point for launching an IPython kernel.\n"
     ]
    },
    {
     "data": {
      "text/plain": [
       "Int64Index([], dtype='int64')"
      ]
     },
     "execution_count": 23,
     "metadata": {},
     "output_type": "execute_result"
    }
   ],
   "source": [
    "dataset[np.isnan(dataset['키'])][~np.isnan(dataset['BMI'])].index"
   ]
  },
  {
   "cell_type": "code",
   "execution_count": 24,
   "metadata": {
    "colab": {},
    "colab_type": "code",
    "id": "xE1ZPq-yauI4"
   },
   "outputs": [],
   "source": [
    "dataset = dataset.drop([108,281,1203])"
   ]
  },
  {
   "cell_type": "code",
   "execution_count": 25,
   "metadata": {
    "colab": {
     "base_uri": "https://localhost:8080/",
     "height": 301
    },
    "colab_type": "code",
    "id": "N5ymv8ClOnzT",
    "outputId": "1475170b-c934-404c-de02-0d97c3a1abdd"
   },
   "outputs": [
    {
     "data": {
      "text/plain": [
       "<matplotlib.axes._subplots.AxesSubplot at 0x2c88516dfd0>"
      ]
     },
     "execution_count": 25,
     "metadata": {},
     "output_type": "execute_result"
    },
    {
     "data": {
      "image/png": "[encoded data removed]",
      "text/plain": [
       "<Figure size 432x288 with 1 Axes>"
      ]
     },
     "metadata": {
      "needs_background": "light"
     },
     "output_type": "display_data"
    }
   ],
   "source": [
    "sns.distplot(dataset['BMI'][~np.isnan(dataset['BMI'])])\n"
   ]
  },
  {
   "cell_type": "code",
   "execution_count": 26,
   "metadata": {
    "colab": {},
    "colab_type": "code",
    "id": "0WbqWhzZWDJr"
   },
   "outputs": [],
   "source": [
    "dataset = dataset.drop(['체중','키'],axis=1)"
   ]
  },
  {
   "cell_type": "code",
   "execution_count": 27,
   "metadata": {
    "colab": {
     "base_uri": "https://localhost:8080/",
     "height": 71
    },
    "colab_type": "code",
    "id": "9brxPGJwc4S6",
    "outputId": "4d42799d-8173-42f8-88e8-b8a0e7fbe601"
   },
   "outputs": [
    {
     "data": {
      "text/plain": [
       "체형          0.631782\n",
       "지각된민감성_1    0.252920\n",
       "Name: BMI, dtype: float64"
      ]
     },
     "execution_count": 27,
     "metadata": {},
     "output_type": "execute_result"
    }
   ],
   "source": [
    "corr = dataset.iloc[:,:].corr()\n",
    "corr_list = corr['BMI'].sort_values(axis=0,ascending=False).iloc[1:]\n",
    "corr_list.head(2)"
   ]
  },
  {
   "cell_type": "code",
   "execution_count": 28,
   "metadata": {
    "colab": {
     "base_uri": "https://localhost:8080/",
     "height": 107
    },
    "colab_type": "code",
    "id": "KUNW38K3fMWY",
    "outputId": "962b8630-7ec2-4842-de71-de41c87dc28e"
   },
   "outputs": [
    {
     "data": {
      "text/plain": [
       "체형\n",
       "1    [17.63085399449036, 19.591836734693878, 19.038...\n",
       "2    [24.577867151840145, nan, 21.29529475392104, 2...\n",
       "3    [24.609374999999996, 24.221453287197235, 24.03...\n",
       "Name: BMI, dtype: object"
      ]
     },
     "execution_count": 28,
     "metadata": {},
     "output_type": "execute_result"
    }
   ],
   "source": [
    "dataset.groupby(\"체형\")[\"BMI\"].unique()"
   ]
  },
  {
   "cell_type": "code",
   "execution_count": 29,
   "metadata": {
    "colab": {},
    "colab_type": "code",
    "id": "O-q4GY83fGyJ"
   },
   "outputs": [],
   "source": [
    "dataset[\"BMI\"] = dataset.groupby(\"체형\")[\"BMI\"].transform(lambda x: x.fillna(x.mean()))         "
   ]
  },
  {
   "cell_type": "code",
   "execution_count": 30,
   "metadata": {
    "colab": {
     "base_uri": "https://localhost:8080/",
     "height": 107
    },
    "colab_type": "code",
    "id": "LFGY3Ru2e1CU",
    "outputId": "732a00b2-c156-4926-b42e-66768a0e1029"
   },
   "outputs": [
    {
     "data": {
      "text/plain": [
       "체형\n",
       "1    [17.63085399449036, 19.591836734693878, 19.038...\n",
       "2    [24.577867151840145, 22.27524111605147, 21.295...\n",
       "3    [24.609374999999996, 24.221453287197235, 24.03...\n",
       "Name: BMI, dtype: object"
      ]
     },
     "execution_count": 30,
     "metadata": {},
     "output_type": "execute_result"
    }
   ],
   "source": [
    "dataset.groupby(\"체형\")[\"BMI\"].unique()"
   ]
  },
  {
   "cell_type": "code",
   "execution_count": 31,
   "metadata": {
    "colab": {
     "base_uri": "https://localhost:8080/",
     "height": 53
    },
    "colab_type": "code",
    "id": "nKf8QCxYfrbo",
    "outputId": "44161c6d-d9fb-4bfe-cf7c-cff4cbab3b8b"
   },
   "outputs": [
    {
     "name": "stdout",
     "output_type": "stream",
     "text": [
      "      Attribute| Null_Val|   Data Type\n",
      "--------------------------------------------------\n"
     ]
    }
   ],
   "source": [
    "dataset = dataset.reset_index(level=0,drop=True)\n",
    "null_values = dataset.isnull().sum()\n",
    "sorted_null_values = sorted(null_values.items(), reverse=True, key=operator.itemgetter(1))\n",
    "print(\"%15s| %5s|%12s\" % (\"Attribute\", \"Null_Val\", \"Data Type\"))\n",
    "print('-'*50)\n",
    "for (k, v) in sorted_null_values:\n",
    "    if v > 0:\n",
    "        print(\"%15s %5d %12s\" % (k, v, dataset[k].dtype))"
   ]
  },
  {
   "cell_type": "markdown",
   "metadata": {
    "colab_type": "text",
    "id": "z1ORWFaMm4p2"
   },
   "source": [
    "## OneHotEncoder & Label Encoder\n",
    "\n",
    " \n",
    "1. Categorical variable(numeric에 의미가 있음)   \n",
    "ex) 0: 아니다 1: 약간 아니다 2: 그렇다 등등\n",
    "\n",
    "2. Categorical variable(numeric에 의미가 **없음**)   \n",
    "ex) 전화번호(010-1234-5678, 060-1212-3434 ...)\n",
    "\n",
    "3. Numeric Variable   \n",
    "ex) BMI 등등\n",
    "\n",
    "를 구분해보자"
   ]
  },
  {
   "cell_type": "markdown",
   "metadata": {
    "colab_type": "text",
    "id": "EHcNbbv53uOj"
   },
   "source": [
    "---\n",
    "1. Categorical variable(numeric에 의미가 있음)   \n",
    "ex) 나머지\n",
    "\n",
    "2. Categorical variable(numeric에 의미가 **없음**)  \n",
    "종류가 2개 형태일 경우 => LabelEncoder \n",
    "종류가 3개 이상일 경우 => OnehotEncoder => LabelEncoder?\n",
    "\n",
    "3. Numeric Variable   \n",
    "ex)  키, 체중, BMI \n",
    "\n",
    "\n",
    "---"
   ]
  },
  {
   "cell_type": "code",
   "execution_count": 32,
   "metadata": {
    "colab": {},
    "colab_type": "code",
    "id": "QQUMt01_AbVt"
   },
   "outputs": [],
   "source": [
    "dataset[dataset.columns] = dataset[dataset.columns].astype('category')"
   ]
  },
  {
   "cell_type": "code",
   "execution_count": 33,
   "metadata": {
    "colab": {},
    "colab_type": "code",
    "id": "fg6IT60zA5mZ"
   },
   "outputs": [],
   "source": [
    "int_columns = ['연령','스마트폰앱이용갯수','스마트폰앱이용시간','BMI']"
   ]
  },
  {
   "cell_type": "code",
   "execution_count": 34,
   "metadata": {
    "colab": {},
    "colab_type": "code",
    "id": "S6guJweAAvIO"
   },
   "outputs": [],
   "source": [
    "dataset[int_columns] = dataset[int_columns].astype('int')"
   ]
  },
  {
   "cell_type": "code",
   "execution_count": 35,
   "metadata": {
    "colab": {
     "base_uri": "https://localhost:8080/",
     "height": 107
    },
    "colab_type": "code",
    "id": "UiIhod6FBI7V",
    "outputId": "60710cfe-2247-4cb8-b6e2-035299a0413a"
   },
   "outputs": [
    {
     "data": {
      "text/plain": [
       "연령           int32\n",
       "스마트폰앱이용갯수    int32\n",
       "스마트폰앱이용시간    int32\n",
       "BMI          int32\n",
       "dtype: object"
      ]
     },
     "execution_count": 35,
     "metadata": {},
     "output_type": "execute_result"
    }
   ],
   "source": [
    "dataset.dtypes[dataset.dtypes != 'category']"
   ]
  },
  {
   "cell_type": "code",
   "execution_count": 36,
   "metadata": {
    "colab": {
     "base_uri": "https://localhost:8080/",
     "height": 107
    },
    "colab_type": "code",
    "id": "WSWVkru7BK_5",
    "outputId": "58ac7df5-adbf-41d7-b8a8-5b1067ee4300"
   },
   "outputs": [
    {
     "data": {
      "text/plain": [
       "Index(['no', '거주지역', '성별', '연령_그룹', '소셜미디어이용빈도', '운동/다이어트앱이용여부', '지각된민감성_1',\n",
       "       '지각된민감성_2', '지각된민감성_3', '지각된민감성_4',\n",
       "       ...\n",
       "       '문49', '문50', '고지혈증', '고혈압', '당뇨병', '대사증후군', '관절염', '기타', '문52', '문53'],\n",
       "      dtype='object', length=104)"
      ]
     },
     "execution_count": 36,
     "metadata": {},
     "output_type": "execute_result"
    }
   ],
   "source": [
    "dataset.dtypes[dataset.dtypes == 'category'].index"
   ]
  },
  {
   "cell_type": "code",
   "execution_count": 37,
   "metadata": {
    "colab": {
     "base_uri": "https://localhost:8080/",
     "height": 1000
    },
    "colab_type": "code",
    "id": "63Sp4QOO9e5Q",
    "outputId": "df4f0ab1-046b-4f5c-9505-774f0c96de50"
   },
   "outputs": [
    {
     "name": "stdout",
     "output_type": "stream",
     "text": [
      "no              int64\n",
      "거주지역            int64\n",
      "성별              int64\n",
      "연령              int32\n",
      "연령_그룹           int64\n",
      "소셜미디어이용빈도       int64\n",
      "스마트폰앱이용갯수       int32\n",
      "스마트폰앱이용시간       int32\n",
      "운동/다이어트앱이용여부    int64\n",
      "지각된민감성_1        int64\n",
      "지각된민감성_2        int64\n",
      "지각된민감성_3        int64\n",
      "지각된민감성_4        int64\n",
      "지각된민감성_5        int64\n",
      "지각된심각성_1        int64\n",
      "지각된심각성_2        int64\n",
      "지각된심각성_3        int64\n",
      "지각된심각성_4        int64\n",
      "지각된심각성_5        int64\n",
      "운동의유익성_1        int64\n",
      "운동의유익성_2        int64\n",
      "운동의유익성_3        int64\n",
      "운동의유익성_4        int64\n",
      "운동의유익성_5        int64\n",
      "운동의유익성_6        int64\n",
      "운동의유익성_7        int64\n",
      "운동의유익성_8        int64\n",
      "운동에대한장애_1       int64\n",
      "운동에대한장애_2       int64\n",
      "운동에대한장애_3       int64\n",
      "                ...  \n",
      "문17_1           int64\n",
      "문17_2           int64\n",
      "문17_3           int64\n",
      "문17_4           int64\n",
      "문18_1           int64\n",
      "문18_2           int64\n",
      "문18_3           int64\n",
      "문18_4           int64\n",
      "문18_5           int64\n",
      "문18_6           int64\n",
      "문19_1           int64\n",
      "문19_2           int64\n",
      "문19_3           int64\n",
      "문19_4           int64\n",
      "문19_5           int64\n",
      "문20_1           int64\n",
      "문20_2           int64\n",
      "문20_3           int64\n",
      "문20_4           int64\n",
      "문21             int64\n",
      "문49             int64\n",
      "문50             int64\n",
      "고지혈증            int64\n",
      "고혈압             int64\n",
      "당뇨병             int64\n",
      "대사증후군           int64\n",
      "관절염             int64\n",
      "기타              int64\n",
      "문52             int64\n",
      "문53             int64\n",
      "Length: 108, dtype: object\n"
     ]
    }
   ],
   "source": [
    "from sklearn.preprocessing import LabelEncoder\n",
    "\n",
    "for column in dataset.dtypes[dataset.dtypes == 'category'].index:\n",
    "    le = LabelEncoder()\n",
    "    dataset[column] = le.fit_transform(dataset[column])\n",
    "\n",
    "print(dataset.dtypes)"
   ]
  },
  {
   "cell_type": "markdown",
   "metadata": {
    "colab_type": "text",
    "id": "rM5cFZg9PnV4"
   },
   "source": [
    "## Check the Correlation"
   ]
  },
  {
   "cell_type": "code",
   "execution_count": 38,
   "metadata": {
    "colab": {
     "base_uri": "https://localhost:8080/",
     "height": 1000
    },
    "colab_type": "code",
    "id": "CZfvyseUs2P9",
    "outputId": "b6a32a20-5e16-4cb2-b90e-e83becd95d1c"
   },
   "outputs": [
    {
     "data": {
      "text/plain": [
       "건강생활을 위한 앱 이용     0.412236\n",
       "체중조절              0.217084\n",
       "스스로 규칙적인 운동       0.209165\n",
       "스스로 식사조절          0.195607\n",
       "관리를 위한 전문기관 이용    0.112389\n",
       "운동에대한장애_7         0.072694\n",
       "비만인식              0.072094\n",
       "운동에대한장애_6         0.070346\n",
       "운동에대한장애_4         0.067390\n",
       "문17_4             0.062457\n",
       "문17_3             0.052541\n",
       "연령                0.047807\n",
       "문50               0.047192\n",
       "연령_그룹             0.046933\n",
       "거주지역              0.042922\n",
       "대사증후군             0.035695\n",
       "당뇨병               0.034976\n",
       "문17_2             0.034473\n",
       "운동에대한장애_5         0.027329\n",
       "관절염               0.026559\n",
       "고혈압               0.025498\n",
       "문21               0.022458\n",
       "운동에대한장애_3         0.019884\n",
       "기타                0.017867\n",
       "운동에대한장애_1         0.001955\n",
       "운동에대한장애_2         0.000635\n",
       "고지혈증             -0.005640\n",
       "문49              -0.006887\n",
       "성별               -0.008085\n",
       "문17_1            -0.016950\n",
       "                    ...   \n",
       "체중관리효능감_6        -0.122517\n",
       "다이어트의향_5         -0.122670\n",
       "문53              -0.123968\n",
       "지각된민감성_3         -0.125126\n",
       "체중관리효능감_7        -0.125269\n",
       "운동의유익성_7         -0.126772\n",
       "과식성향_9           -0.127023\n",
       "운동의유익성_3         -0.127383\n",
       "문19_2            -0.134011\n",
       "과식성향_8           -0.134897\n",
       "다이어트의향_8         -0.135387\n",
       "운동의유익성_1         -0.137210\n",
       "운동에대한태도_5        -0.138364\n",
       "체중관리효능감_5        -0.139026\n",
       "스마트폰앱이용시간        -0.139254\n",
       "과식성향_3           -0.140449\n",
       "운동의유익성_4         -0.140723\n",
       "체중관리효능감_1        -0.141549\n",
       "운동의유익성_5         -0.141941\n",
       "다이어트의향_2         -0.159076\n",
       "운동의유익성_8         -0.160542\n",
       "운동의유익성_2         -0.160676\n",
       "운동의유익성_6         -0.163293\n",
       "다이어트의향_1         -0.166089\n",
       "다이어트의향_7         -0.208998\n",
       "소셜미디어이용빈도        -0.232667\n",
       "스마트폰앱이용갯수        -0.233500\n",
       "주관적규범_1          -0.236777\n",
       "주관적규범_3          -0.282434\n",
       "주관적규범_2          -0.296515\n",
       "Name: 운동/다이어트앱이용여부, Length: 106, dtype: float64"
      ]
     },
     "execution_count": 38,
     "metadata": {},
     "output_type": "execute_result"
    }
   ],
   "source": [
    "corr = dataset.iloc[:,1:].corr()\n",
    "corr_list = corr['운동/다이어트앱이용여부'].sort_values(axis=0,ascending=False).iloc[1:]\n",
    "corr_list"
   ]
  },
  {
   "cell_type": "code",
   "execution_count": 39,
   "metadata": {
    "colab": {
     "base_uri": "https://localhost:8080/",
     "height": 80
    },
    "colab_type": "code",
    "id": "80P9tAYixbOS",
    "outputId": "8b50aef0-0dae-4bac-d9a1-5d7a7ab36a79"
   },
   "outputs": [
    {
     "data": {
      "text/html": [
       "<div>\n",
       "<style scoped>\n",
       "    .dataframe tbody tr th:only-of-type {\n",
       "        vertical-align: middle;\n",
       "    }\n",
       "\n",
       "    .dataframe tbody tr th {\n",
       "        vertical-align: top;\n",
       "    }\n",
       "\n",
       "    .dataframe thead th {\n",
       "        text-align: right;\n",
       "    }\n",
       "</style>\n",
       "<table border=\"1\" class=\"dataframe\">\n",
       "  <thead>\n",
       "    <tr style=\"text-align: right;\">\n",
       "      <th></th>\n",
       "      <th>index</th>\n",
       "      <th>운동/다이어트앱이용여부</th>\n",
       "    </tr>\n",
       "  </thead>\n",
       "  <tbody>\n",
       "    <tr>\n",
       "      <th>0</th>\n",
       "      <td>건강생활을 위한 앱 이용</td>\n",
       "      <td>0.412236</td>\n",
       "    </tr>\n",
       "  </tbody>\n",
       "</table>\n",
       "</div>"
      ],
      "text/plain": [
       "           index  운동/다이어트앱이용여부\n",
       "0  건강생활을 위한 앱 이용      0.412236"
      ]
     },
     "execution_count": 39,
     "metadata": {},
     "output_type": "execute_result"
    }
   ],
   "source": [
    "corr_list = pd.DataFrame(corr_list)\n",
    "corr_list.reset_index(level=0, inplace=True)\n",
    "corr_list[corr_list['운동/다이어트앱이용여부'] > 0.4]"
   ]
  },
  {
   "cell_type": "code",
   "execution_count": 40,
   "metadata": {
    "colab": {
     "base_uri": "https://localhost:8080/",
     "height": 35
    },
    "colab_type": "code",
    "id": "kR4dbow4PcHh",
    "outputId": "9078c55d-a903-4469-fd28-3142e120cb86"
   },
   "outputs": [
    {
     "data": {
      "text/plain": [
       "(1497, 108)"
      ]
     },
     "execution_count": 40,
     "metadata": {},
     "output_type": "execute_result"
    }
   ],
   "source": [
    "dataset.shape"
   ]
  },
  {
   "cell_type": "code",
   "execution_count": 41,
   "metadata": {
    "colab": {
     "base_uri": "https://localhost:8080/",
     "height": 361
    },
    "colab_type": "code",
    "id": "fRE9uzVLUU2L",
    "outputId": "004c928b-77be-4afc-9cb3-193e4187dda9"
   },
   "outputs": [
    {
     "data": {
      "text/html": [
       "<div>\n",
       "<style scoped>\n",
       "    .dataframe tbody tr th:only-of-type {\n",
       "        vertical-align: middle;\n",
       "    }\n",
       "\n",
       "    .dataframe tbody tr th {\n",
       "        vertical-align: top;\n",
       "    }\n",
       "\n",
       "    .dataframe thead th {\n",
       "        text-align: right;\n",
       "    }\n",
       "</style>\n",
       "<table border=\"1\" class=\"dataframe\">\n",
       "  <thead>\n",
       "    <tr style=\"text-align: right;\">\n",
       "      <th></th>\n",
       "      <th>no</th>\n",
       "      <th>거주지역</th>\n",
       "      <th>성별</th>\n",
       "      <th>연령</th>\n",
       "      <th>연령_그룹</th>\n",
       "      <th>소셜미디어이용빈도</th>\n",
       "      <th>스마트폰앱이용갯수</th>\n",
       "      <th>스마트폰앱이용시간</th>\n",
       "      <th>운동/다이어트앱이용여부</th>\n",
       "      <th>지각된민감성_1</th>\n",
       "      <th>...</th>\n",
       "      <th>문49</th>\n",
       "      <th>문50</th>\n",
       "      <th>고지혈증</th>\n",
       "      <th>고혈압</th>\n",
       "      <th>당뇨병</th>\n",
       "      <th>대사증후군</th>\n",
       "      <th>관절염</th>\n",
       "      <th>기타</th>\n",
       "      <th>문52</th>\n",
       "      <th>문53</th>\n",
       "    </tr>\n",
       "  </thead>\n",
       "  <tbody>\n",
       "    <tr>\n",
       "      <th>0</th>\n",
       "      <td>0</td>\n",
       "      <td>8</td>\n",
       "      <td>1</td>\n",
       "      <td>63</td>\n",
       "      <td>4</td>\n",
       "      <td>4</td>\n",
       "      <td>5</td>\n",
       "      <td>1</td>\n",
       "      <td>1</td>\n",
       "      <td>2</td>\n",
       "      <td>...</td>\n",
       "      <td>0</td>\n",
       "      <td>0</td>\n",
       "      <td>1</td>\n",
       "      <td>0</td>\n",
       "      <td>1</td>\n",
       "      <td>1</td>\n",
       "      <td>1</td>\n",
       "      <td>1</td>\n",
       "      <td>2</td>\n",
       "      <td>3</td>\n",
       "    </tr>\n",
       "    <tr>\n",
       "      <th>1</th>\n",
       "      <td>1</td>\n",
       "      <td>2</td>\n",
       "      <td>0</td>\n",
       "      <td>36</td>\n",
       "      <td>1</td>\n",
       "      <td>5</td>\n",
       "      <td>20</td>\n",
       "      <td>10</td>\n",
       "      <td>0</td>\n",
       "      <td>1</td>\n",
       "      <td>...</td>\n",
       "      <td>1</td>\n",
       "      <td>1</td>\n",
       "      <td>1</td>\n",
       "      <td>1</td>\n",
       "      <td>1</td>\n",
       "      <td>1</td>\n",
       "      <td>1</td>\n",
       "      <td>1</td>\n",
       "      <td>4</td>\n",
       "      <td>3</td>\n",
       "    </tr>\n",
       "    <tr>\n",
       "      <th>2</th>\n",
       "      <td>2</td>\n",
       "      <td>8</td>\n",
       "      <td>1</td>\n",
       "      <td>21</td>\n",
       "      <td>0</td>\n",
       "      <td>5</td>\n",
       "      <td>15</td>\n",
       "      <td>5</td>\n",
       "      <td>0</td>\n",
       "      <td>0</td>\n",
       "      <td>...</td>\n",
       "      <td>1</td>\n",
       "      <td>1</td>\n",
       "      <td>1</td>\n",
       "      <td>1</td>\n",
       "      <td>1</td>\n",
       "      <td>1</td>\n",
       "      <td>1</td>\n",
       "      <td>1</td>\n",
       "      <td>3</td>\n",
       "      <td>0</td>\n",
       "    </tr>\n",
       "  </tbody>\n",
       "</table>\n",
       "<p>3 rows × 108 columns</p>\n",
       "</div>"
      ],
      "text/plain": [
       "   no  거주지역  성별  연령  연령_그룹  소셜미디어이용빈도  스마트폰앱이용갯수  스마트폰앱이용시간  운동/다이어트앱이용여부  \\\n",
       "0   0     8   1  63      4          4          5          1             1   \n",
       "1   1     2   0  36      1          5         20         10             0   \n",
       "2   2     8   1  21      0          5         15          5             0   \n",
       "\n",
       "   지각된민감성_1  ...  문49  문50  고지혈증  고혈압  당뇨병  대사증후군  관절염  기타  문52  문53  \n",
       "0         2  ...    0    0     1    0    1      1    1   1    2    3  \n",
       "1         1  ...    1    1     1    1    1      1    1   1    4    3  \n",
       "2         0  ...    1    1     1    1    1      1    1   1    3    0  \n",
       "\n",
       "[3 rows x 108 columns]"
      ]
     },
     "execution_count": 41,
     "metadata": {},
     "output_type": "execute_result"
    }
   ],
   "source": [
    "dataset.head(3)"
   ]
  },
  {
   "cell_type": "markdown",
   "metadata": {
    "colab_type": "text",
    "id": "UTtxtvTAgUK7"
   },
   "source": [
    "# Split train and test set"
   ]
  },
  {
   "cell_type": "code",
   "execution_count": 42,
   "metadata": {
    "colab": {},
    "colab_type": "code",
    "id": "kM-hjIfGPw1S"
   },
   "outputs": [],
   "source": [
    "X = dataset"
   ]
  },
  {
   "cell_type": "code",
   "execution_count": 43,
   "metadata": {
    "colab": {},
    "colab_type": "code",
    "id": "TeVl2peGUkfm"
   },
   "outputs": [],
   "source": [
    "X = X.drop('운동/다이어트앱이용여부',axis=1)"
   ]
  },
  {
   "cell_type": "code",
   "execution_count": 44,
   "metadata": {},
   "outputs": [],
   "source": [
    "X = X.drop('건강생활을 위한 앱 이용',axis=1)"
   ]
  },
  {
   "cell_type": "code",
   "execution_count": 45,
   "metadata": {
    "colab": {},
    "colab_type": "code",
    "id": "Zdkgq4Jugf2h"
   },
   "outputs": [],
   "source": [
    "y = dataset['운동/다이어트앱이용여부']"
   ]
  },
  {
   "cell_type": "code",
   "execution_count": 75,
   "metadata": {
    "colab": {},
    "colab_type": "code",
    "id": "5ciNCkJIgj-n"
   },
   "outputs": [],
   "source": [
    "from sklearn.model_selection import train_test_split\n",
    "\n",
    "X_train, X_test, y_train, y_test = train_test_split(X, y, test_size=0.2, random_state=1994)\n",
    "#X_train, X_val, y_train, y_val = train_test_split(X_train, y_train, test_size=0.2, random_state=1)"
   ]
  },
  {
   "cell_type": "code",
   "execution_count": 47,
   "metadata": {
    "colab": {
     "base_uri": "https://localhost:8080/",
     "height": 35
    },
    "colab_type": "code",
    "id": "WWDDJloDdlfE",
    "outputId": "f2847825-afb2-4389-9641-64eadb077f0e"
   },
   "outputs": [
    {
     "data": {
      "text/plain": [
       "0.6227316141356256"
      ]
     },
     "execution_count": 47,
     "metadata": {},
     "output_type": "execute_result"
    }
   ],
   "source": [
    "y_train.mean()"
   ]
  },
  {
   "cell_type": "code",
   "execution_count": 48,
   "metadata": {
    "colab": {
     "base_uri": "https://localhost:8080/",
     "height": 35
    },
    "colab_type": "code",
    "id": "o4dV0aA9dqGi",
    "outputId": "7f63a901-3d93-44dc-8181-b73aed30be3a"
   },
   "outputs": [
    {
     "data": {
      "text/plain": [
       "0.6333333333333333"
      ]
     },
     "execution_count": 48,
     "metadata": {},
     "output_type": "execute_result"
    }
   ],
   "source": [
    "y_test.mean()"
   ]
  },
  {
   "cell_type": "code",
   "execution_count": 49,
   "metadata": {},
   "outputs": [
    {
     "data": {
      "text/plain": [
       "((1047, 106), (450, 106))"
      ]
     },
     "execution_count": 49,
     "metadata": {},
     "output_type": "execute_result"
    }
   ],
   "source": [
    "X_train.shape, X_test.shape"
   ]
  },
  {
   "cell_type": "code",
   "execution_count": 50,
   "metadata": {
    "colab": {},
    "colab_type": "code",
    "id": "XXT5i36Eg9OI"
   },
   "outputs": [],
   "source": [
    "X_train_ID = X_train['no']\n",
    "X_test_ID = X_test['no']"
   ]
  },
  {
   "cell_type": "markdown",
   "metadata": {
    "colab_type": "text",
    "id": "EGJ-KgLIgBu4"
   },
   "source": [
    "# Modeling"
   ]
  },
  {
   "cell_type": "markdown",
   "metadata": {
    "colab_type": "text",
    "id": "RWbNw8DfW-nE"
   },
   "source": [
    "---"
   ]
  },
  {
   "cell_type": "markdown",
   "metadata": {
    "colab_type": "text",
    "id": "bIXkkCVxd1m6"
   },
   "source": [
    "## XGBoost Classifier"
   ]
  },
  {
   "cell_type": "code",
   "execution_count": null,
   "metadata": {},
   "outputs": [],
   "source": []
  },
  {
   "cell_type": "code",
   "execution_count": 51,
   "metadata": {
    "colab": {},
    "colab_type": "code",
    "id": "TXPrOv2GeXiC"
   },
   "outputs": [],
   "source": [
    "import numpy as np\n",
    "import pandas as pd\n",
    "from datetime import datetime\n",
    "from xgboost import XGBClassifier\n",
    "import xgboost as xgb\n",
    "from sklearn.model_selection import GridSearchCV   #Perforing grid search\n",
    "from sklearn.model_selection import train_test_split\n",
    "from sklearn.metrics import confusion_matrix, accuracy_score, classification_report\n",
    "from sklearn.model_selection import cross_val_score\n",
    "from sklearn.model_selection import StratifiedKFold"
   ]
  },
  {
   "cell_type": "code",
   "execution_count": 52,
   "metadata": {
    "colab": {},
    "colab_type": "code",
    "id": "itQ74j1UeXiN"
   },
   "outputs": [],
   "source": [
    "xgb_clf = XGBClassifier(max_depth = 6, learning_rate= 0.03,n_estimators=200)"
   ]
  },
  {
   "cell_type": "code",
   "execution_count": 53,
   "metadata": {
    "colab": {
     "base_uri": "https://localhost:8080/",
     "height": 143
    },
    "colab_type": "code",
    "id": "wpVISDXzfZLv",
    "outputId": "5ee8a175-4733-40e7-906e-064019d7894b"
   },
   "outputs": [
    {
     "data": {
      "text/plain": [
       "XGBClassifier(base_score=0.5, booster='gbtree', colsample_bylevel=1,\n",
       "       colsample_bynode=1, colsample_bytree=1, gamma=0, learning_rate=0.03,\n",
       "       max_delta_step=0, max_depth=6, min_child_weight=1, missing=None,\n",
       "       n_estimators=200, n_jobs=1, nthread=None,\n",
       "       objective='binary:logistic', random_state=0, reg_alpha=0,\n",
       "       reg_lambda=1, scale_pos_weight=1, seed=None, silent=None,\n",
       "       subsample=1, verbosity=1)"
      ]
     },
     "execution_count": 53,
     "metadata": {},
     "output_type": "execute_result"
    }
   ],
   "source": [
    "xgb_clf.fit(X_train.iloc[:,1:],y_train)"
   ]
  },
  {
   "cell_type": "code",
   "execution_count": 54,
   "metadata": {
    "colab": {
     "base_uri": "https://localhost:8080/",
     "height": 35
    },
    "colab_type": "code",
    "id": "7gYPfSeLeXib",
    "outputId": "e2553dc1-8d42-4b79-e782-efe47305503e"
   },
   "outputs": [
    {
     "data": {
      "text/plain": [
       "array([0.68571429, 0.67908309, 0.70114943])"
      ]
     },
     "execution_count": 54,
     "metadata": {},
     "output_type": "execute_result"
    }
   ],
   "source": [
    "cross_val_score(xgb_clf, X_train.iloc[:,1:], y_train, cv=3, scoring=\"accuracy\")"
   ]
  },
  {
   "cell_type": "code",
   "execution_count": 55,
   "metadata": {
    "colab": {
     "base_uri": "https://localhost:8080/",
     "height": 35
    },
    "colab_type": "code",
    "id": "gAlotkJUeXig",
    "outputId": "5932345b-b088-4b27-ebcf-c080836fe4d3"
   },
   "outputs": [
    {
     "name": "stdout",
     "output_type": "stream",
     "text": [
      "0.7088888888888889\n"
     ]
    }
   ],
   "source": [
    "xgb_pred = xgb_clf.predict(X_test.iloc[:,1:])\n",
    "print(accuracy_score(y_test, xgb_pred))"
   ]
  },
  {
   "cell_type": "code",
   "execution_count": 56,
   "metadata": {
    "colab": {},
    "colab_type": "code",
    "id": "aeDNIP_C6mie"
   },
   "outputs": [],
   "source": [
    "xgb_FI = xgb_clf.get_booster().get_score(importance_type='gain')\n",
    "xgb_FI = pd.DataFrame.from_dict(xgb_FI,orient='index').sort_values(by=0,ascending=False)\n"
   ]
  },
  {
   "cell_type": "code",
   "execution_count": 57,
   "metadata": {
    "colab": {},
    "colab_type": "code",
    "id": "FSM9lTvIk8nO"
   },
   "outputs": [],
   "source": [
    "xgb_FI[0] = list(map(lambda x: x*100/xgb_FI[0].sum(), xgb_FI[0]))"
   ]
  },
  {
   "cell_type": "code",
   "execution_count": 59,
   "metadata": {
    "colab": {
     "base_uri": "https://localhost:8080/",
     "height": 359
    },
    "colab_type": "code",
    "id": "vN8jx2El6mil",
    "outputId": "1a4c40f3-a851-4890-bb44-1f24a19cc90b"
   },
   "outputs": [
    {
     "data": {
      "text/html": [
       "<div>\n",
       "<style scoped>\n",
       "    .dataframe tbody tr th:only-of-type {\n",
       "        vertical-align: middle;\n",
       "    }\n",
       "\n",
       "    .dataframe tbody tr th {\n",
       "        vertical-align: top;\n",
       "    }\n",
       "\n",
       "    .dataframe thead th {\n",
       "        text-align: right;\n",
       "    }\n",
       "</style>\n",
       "<table border=\"1\" class=\"dataframe\">\n",
       "  <thead>\n",
       "    <tr style=\"text-align: right;\">\n",
       "      <th></th>\n",
       "      <th>0</th>\n",
       "    </tr>\n",
       "  </thead>\n",
       "  <tbody>\n",
       "    <tr>\n",
       "      <th>주관적규범_2</th>\n",
       "      <td>4.591830</td>\n",
       "    </tr>\n",
       "    <tr>\n",
       "      <th>소셜미디어이용빈도</th>\n",
       "      <td>2.589588</td>\n",
       "    </tr>\n",
       "    <tr>\n",
       "      <th>주관적규범_3</th>\n",
       "      <td>1.981164</td>\n",
       "    </tr>\n",
       "    <tr>\n",
       "      <th>스스로 규칙적인 운동</th>\n",
       "      <td>1.907834</td>\n",
       "    </tr>\n",
       "    <tr>\n",
       "      <th>스마트폰앱이용갯수</th>\n",
       "      <td>1.764452</td>\n",
       "    </tr>\n",
       "    <tr>\n",
       "      <th>과식성향_9</th>\n",
       "      <td>1.576462</td>\n",
       "    </tr>\n",
       "    <tr>\n",
       "      <th>스스로 식사조절</th>\n",
       "      <td>1.466180</td>\n",
       "    </tr>\n",
       "    <tr>\n",
       "      <th>운동에대한태도_5</th>\n",
       "      <td>1.465235</td>\n",
       "    </tr>\n",
       "    <tr>\n",
       "      <th>다이어트의향_7</th>\n",
       "      <td>1.411087</td>\n",
       "    </tr>\n",
       "    <tr>\n",
       "      <th>문19_2</th>\n",
       "      <td>1.398903</td>\n",
       "    </tr>\n",
       "  </tbody>\n",
       "</table>\n",
       "</div>"
      ],
      "text/plain": [
       "                    0\n",
       "주관적규범_2      4.591830\n",
       "소셜미디어이용빈도    2.589588\n",
       "주관적규범_3      1.981164\n",
       "스스로 규칙적인 운동  1.907834\n",
       "스마트폰앱이용갯수    1.764452\n",
       "과식성향_9       1.576462\n",
       "스스로 식사조절     1.466180\n",
       "운동에대한태도_5    1.465235\n",
       "다이어트의향_7     1.411087\n",
       "문19_2        1.398903"
      ]
     },
     "execution_count": 59,
     "metadata": {},
     "output_type": "execute_result"
    }
   ],
   "source": [
    "xgb_FI.head(10)"
   ]
  },
  {
   "cell_type": "markdown",
   "metadata": {
    "colab_type": "text",
    "id": "k9oYSbnDUnXE"
   },
   "source": [
    "### GridSearchCV로 최적의 parameter찾기"
   ]
  },
  {
   "cell_type": "code",
   "execution_count": 88,
   "metadata": {
    "colab": {},
    "colab_type": "code",
    "id": "c4iVMDkvUm0k"
   },
   "outputs": [],
   "source": [
    "def timer(start_time=None):\n",
    "    if not start_time:\n",
    "        start_time = datetime.now()\n",
    "        return start_time\n",
    "    elif start_time:\n",
    "        thour, temp_sec = divmod((datetime.now() - start_time).total_seconds(), 3600)\n",
    "        tmin, tsec = divmod(temp_sec, 60)\n",
    "        print('\\n Time taken: %i hours %i minutes and %s seconds.' % (thour, tmin, round(tsec, 2)))"
   ]
  },
  {
   "cell_type": "code",
   "execution_count": 96,
   "metadata": {
    "colab": {},
    "colab_type": "code",
    "id": "vsJZAyjjU2bU"
   },
   "outputs": [],
   "source": [
    "params1 = {'nthread':[0,4], #when use hyperthread, xgboost may become slower\n",
    "              'objective':['binary:logistic'],\n",
    "              'learning_rate': [0.02,0.08,0.15], #so called `eta` value\n",
    "              'max_depth': [3,14,23,31],\n",
    "              'min_child_weight': [3,5,6,10,15],\n",
    "              'silent': [1],\n",
    "              'subsample': [0.3,1.0],\n",
    "              'colsample_bytree': [0.4,0.5,0.8,1.0],\n",
    "              'n_estimators': [100,600,800], #number of trees\n",
    "         'random_state':[1994],\n",
    "        'scale_pos_weight' :[0.1,0.6,1.0]\n",
    "         }"
   ]
  },
  {
   "cell_type": "code",
   "execution_count": 97,
   "metadata": {
    "colab": {},
    "colab_type": "code",
    "id": "dqMNHf0NU3Zx"
   },
   "outputs": [],
   "source": [
    "xgb = XGBClassifier()"
   ]
  },
  {
   "cell_type": "code",
   "execution_count": 91,
   "metadata": {
    "colab": {
     "base_uri": "https://localhost:8080/",
     "height": 423
    },
    "colab_type": "code",
    "id": "yTa96ghsXuff",
    "outputId": "93fc8214-7350-41b7-bc50-9b20eb9ea30d"
   },
   "outputs": [
    {
     "data": {
      "text/html": [
       "<div>\n",
       "<style scoped>\n",
       "    .dataframe tbody tr th:only-of-type {\n",
       "        vertical-align: middle;\n",
       "    }\n",
       "\n",
       "    .dataframe tbody tr th {\n",
       "        vertical-align: top;\n",
       "    }\n",
       "\n",
       "    .dataframe thead th {\n",
       "        text-align: right;\n",
       "    }\n",
       "</style>\n",
       "<table border=\"1\" class=\"dataframe\">\n",
       "  <thead>\n",
       "    <tr style=\"text-align: right;\">\n",
       "      <th></th>\n",
       "      <th>거주지역</th>\n",
       "      <th>성별</th>\n",
       "      <th>연령</th>\n",
       "      <th>연령_그룹</th>\n",
       "      <th>소셜미디어이용빈도</th>\n",
       "      <th>스마트폰앱이용갯수</th>\n",
       "      <th>스마트폰앱이용시간</th>\n",
       "      <th>지각된민감성_1</th>\n",
       "      <th>지각된민감성_2</th>\n",
       "      <th>지각된민감성_3</th>\n",
       "      <th>...</th>\n",
       "      <th>문49</th>\n",
       "      <th>문50</th>\n",
       "      <th>고지혈증</th>\n",
       "      <th>고혈압</th>\n",
       "      <th>당뇨병</th>\n",
       "      <th>대사증후군</th>\n",
       "      <th>관절염</th>\n",
       "      <th>기타</th>\n",
       "      <th>문52</th>\n",
       "      <th>문53</th>\n",
       "    </tr>\n",
       "  </thead>\n",
       "  <tbody>\n",
       "    <tr>\n",
       "      <th>0</th>\n",
       "      <td>8</td>\n",
       "      <td>1</td>\n",
       "      <td>63</td>\n",
       "      <td>4</td>\n",
       "      <td>4</td>\n",
       "      <td>5</td>\n",
       "      <td>1</td>\n",
       "      <td>2</td>\n",
       "      <td>1</td>\n",
       "      <td>2</td>\n",
       "      <td>...</td>\n",
       "      <td>0</td>\n",
       "      <td>0</td>\n",
       "      <td>1</td>\n",
       "      <td>0</td>\n",
       "      <td>1</td>\n",
       "      <td>1</td>\n",
       "      <td>1</td>\n",
       "      <td>1</td>\n",
       "      <td>2</td>\n",
       "      <td>3</td>\n",
       "    </tr>\n",
       "    <tr>\n",
       "      <th>1</th>\n",
       "      <td>2</td>\n",
       "      <td>0</td>\n",
       "      <td>36</td>\n",
       "      <td>1</td>\n",
       "      <td>5</td>\n",
       "      <td>20</td>\n",
       "      <td>10</td>\n",
       "      <td>1</td>\n",
       "      <td>1</td>\n",
       "      <td>1</td>\n",
       "      <td>...</td>\n",
       "      <td>1</td>\n",
       "      <td>1</td>\n",
       "      <td>1</td>\n",
       "      <td>1</td>\n",
       "      <td>1</td>\n",
       "      <td>1</td>\n",
       "      <td>1</td>\n",
       "      <td>1</td>\n",
       "      <td>4</td>\n",
       "      <td>3</td>\n",
       "    </tr>\n",
       "    <tr>\n",
       "      <th>2</th>\n",
       "      <td>8</td>\n",
       "      <td>1</td>\n",
       "      <td>21</td>\n",
       "      <td>0</td>\n",
       "      <td>5</td>\n",
       "      <td>15</td>\n",
       "      <td>5</td>\n",
       "      <td>0</td>\n",
       "      <td>1</td>\n",
       "      <td>1</td>\n",
       "      <td>...</td>\n",
       "      <td>1</td>\n",
       "      <td>1</td>\n",
       "      <td>1</td>\n",
       "      <td>1</td>\n",
       "      <td>1</td>\n",
       "      <td>1</td>\n",
       "      <td>1</td>\n",
       "      <td>1</td>\n",
       "      <td>3</td>\n",
       "      <td>0</td>\n",
       "    </tr>\n",
       "    <tr>\n",
       "      <th>3</th>\n",
       "      <td>8</td>\n",
       "      <td>0</td>\n",
       "      <td>31</td>\n",
       "      <td>1</td>\n",
       "      <td>5</td>\n",
       "      <td>1</td>\n",
       "      <td>4</td>\n",
       "      <td>3</td>\n",
       "      <td>3</td>\n",
       "      <td>1</td>\n",
       "      <td>...</td>\n",
       "      <td>0</td>\n",
       "      <td>0</td>\n",
       "      <td>1</td>\n",
       "      <td>1</td>\n",
       "      <td>1</td>\n",
       "      <td>1</td>\n",
       "      <td>1</td>\n",
       "      <td>0</td>\n",
       "      <td>4</td>\n",
       "      <td>2</td>\n",
       "    </tr>\n",
       "    <tr>\n",
       "      <th>4</th>\n",
       "      <td>8</td>\n",
       "      <td>0</td>\n",
       "      <td>54</td>\n",
       "      <td>3</td>\n",
       "      <td>5</td>\n",
       "      <td>30</td>\n",
       "      <td>4</td>\n",
       "      <td>1</td>\n",
       "      <td>3</td>\n",
       "      <td>1</td>\n",
       "      <td>...</td>\n",
       "      <td>1</td>\n",
       "      <td>1</td>\n",
       "      <td>1</td>\n",
       "      <td>1</td>\n",
       "      <td>1</td>\n",
       "      <td>1</td>\n",
       "      <td>1</td>\n",
       "      <td>1</td>\n",
       "      <td>0</td>\n",
       "      <td>2</td>\n",
       "    </tr>\n",
       "  </tbody>\n",
       "</table>\n",
       "<p>5 rows × 105 columns</p>\n",
       "</div>"
      ],
      "text/plain": [
       "   거주지역  성별  연령  연령_그룹  소셜미디어이용빈도  스마트폰앱이용갯수  스마트폰앱이용시간  지각된민감성_1  지각된민감성_2  \\\n",
       "0     8   1  63      4          4          5          1         2         1   \n",
       "1     2   0  36      1          5         20         10         1         1   \n",
       "2     8   1  21      0          5         15          5         0         1   \n",
       "3     8   0  31      1          5          1          4         3         3   \n",
       "4     8   0  54      3          5         30          4         1         3   \n",
       "\n",
       "   지각된민감성_3  ...  문49  문50  고지혈증  고혈압  당뇨병  대사증후군  관절염  기타  문52  문53  \n",
       "0         2  ...    0    0     1    0    1      1    1   1    2    3  \n",
       "1         1  ...    1    1     1    1    1      1    1   1    4    3  \n",
       "2         1  ...    1    1     1    1    1      1    1   1    3    0  \n",
       "3         1  ...    0    0     1    1    1      1    1   0    4    2  \n",
       "4         1  ...    1    1     1    1    1      1    1   1    0    2  \n",
       "\n",
       "[5 rows x 105 columns]"
      ]
     },
     "execution_count": 91,
     "metadata": {},
     "output_type": "execute_result"
    }
   ],
   "source": [
    "X.iloc[:,1:].head()"
   ]
  },
  {
   "cell_type": "code",
   "execution_count": null,
   "metadata": {},
   "outputs": [],
   "source": [
    "import multiprocessing"
   ]
  },
  {
   "cell_type": "code",
   "execution_count": 98,
   "metadata": {},
   "outputs": [
    {
     "name": "stdout",
     "output_type": "stream",
     "text": [
      "Fitting 10 folds for each of 8640 candidates, totalling 86400 fits\n"
     ]
    },
    {
     "name": "stderr",
     "output_type": "stream",
     "text": [
      "[Parallel(n_jobs=-1)]: Using backend LokyBackend with 12 concurrent workers.\n",
      "[Parallel(n_jobs=-1)]: Done   8 tasks      | elapsed:    3.4s\n",
      "[Parallel(n_jobs=-1)]: Done 104 tasks      | elapsed:    7.8s\n",
      "[Parallel(n_jobs=-1)]: Done 264 tasks      | elapsed:   48.0s\n",
      "[Parallel(n_jobs=-1)]: Done 488 tasks      | elapsed:  1.4min\n",
      "[Parallel(n_jobs=-1)]: Done 776 tasks      | elapsed:  2.6min\n",
      "[Parallel(n_jobs=-1)]: Done 1128 tasks      | elapsed:  3.8min\n",
      "[Parallel(n_jobs=-1)]: Done 1544 tasks      | elapsed:  5.0min\n",
      "[Parallel(n_jobs=-1)]: Done 2024 tasks      | elapsed:  6.9min\n",
      "[Parallel(n_jobs=-1)]: Done 2568 tasks      | elapsed:  9.6min\n",
      "[Parallel(n_jobs=-1)]: Done 3176 tasks      | elapsed: 12.3min\n",
      "[Parallel(n_jobs=-1)]: Done 3848 tasks      | elapsed: 15.0min\n",
      "[Parallel(n_jobs=-1)]: Done 4584 tasks      | elapsed: 18.5min\n",
      "[Parallel(n_jobs=-1)]: Done 5384 tasks      | elapsed: 21.8min\n",
      "[Parallel(n_jobs=-1)]: Done 6248 tasks      | elapsed: 25.6min\n",
      "[Parallel(n_jobs=-1)]: Done 7176 tasks      | elapsed: 29.7min\n",
      "[Parallel(n_jobs=-1)]: Done 8168 tasks      | elapsed: 32.8min\n",
      "[Parallel(n_jobs=-1)]: Done 9224 tasks      | elapsed: 36.4min\n",
      "[Parallel(n_jobs=-1)]: Done 10344 tasks      | elapsed: 41.1min\n",
      "[Parallel(n_jobs=-1)]: Done 11528 tasks      | elapsed: 46.0min\n",
      "[Parallel(n_jobs=-1)]: Done 12776 tasks      | elapsed: 50.5min\n",
      "[Parallel(n_jobs=-1)]: Done 14088 tasks      | elapsed: 56.0min\n",
      "[Parallel(n_jobs=-1)]: Done 15464 tasks      | elapsed: 60.7min\n",
      "[Parallel(n_jobs=-1)]: Done 16904 tasks      | elapsed: 66.0min\n",
      "[Parallel(n_jobs=-1)]: Done 18408 tasks      | elapsed: 71.8min\n",
      "[Parallel(n_jobs=-1)]: Done 19976 tasks      | elapsed: 77.4min\n",
      "[Parallel(n_jobs=-1)]: Done 21608 tasks      | elapsed: 83.6min\n",
      "[Parallel(n_jobs=-1)]: Done 23304 tasks      | elapsed: 89.3min\n",
      "[Parallel(n_jobs=-1)]: Done 25064 tasks      | elapsed: 97.6min\n",
      "[Parallel(n_jobs=-1)]: Done 26888 tasks      | elapsed: 106.2min\n",
      "[Parallel(n_jobs=-1)]: Done 28776 tasks      | elapsed: 115.3min\n",
      "[Parallel(n_jobs=-1)]: Done 30728 tasks      | elapsed: 121.8min\n",
      "[Parallel(n_jobs=-1)]: Done 32744 tasks      | elapsed: 131.0min\n",
      "[Parallel(n_jobs=-1)]: Done 34824 tasks      | elapsed: 139.7min\n",
      "[Parallel(n_jobs=-1)]: Done 36968 tasks      | elapsed: 147.9min\n",
      "[Parallel(n_jobs=-1)]: Done 39176 tasks      | elapsed: 156.5min\n",
      "[Parallel(n_jobs=-1)]: Done 41448 tasks      | elapsed: 165.4min\n",
      "[Parallel(n_jobs=-1)]: Done 43784 tasks      | elapsed: 174.8min\n",
      "[Parallel(n_jobs=-1)]: Done 46184 tasks      | elapsed: 187.4min\n",
      "[Parallel(n_jobs=-1)]: Done 48648 tasks      | elapsed: 201.8min\n",
      "[Parallel(n_jobs=-1)]: Done 51176 tasks      | elapsed: 215.7min\n",
      "[Parallel(n_jobs=-1)]: Done 53768 tasks      | elapsed: 228.1min\n",
      "[Parallel(n_jobs=-1)]: Done 56424 tasks      | elapsed: 242.7min\n",
      "[Parallel(n_jobs=-1)]: Done 59144 tasks      | elapsed: 254.8min\n",
      "[Parallel(n_jobs=-1)]: Done 61928 tasks      | elapsed: 268.9min\n",
      "[Parallel(n_jobs=-1)]: Done 64776 tasks      | elapsed: 282.7min\n",
      "[Parallel(n_jobs=-1)]: Done 67688 tasks      | elapsed: 299.3min\n",
      "[Parallel(n_jobs=-1)]: Done 70664 tasks      | elapsed: 319.0min\n",
      "[Parallel(n_jobs=-1)]: Done 73704 tasks      | elapsed: 335.6min\n",
      "[Parallel(n_jobs=-1)]: Done 76808 tasks      | elapsed: 354.4min\n",
      "[Parallel(n_jobs=-1)]: Done 79976 tasks      | elapsed: 372.2min\n",
      "[Parallel(n_jobs=-1)]: Done 83208 tasks      | elapsed: 389.2min\n",
      "[Parallel(n_jobs=-1)]: Done 86400 out of 86400 | elapsed: 406.8min finished\n",
      "C:\\Users\\iThings_lab\\Anaconda3\\envs\\tf_gpu\\lib\\site-packages\\sklearn\\model_selection\\_search.py:841: DeprecationWarning: The default of the `iid` parameter will change from True to False in version 0.22 and will be removed in 0.24. This will change numeric results when test-set sizes are unequal.\n",
      "  DeprecationWarning)\n"
     ]
    },
    {
     "name": "stdout",
     "output_type": "stream",
     "text": [
      "\n",
      " Time taken: 6 hours 46 minutes and 49.13 seconds.\n"
     ]
    }
   ],
   "source": [
    "folds = 10\n",
    "skf = StratifiedKFold(n_splits=folds, shuffle = True, random_state = 1994)\n",
    "\n",
    "gs_xgb_fold10_part1 = GridSearchCV(xgb, params1,\n",
    "                               scoring='roc_auc',n_jobs=-1,\n",
    "                               cv=skf.split(X_train.iloc[:,1:],y_train.values),\n",
    "                               verbose=3, return_train_score=True)\n",
    "# Here we go\n",
    "start_time = timer(None) # timing starts from this point for \"start_time\" variable\n",
    "gs_xgb_fold10_part1.fit(X_train.iloc[:,1:], y_train.values)\n",
    "timer(start_time) # timing ends here for \"start_time\" variable"
   ]
  },
  {
   "cell_type": "code",
   "execution_count": 112,
   "metadata": {},
   "outputs": [
    {
     "name": "stdout",
     "output_type": "stream",
     "text": [
      "----------------------------------------------------------------------------------------------------\n",
      "\n",
      " 1. Best estimator:\n",
      "XGBClassifier(base_score=0.5, booster='gbtree', colsample_bylevel=1,\n",
      "       colsample_bynode=1, colsample_bytree=0.4, gamma=0,\n",
      "       learning_rate=0.02, max_delta_step=0, max_depth=3,\n",
      "       min_child_weight=5, missing=None, n_estimators=100, n_jobs=1,\n",
      "       nthread=0, objective='binary:logistic', random_state=0,\n",
      "       random_state==1994, reg_alpha=0, reg_lambda=1, scale_pos_weight=0.6,\n",
      "       seed=None, silent=1, subsample=1.0, verbosity=1)\n",
      "----------------------------------------------------------------------------------------------------\n",
      "\n",
      " 2. 10 Fold & mean_test_score& std_test_score\n",
      "split0_test_score     0.840351\n",
      "split1_test_score      0.76345\n",
      "split2_test_score     0.784211\n",
      "split3_test_score     0.757476\n",
      "split4_test_score     0.763333\n",
      "split5_test_score     0.776364\n",
      "split6_test_score     0.756061\n",
      "split7_test_score     0.767273\n",
      "split8_test_score     0.766667\n",
      "split9_test_score      0.74303\n",
      "mean_test_score       0.771931\n",
      "std_test_score       0.0252777\n",
      "rank_test_score              1\n",
      "Name: 39, dtype: object\n",
      "----------------------------------------------------------------------------------------------------\n",
      "\n",
      " 3. Best hyperparameters:\n",
      "{'colsample_bytree': 0.4, 'learning_rate': 0.02, 'max_depth': 3, 'min_child_weight': 5, 'n_estimators': 100, 'nthread': 0, 'objective': 'binary:logistic', 'random_state=': 1994, 'scale_pos_weight': 0.6, 'silent': 1, 'subsample': 1.0}\n",
      "----------------------------------------------------------------------------------------------------\n"
     ]
    }
   ],
   "source": [
    "results_xgb_part1 = pd.DataFrame(gs_xgb_fold10_part1.cv_results_)\n",
    "print('-'*100)\n",
    "print('\\n 1. Best estimator:')\n",
    "print(gs_xgb_fold10_part1.best_estimator_)\n",
    "print('-'*100)\n",
    "print('\\n 2. %d Fold & mean_test_score& std_test_score' % folds)\n",
    "print(results_xgb_part1.sort_values(by=['rank_test_score'],ascending=True).iloc[0,-25:-12])\n",
    "print('-'*100)\n",
    "print('\\n 3. Best hyperparameters:')\n",
    "print(gs_xgb_fold10_part1.best_params_)\n",
    "print('-'*100)"
   ]
  },
  {
   "cell_type": "code",
   "execution_count": 121,
   "metadata": {},
   "outputs": [
    {
     "data": {
      "text/plain": [
       "Index(['mean_fit_time', 'std_fit_time', 'mean_score_time', 'std_score_time',\n",
       "       'param_colsample_bytree', 'param_learning_rate', 'param_max_depth',\n",
       "       'param_min_child_weight', 'param_n_estimators', 'param_nthread',\n",
       "       'param_objective', 'param_random_state=', 'param_scale_pos_weight',\n",
       "       'param_silent', 'param_subsample', 'params', 'split0_test_score',\n",
       "       'split1_test_score', 'split2_test_score', 'split3_test_score',\n",
       "       'split4_test_score', 'split5_test_score', 'split6_test_score',\n",
       "       'split7_test_score', 'split8_test_score', 'split9_test_score',\n",
       "       'mean_test_score', 'std_test_score', 'rank_test_score',\n",
       "       'split0_train_score', 'split1_train_score', 'split2_train_score',\n",
       "       'split3_train_score', 'split4_train_score', 'split5_train_score',\n",
       "       'split6_train_score', 'split7_train_score', 'split8_train_score',\n",
       "       'split9_train_score', 'mean_train_score', 'std_train_score'],\n",
       "      dtype='object')"
      ]
     },
     "execution_count": 121,
     "metadata": {},
     "output_type": "execute_result"
    }
   ],
   "source": [
    "results_xgb_part1.columns"
   ]
  },
  {
   "cell_type": "code",
   "execution_count": 144,
   "metadata": {},
   "outputs": [
    {
     "data": {
      "text/html": [
       "<div>\n",
       "<style scoped>\n",
       "    .dataframe tbody tr th:only-of-type {\n",
       "        vertical-align: middle;\n",
       "    }\n",
       "\n",
       "    .dataframe tbody tr th {\n",
       "        vertical-align: top;\n",
       "    }\n",
       "\n",
       "    .dataframe thead th {\n",
       "        text-align: right;\n",
       "    }\n",
       "</style>\n",
       "<table border=\"1\" class=\"dataframe\">\n",
       "  <thead>\n",
       "    <tr style=\"text-align: right;\">\n",
       "      <th></th>\n",
       "      <th>params</th>\n",
       "      <th>split0_test_score</th>\n",
       "      <th>split1_test_score</th>\n",
       "      <th>split2_test_score</th>\n",
       "      <th>split3_test_score</th>\n",
       "      <th>split4_test_score</th>\n",
       "      <th>split5_test_score</th>\n",
       "      <th>split6_test_score</th>\n",
       "      <th>split7_test_score</th>\n",
       "      <th>split8_test_score</th>\n",
       "      <th>split9_test_score</th>\n",
       "      <th>mean_test_score</th>\n",
       "      <th>std_test_score</th>\n",
       "      <th>rank_test_score</th>\n",
       "    </tr>\n",
       "  </thead>\n",
       "  <tbody>\n",
       "    <tr>\n",
       "      <th>5007</th>\n",
       "      <td>{'colsample_bytree': 0.8, 'learning_rate': 0.0...</td>\n",
       "      <td>0.837427</td>\n",
       "      <td>0.762573</td>\n",
       "      <td>0.782456</td>\n",
       "      <td>0.736244</td>\n",
       "      <td>0.754242</td>\n",
       "      <td>0.785455</td>\n",
       "      <td>0.764848</td>\n",
       "      <td>0.762121</td>\n",
       "      <td>0.766667</td>\n",
       "      <td>0.744545</td>\n",
       "      <td>0.769753</td>\n",
       "      <td>0.026791</td>\n",
       "      <td>15</td>\n",
       "    </tr>\n",
       "    <tr>\n",
       "      <th>5013</th>\n",
       "      <td>{'colsample_bytree': 0.8, 'learning_rate': 0.0...</td>\n",
       "      <td>0.837427</td>\n",
       "      <td>0.762573</td>\n",
       "      <td>0.782456</td>\n",
       "      <td>0.736244</td>\n",
       "      <td>0.754242</td>\n",
       "      <td>0.785455</td>\n",
       "      <td>0.764848</td>\n",
       "      <td>0.762121</td>\n",
       "      <td>0.766667</td>\n",
       "      <td>0.744545</td>\n",
       "      <td>0.769753</td>\n",
       "      <td>0.026791</td>\n",
       "      <td>15</td>\n",
       "    </tr>\n",
       "    <tr>\n",
       "      <th>577</th>\n",
       "      <td>{'colsample_bytree': 0.4, 'learning_rate': 0.0...</td>\n",
       "      <td>0.849415</td>\n",
       "      <td>0.761111</td>\n",
       "      <td>0.767836</td>\n",
       "      <td>0.778110</td>\n",
       "      <td>0.769394</td>\n",
       "      <td>0.776364</td>\n",
       "      <td>0.754545</td>\n",
       "      <td>0.767576</td>\n",
       "      <td>0.728485</td>\n",
       "      <td>0.737879</td>\n",
       "      <td>0.769198</td>\n",
       "      <td>0.030891</td>\n",
       "      <td>23</td>\n",
       "    </tr>\n",
       "  </tbody>\n",
       "</table>\n",
       "</div>"
      ],
      "text/plain": [
       "                                                 params  split0_test_score  \\\n",
       "5007  {'colsample_bytree': 0.8, 'learning_rate': 0.0...           0.837427   \n",
       "5013  {'colsample_bytree': 0.8, 'learning_rate': 0.0...           0.837427   \n",
       "577   {'colsample_bytree': 0.4, 'learning_rate': 0.0...           0.849415   \n",
       "\n",
       "      split1_test_score  split2_test_score  split3_test_score  \\\n",
       "5007           0.762573           0.782456           0.736244   \n",
       "5013           0.762573           0.782456           0.736244   \n",
       "577            0.761111           0.767836           0.778110   \n",
       "\n",
       "      split4_test_score  split5_test_score  split6_test_score  \\\n",
       "5007           0.754242           0.785455           0.764848   \n",
       "5013           0.754242           0.785455           0.764848   \n",
       "577            0.769394           0.776364           0.754545   \n",
       "\n",
       "      split7_test_score  split8_test_score  split9_test_score  \\\n",
       "5007           0.762121           0.766667           0.744545   \n",
       "5013           0.762121           0.766667           0.744545   \n",
       "577            0.767576           0.728485           0.737879   \n",
       "\n",
       "      mean_test_score  std_test_score  rank_test_score  \n",
       "5007         0.769753        0.026791               15  \n",
       "5013         0.769753        0.026791               15  \n",
       "577          0.769198        0.030891               23  "
      ]
     },
     "execution_count": 144,
     "metadata": {},
     "output_type": "execute_result"
    }
   ],
   "source": [
    "results_xgb_part1[results_xgb_part1['param_max_depth']==31].sort_values(by=['rank_test_score'],ascending=True).iloc[0:3,-26:-12]"
   ]
  },
  {
   "cell_type": "code",
   "execution_count": 116,
   "metadata": {},
   "outputs": [],
   "source": [
    "gs_xgb_fold10_clf = XGBClassifier(base_score=0.5, booster='gbtree', colsample_bylevel=1,colsample_bynode=1, colsample_bytree=0.4, gamma=0,\n",
    "       learning_rate=0.02, max_delta_step=0, max_depth=31,\n",
    "       min_child_weight=5, missing=None, n_estimators=100, n_jobs=1,\n",
    "       nthread=0, objective='binary:logistic', random_state=1994,\n",
    "        reg_alpha=0, reg_lambda=1, scale_pos_weight=0.6,\n",
    "       seed=None, silent=1, subsample=1.0, verbosity=1)\n",
    "# mean_test_score       0.771931\n",
    "# std_test_score       0.0252777\n",
    "# final_test_score     0.69"
   ]
  },
  {
   "cell_type": "code",
   "execution_count": null,
   "metadata": {},
   "outputs": [],
   "source": [
    "gs_xgb_fold10_clf = XGBClassifier(colsample_bytree = 0.8,learning_rate = 0.02, max_depth = 31,\n",
    "                                  min_child_weight=15,n_estimators=100, nthread=0,\n",
    "                                  objective='binary:logistic', random_state=1994, scale_pos_weight= 0.6,\n",
    "                                  silent=1, subsample=1.0)\n",
    "# mean_validation_score   std_validation_score\n",
    "# 0.769753          0.026791\n",
    "# final test_score 0.7133333333333334"
   ]
  },
  {
   "cell_type": "code",
   "execution_count": 141,
   "metadata": {},
   "outputs": [
    {
     "name": "stdout",
     "output_type": "stream",
     "text": [
      "0.7133333333333334\n"
     ]
    }
   ],
   "source": [
    "print(accuracy_score(y_test,xgb_gs_pred_fold10))"
   ]
  },
  {
   "cell_type": "code",
   "execution_count": 145,
   "metadata": {},
   "outputs": [
    {
     "name": "stdout",
     "output_type": "stream",
     "text": [
      "              precision    recall  f1-score   support\n",
      "\n",
      "           0       0.62      0.70      0.66       117\n",
      "           1       0.79      0.72      0.75       183\n",
      "\n",
      "   micro avg       0.71      0.71      0.71       300\n",
      "   macro avg       0.70      0.71      0.71       300\n",
      "weighted avg       0.72      0.71      0.72       300\n",
      "\n"
     ]
    }
   ],
   "source": [
    "print(classification_report(y_test,xgb_gs_pred_fold10))"
   ]
  },
  {
   "cell_type": "code",
   "execution_count": 146,
   "metadata": {},
   "outputs": [],
   "source": [
    "#either \"gain\", \"weight\", \"cover\", \"total_gain\" or \"total_cover\"\n",
    "xgb_gs_FI = xgb_gs_clf.get_booster().get_score(importance_type='gain')\n",
    "xgb_gs_FI = pd.DataFrame.from_dict(xgb_gs_FI,orient='index').sort_values(by=0,ascending=False)"
   ]
  },
  {
   "cell_type": "code",
   "execution_count": 147,
   "metadata": {},
   "outputs": [
    {
     "data": {
      "text/plain": [
       "276.1077032711578"
      ]
     },
     "execution_count": 147,
     "metadata": {},
     "output_type": "execute_result"
    }
   ],
   "source": [
    "xgb_gs_FI[0].sum()"
   ]
  },
  {
   "cell_type": "code",
   "execution_count": 148,
   "metadata": {},
   "outputs": [],
   "source": [
    "xgb_gs_FI[0] = list(map(lambda x: x*100/xgb_gs_FI[0].sum(), xgb_gs_FI[0]))"
   ]
  },
  {
   "cell_type": "code",
   "execution_count": 149,
   "metadata": {},
   "outputs": [
    {
     "data": {
      "text/html": [
       "<div>\n",
       "<style scoped>\n",
       "    .dataframe tbody tr th:only-of-type {\n",
       "        vertical-align: middle;\n",
       "    }\n",
       "\n",
       "    .dataframe tbody tr th {\n",
       "        vertical-align: top;\n",
       "    }\n",
       "\n",
       "    .dataframe thead th {\n",
       "        text-align: right;\n",
       "    }\n",
       "</style>\n",
       "<table border=\"1\" class=\"dataframe\">\n",
       "  <thead>\n",
       "    <tr style=\"text-align: right;\">\n",
       "      <th></th>\n",
       "      <th>0</th>\n",
       "    </tr>\n",
       "  </thead>\n",
       "  <tbody>\n",
       "    <tr>\n",
       "      <th>주관적규범_3</th>\n",
       "      <td>6.314653</td>\n",
       "    </tr>\n",
       "    <tr>\n",
       "      <th>주관적규범_2</th>\n",
       "      <td>5.391675</td>\n",
       "    </tr>\n",
       "    <tr>\n",
       "      <th>소셜미디어이용빈도</th>\n",
       "      <td>2.894857</td>\n",
       "    </tr>\n",
       "    <tr>\n",
       "      <th>과식성향_9</th>\n",
       "      <td>2.878063</td>\n",
       "    </tr>\n",
       "    <tr>\n",
       "      <th>스마트폰앱이용갯수</th>\n",
       "      <td>2.637276</td>\n",
       "    </tr>\n",
       "    <tr>\n",
       "      <th>문19_2</th>\n",
       "      <td>2.578916</td>\n",
       "    </tr>\n",
       "    <tr>\n",
       "      <th>운동에대한태도_5</th>\n",
       "      <td>2.380427</td>\n",
       "    </tr>\n",
       "    <tr>\n",
       "      <th>주관적규범_1</th>\n",
       "      <td>2.362602</td>\n",
       "    </tr>\n",
       "    <tr>\n",
       "      <th>스스로 규칙적인 운동</th>\n",
       "      <td>2.291756</td>\n",
       "    </tr>\n",
       "    <tr>\n",
       "      <th>체중조절</th>\n",
       "      <td>2.142831</td>\n",
       "    </tr>\n",
       "    <tr>\n",
       "      <th>스스로 식사조절</th>\n",
       "      <td>1.784517</td>\n",
       "    </tr>\n",
       "    <tr>\n",
       "      <th>과식성향_10</th>\n",
       "      <td>1.666951</td>\n",
       "    </tr>\n",
       "    <tr>\n",
       "      <th>운동에대한장애_5</th>\n",
       "      <td>1.619399</td>\n",
       "    </tr>\n",
       "    <tr>\n",
       "      <th>운동의유익성_1</th>\n",
       "      <td>1.585838</td>\n",
       "    </tr>\n",
       "    <tr>\n",
       "      <th>문19_4</th>\n",
       "      <td>1.581671</td>\n",
       "    </tr>\n",
       "    <tr>\n",
       "      <th>운동에대한태도_4</th>\n",
       "      <td>1.518888</td>\n",
       "    </tr>\n",
       "    <tr>\n",
       "      <th>문52</th>\n",
       "      <td>1.501293</td>\n",
       "    </tr>\n",
       "    <tr>\n",
       "      <th>문53</th>\n",
       "      <td>1.480555</td>\n",
       "    </tr>\n",
       "    <tr>\n",
       "      <th>운동에대한장애_7</th>\n",
       "      <td>1.465355</td>\n",
       "    </tr>\n",
       "    <tr>\n",
       "      <th>체중관리효능감_1</th>\n",
       "      <td>1.447405</td>\n",
       "    </tr>\n",
       "    <tr>\n",
       "      <th>운동에대한장애_6</th>\n",
       "      <td>1.371711</td>\n",
       "    </tr>\n",
       "    <tr>\n",
       "      <th>다이어트의향_7</th>\n",
       "      <td>1.360115</td>\n",
       "    </tr>\n",
       "    <tr>\n",
       "      <th>문50</th>\n",
       "      <td>1.322710</td>\n",
       "    </tr>\n",
       "    <tr>\n",
       "      <th>문18_6</th>\n",
       "      <td>1.311860</td>\n",
       "    </tr>\n",
       "    <tr>\n",
       "      <th>운동의유익성_7</th>\n",
       "      <td>1.276928</td>\n",
       "    </tr>\n",
       "    <tr>\n",
       "      <th>스마트폰앱이용시간</th>\n",
       "      <td>1.275993</td>\n",
       "    </tr>\n",
       "    <tr>\n",
       "      <th>지각된민감성_5</th>\n",
       "      <td>1.257181</td>\n",
       "    </tr>\n",
       "    <tr>\n",
       "      <th>문18_3</th>\n",
       "      <td>1.245216</td>\n",
       "    </tr>\n",
       "    <tr>\n",
       "      <th>과식성향_4</th>\n",
       "      <td>1.208196</td>\n",
       "    </tr>\n",
       "    <tr>\n",
       "      <th>운동의유익성_6</th>\n",
       "      <td>1.196485</td>\n",
       "    </tr>\n",
       "    <tr>\n",
       "      <th>...</th>\n",
       "      <td>...</td>\n",
       "    </tr>\n",
       "    <tr>\n",
       "      <th>운동에대한장애_3</th>\n",
       "      <td>0.730907</td>\n",
       "    </tr>\n",
       "    <tr>\n",
       "      <th>과식성향_1</th>\n",
       "      <td>0.727684</td>\n",
       "    </tr>\n",
       "    <tr>\n",
       "      <th>체중관리효능감_5</th>\n",
       "      <td>0.716665</td>\n",
       "    </tr>\n",
       "    <tr>\n",
       "      <th>문19_1</th>\n",
       "      <td>0.704319</td>\n",
       "    </tr>\n",
       "    <tr>\n",
       "      <th>체중관리효능감_6</th>\n",
       "      <td>0.696548</td>\n",
       "    </tr>\n",
       "    <tr>\n",
       "      <th>문19_3</th>\n",
       "      <td>0.690090</td>\n",
       "    </tr>\n",
       "    <tr>\n",
       "      <th>지각된민감성_2</th>\n",
       "      <td>0.672793</td>\n",
       "    </tr>\n",
       "    <tr>\n",
       "      <th>다이어트의향_6</th>\n",
       "      <td>0.659750</td>\n",
       "    </tr>\n",
       "    <tr>\n",
       "      <th>문20_2</th>\n",
       "      <td>0.651619</td>\n",
       "    </tr>\n",
       "    <tr>\n",
       "      <th>문18_4</th>\n",
       "      <td>0.632276</td>\n",
       "    </tr>\n",
       "    <tr>\n",
       "      <th>지각된민감성_3</th>\n",
       "      <td>0.631712</td>\n",
       "    </tr>\n",
       "    <tr>\n",
       "      <th>운동에대한장애_2</th>\n",
       "      <td>0.625788</td>\n",
       "    </tr>\n",
       "    <tr>\n",
       "      <th>지각된민감성_4</th>\n",
       "      <td>0.624845</td>\n",
       "    </tr>\n",
       "    <tr>\n",
       "      <th>지각된심각성_3</th>\n",
       "      <td>0.600001</td>\n",
       "    </tr>\n",
       "    <tr>\n",
       "      <th>지각된심각성_1</th>\n",
       "      <td>0.579487</td>\n",
       "    </tr>\n",
       "    <tr>\n",
       "      <th>문17_2</th>\n",
       "      <td>0.577380</td>\n",
       "    </tr>\n",
       "    <tr>\n",
       "      <th>문20_1</th>\n",
       "      <td>0.564262</td>\n",
       "    </tr>\n",
       "    <tr>\n",
       "      <th>다이어트의향_5</th>\n",
       "      <td>0.514311</td>\n",
       "    </tr>\n",
       "    <tr>\n",
       "      <th>문18_5</th>\n",
       "      <td>0.503184</td>\n",
       "    </tr>\n",
       "    <tr>\n",
       "      <th>비만인식</th>\n",
       "      <td>0.441844</td>\n",
       "    </tr>\n",
       "    <tr>\n",
       "      <th>과식성향_8</th>\n",
       "      <td>0.434090</td>\n",
       "    </tr>\n",
       "    <tr>\n",
       "      <th>다이어트의향_3</th>\n",
       "      <td>0.431590</td>\n",
       "    </tr>\n",
       "    <tr>\n",
       "      <th>과식성향_7</th>\n",
       "      <td>0.412404</td>\n",
       "    </tr>\n",
       "    <tr>\n",
       "      <th>문20_4</th>\n",
       "      <td>0.394102</td>\n",
       "    </tr>\n",
       "    <tr>\n",
       "      <th>지각된심각성_5</th>\n",
       "      <td>0.387282</td>\n",
       "    </tr>\n",
       "    <tr>\n",
       "      <th>체중관리효능감_1.1</th>\n",
       "      <td>0.381140</td>\n",
       "    </tr>\n",
       "    <tr>\n",
       "      <th>과식성향_2</th>\n",
       "      <td>0.367842</td>\n",
       "    </tr>\n",
       "    <tr>\n",
       "      <th>성별</th>\n",
       "      <td>0.364653</td>\n",
       "    </tr>\n",
       "    <tr>\n",
       "      <th>운동에대한장애_1</th>\n",
       "      <td>0.345284</td>\n",
       "    </tr>\n",
       "    <tr>\n",
       "      <th>문19_5</th>\n",
       "      <td>0.301151</td>\n",
       "    </tr>\n",
       "  </tbody>\n",
       "</table>\n",
       "<p>87 rows × 1 columns</p>\n",
       "</div>"
      ],
      "text/plain": [
       "                    0\n",
       "주관적규범_3      6.314653\n",
       "주관적규범_2      5.391675\n",
       "소셜미디어이용빈도    2.894857\n",
       "과식성향_9       2.878063\n",
       "스마트폰앱이용갯수    2.637276\n",
       "문19_2        2.578916\n",
       "운동에대한태도_5    2.380427\n",
       "주관적규범_1      2.362602\n",
       "스스로 규칙적인 운동  2.291756\n",
       "체중조절         2.142831\n",
       "스스로 식사조절     1.784517\n",
       "과식성향_10      1.666951\n",
       "운동에대한장애_5    1.619399\n",
       "운동의유익성_1     1.585838\n",
       "문19_4        1.581671\n",
       "운동에대한태도_4    1.518888\n",
       "문52          1.501293\n",
       "문53          1.480555\n",
       "운동에대한장애_7    1.465355\n",
       "체중관리효능감_1    1.447405\n",
       "운동에대한장애_6    1.371711\n",
       "다이어트의향_7     1.360115\n",
       "문50          1.322710\n",
       "문18_6        1.311860\n",
       "운동의유익성_7     1.276928\n",
       "스마트폰앱이용시간    1.275993\n",
       "지각된민감성_5     1.257181\n",
       "문18_3        1.245216\n",
       "과식성향_4       1.208196\n",
       "운동의유익성_6     1.196485\n",
       "...               ...\n",
       "운동에대한장애_3    0.730907\n",
       "과식성향_1       0.727684\n",
       "체중관리효능감_5    0.716665\n",
       "문19_1        0.704319\n",
       "체중관리효능감_6    0.696548\n",
       "문19_3        0.690090\n",
       "지각된민감성_2     0.672793\n",
       "다이어트의향_6     0.659750\n",
       "문20_2        0.651619\n",
       "문18_4        0.632276\n",
       "지각된민감성_3     0.631712\n",
       "운동에대한장애_2    0.625788\n",
       "지각된민감성_4     0.624845\n",
       "지각된심각성_3     0.600001\n",
       "지각된심각성_1     0.579487\n",
       "문17_2        0.577380\n",
       "문20_1        0.564262\n",
       "다이어트의향_5     0.514311\n",
       "문18_5        0.503184\n",
       "비만인식         0.441844\n",
       "과식성향_8       0.434090\n",
       "다이어트의향_3     0.431590\n",
       "과식성향_7       0.412404\n",
       "문20_4        0.394102\n",
       "지각된심각성_5     0.387282\n",
       "체중관리효능감_1.1  0.381140\n",
       "과식성향_2       0.367842\n",
       "성별           0.364653\n",
       "운동에대한장애_1    0.345284\n",
       "문19_5        0.301151\n",
       "\n",
       "[87 rows x 1 columns]"
      ]
     },
     "execution_count": 149,
     "metadata": {},
     "output_type": "execute_result"
    }
   ],
   "source": [
    "xgb_gs_FI"
   ]
  },
  {
   "cell_type": "code",
   "execution_count": 151,
   "metadata": {},
   "outputs": [],
   "source": [
    "xgb_gs_FI.to_csv(\"featureInfortance_eus-kr.csv\", mode='w', encoding=\"euc-kr\")"
   ]
  },
  {
   "cell_type": "code",
   "execution_count": null,
   "metadata": {},
   "outputs": [],
   "source": [
    "xgb_gs_FI.to_csv(\"featureInfortance_eus-kr.csv\", mode='w', encoding=\"euc-kr\")"
   ]
  },
  {
   "cell_type": "code",
   "execution_count": 153,
   "metadata": {},
   "outputs": [],
   "source": [
    "xgb_gs_FI.to_csv(\"featureInfortance_cp949.csv\", mode='w', encoding=\"cp949\")"
   ]
  },
  {
   "cell_type": "markdown",
   "metadata": {
    "colab_type": "text",
    "id": "DLRHEbcDmJR2"
   },
   "source": [
    "### Randomsearch로 최적의 parameter찾기"
   ]
  },
  {
   "cell_type": "code",
   "execution_count": 58,
   "metadata": {
    "colab": {},
    "colab_type": "code",
    "id": "lrM_6xQptIdu"
   },
   "outputs": [],
   "source": [
    "import numpy as np\n",
    "import pandas as pd\n",
    "from datetime import datetime\n",
    "from sklearn.model_selection import RandomizedSearchCV, GridSearchCV, train_test_split, cross_val_score, StratifiedKFold\n",
    "from sklearn.metrics import roc_auc_score, confusion_matrix, accuracy_score, classification_report\n",
    "from sklearn.model_selection import StratifiedKFold\n",
    "from xgboost import XGBClassifier\n",
    "import xgboost as xgb"
   ]
  },
  {
   "cell_type": "code",
   "execution_count": 59,
   "metadata": {
    "colab": {},
    "colab_type": "code",
    "id": "KX8Ng9RgtO7O"
   },
   "outputs": [],
   "source": [
    "def timer(start_time=None):\n",
    "    if not start_time:\n",
    "        start_time = datetime.now()\n",
    "        return start_time\n",
    "    elif start_time:\n",
    "        thour, temp_sec = divmod((datetime.now() - start_time).total_seconds(), 3600)\n",
    "        tmin, tsec = divmod(temp_sec, 60)\n",
    "        print('\\n Time taken: %i hours %i minutes and %s seconds.' % (thour, tmin, round(tsec, 2)))"
   ]
  },
  {
   "cell_type": "code",
   "execution_count": 92,
   "metadata": {},
   "outputs": [],
   "source": [
    "params1 = {'nthread':[0,1,4], #when use hyperthread, xgboost may become slower\n",
    "              'objective':['binary:logistic'],\n",
    "              'learning_rate': [0.02,0.04,0.11,0.15], #so called `eta` value\n",
    "              'max_depth': [3,14,18,23,27,31],\n",
    "              'min_child_weight': [2,5,10,15],\n",
    "              'silent': [1.0],\n",
    "              'subsample': [0.3,1.0],\n",
    "              'colsample_bytree': [0.4,0.5,0.8,1.0],\n",
    "              'n_estimators': [100,600,800], #number of trees\n",
    "         'reg_alpha': [0.9, 0.999],\n",
    "        'reg_lambda': [0.6, 1],\n",
    "        'scale_pos_weight' :[0.1,0.6,1.0]\n",
    "         }"
   ]
  },
  {
   "cell_type": "code",
   "execution_count": 61,
   "metadata": {
    "colab": {
     "base_uri": "https://localhost:8080/",
     "height": 172
    },
    "colab_type": "code",
    "id": "UDm7Xn9nvTzN",
    "outputId": "b31def68-c329-4d48-8382-52849c3595f5"
   },
   "outputs": [],
   "source": [
    "xgb = XGBClassifier()"
   ]
  },
  {
   "cell_type": "code",
   "execution_count": 62,
   "metadata": {},
   "outputs": [
    {
     "data": {
      "text/plain": [
       "Index(['no', '거주지역', '성별', '연령', '연령_그룹', '소셜미디어이용빈도', '스마트폰앱이용갯수',\n",
       "       '스마트폰앱이용시간', '지각된민감성_1', '지각된민감성_2',\n",
       "       ...\n",
       "       '문49', '문50', '고지혈증', '고혈압', '당뇨병', '대사증후군', '관절염', '기타', '문52', '문53'],\n",
       "      dtype='object', length=106)"
      ]
     },
     "execution_count": 62,
     "metadata": {},
     "output_type": "execute_result"
    }
   ],
   "source": [
    "X_train.columns"
   ]
  },
  {
   "cell_type": "code",
   "execution_count": 63,
   "metadata": {},
   "outputs": [
    {
     "data": {
      "text/plain": [
       "(1047,)"
      ]
     },
     "execution_count": 63,
     "metadata": {},
     "output_type": "execute_result"
    }
   ],
   "source": [
    "y_train.shape"
   ]
  },
  {
   "cell_type": "code",
   "execution_count": 64,
   "metadata": {},
   "outputs": [
    {
     "data": {
      "text/html": [
       "<div>\n",
       "<style scoped>\n",
       "    .dataframe tbody tr th:only-of-type {\n",
       "        vertical-align: middle;\n",
       "    }\n",
       "\n",
       "    .dataframe tbody tr th {\n",
       "        vertical-align: top;\n",
       "    }\n",
       "\n",
       "    .dataframe thead th {\n",
       "        text-align: right;\n",
       "    }\n",
       "</style>\n",
       "<table border=\"1\" class=\"dataframe\">\n",
       "  <thead>\n",
       "    <tr style=\"text-align: right;\">\n",
       "      <th></th>\n",
       "      <th>no</th>\n",
       "      <th>거주지역</th>\n",
       "      <th>성별</th>\n",
       "      <th>연령</th>\n",
       "      <th>연령_그룹</th>\n",
       "      <th>소셜미디어이용빈도</th>\n",
       "      <th>스마트폰앱이용갯수</th>\n",
       "      <th>스마트폰앱이용시간</th>\n",
       "      <th>지각된민감성_1</th>\n",
       "      <th>지각된민감성_2</th>\n",
       "      <th>...</th>\n",
       "      <th>문49</th>\n",
       "      <th>문50</th>\n",
       "      <th>고지혈증</th>\n",
       "      <th>고혈압</th>\n",
       "      <th>당뇨병</th>\n",
       "      <th>대사증후군</th>\n",
       "      <th>관절염</th>\n",
       "      <th>기타</th>\n",
       "      <th>문52</th>\n",
       "      <th>문53</th>\n",
       "    </tr>\n",
       "  </thead>\n",
       "  <tbody>\n",
       "    <tr>\n",
       "      <th>1015</th>\n",
       "      <td>1015</td>\n",
       "      <td>0</td>\n",
       "      <td>1</td>\n",
       "      <td>23</td>\n",
       "      <td>0</td>\n",
       "      <td>3</td>\n",
       "      <td>20</td>\n",
       "      <td>4</td>\n",
       "      <td>3</td>\n",
       "      <td>3</td>\n",
       "      <td>...</td>\n",
       "      <td>1</td>\n",
       "      <td>1</td>\n",
       "      <td>1</td>\n",
       "      <td>1</td>\n",
       "      <td>1</td>\n",
       "      <td>1</td>\n",
       "      <td>1</td>\n",
       "      <td>1</td>\n",
       "      <td>5</td>\n",
       "      <td>0</td>\n",
       "    </tr>\n",
       "    <tr>\n",
       "      <th>188</th>\n",
       "      <td>188</td>\n",
       "      <td>3</td>\n",
       "      <td>1</td>\n",
       "      <td>64</td>\n",
       "      <td>4</td>\n",
       "      <td>4</td>\n",
       "      <td>60</td>\n",
       "      <td>2</td>\n",
       "      <td>1</td>\n",
       "      <td>2</td>\n",
       "      <td>...</td>\n",
       "      <td>1</td>\n",
       "      <td>1</td>\n",
       "      <td>1</td>\n",
       "      <td>1</td>\n",
       "      <td>1</td>\n",
       "      <td>1</td>\n",
       "      <td>1</td>\n",
       "      <td>1</td>\n",
       "      <td>4</td>\n",
       "      <td>5</td>\n",
       "    </tr>\n",
       "    <tr>\n",
       "      <th>189</th>\n",
       "      <td>189</td>\n",
       "      <td>8</td>\n",
       "      <td>0</td>\n",
       "      <td>37</td>\n",
       "      <td>1</td>\n",
       "      <td>4</td>\n",
       "      <td>5</td>\n",
       "      <td>2</td>\n",
       "      <td>3</td>\n",
       "      <td>3</td>\n",
       "      <td>...</td>\n",
       "      <td>1</td>\n",
       "      <td>1</td>\n",
       "      <td>1</td>\n",
       "      <td>1</td>\n",
       "      <td>1</td>\n",
       "      <td>1</td>\n",
       "      <td>1</td>\n",
       "      <td>1</td>\n",
       "      <td>4</td>\n",
       "      <td>3</td>\n",
       "    </tr>\n",
       "    <tr>\n",
       "      <th>1301</th>\n",
       "      <td>1301</td>\n",
       "      <td>8</td>\n",
       "      <td>1</td>\n",
       "      <td>29</td>\n",
       "      <td>0</td>\n",
       "      <td>0</td>\n",
       "      <td>0</td>\n",
       "      <td>0</td>\n",
       "      <td>2</td>\n",
       "      <td>2</td>\n",
       "      <td>...</td>\n",
       "      <td>1</td>\n",
       "      <td>1</td>\n",
       "      <td>1</td>\n",
       "      <td>1</td>\n",
       "      <td>1</td>\n",
       "      <td>1</td>\n",
       "      <td>1</td>\n",
       "      <td>1</td>\n",
       "      <td>4</td>\n",
       "      <td>1</td>\n",
       "    </tr>\n",
       "    <tr>\n",
       "      <th>1023</th>\n",
       "      <td>1023</td>\n",
       "      <td>15</td>\n",
       "      <td>1</td>\n",
       "      <td>29</td>\n",
       "      <td>0</td>\n",
       "      <td>3</td>\n",
       "      <td>60</td>\n",
       "      <td>10</td>\n",
       "      <td>3</td>\n",
       "      <td>3</td>\n",
       "      <td>...</td>\n",
       "      <td>1</td>\n",
       "      <td>1</td>\n",
       "      <td>1</td>\n",
       "      <td>1</td>\n",
       "      <td>1</td>\n",
       "      <td>1</td>\n",
       "      <td>1</td>\n",
       "      <td>1</td>\n",
       "      <td>4</td>\n",
       "      <td>1</td>\n",
       "    </tr>\n",
       "  </tbody>\n",
       "</table>\n",
       "<p>5 rows × 106 columns</p>\n",
       "</div>"
      ],
      "text/plain": [
       "        no  거주지역  성별  연령  연령_그룹  소셜미디어이용빈도  스마트폰앱이용갯수  스마트폰앱이용시간  지각된민감성_1  \\\n",
       "1015  1015     0   1  23      0          3         20          4         3   \n",
       "188    188     3   1  64      4          4         60          2         1   \n",
       "189    189     8   0  37      1          4          5          2         3   \n",
       "1301  1301     8   1  29      0          0          0          0         2   \n",
       "1023  1023    15   1  29      0          3         60         10         3   \n",
       "\n",
       "      지각된민감성_2  ...  문49  문50  고지혈증  고혈압  당뇨병  대사증후군  관절염  기타  문52  문53  \n",
       "1015         3  ...    1    1     1    1    1      1    1   1    5    0  \n",
       "188          2  ...    1    1     1    1    1      1    1   1    4    5  \n",
       "189          3  ...    1    1     1    1    1      1    1   1    4    3  \n",
       "1301         2  ...    1    1     1    1    1      1    1   1    4    1  \n",
       "1023         3  ...    1    1     1    1    1      1    1   1    4    1  \n",
       "\n",
       "[5 rows x 106 columns]"
      ]
     },
     "execution_count": 64,
     "metadata": {},
     "output_type": "execute_result"
    }
   ],
   "source": [
    "X_train.head()"
   ]
  },
  {
   "cell_type": "code",
   "execution_count": 82,
   "metadata": {
    "colab": {
     "base_uri": "https://localhost:8080/",
     "height": 305
    },
    "colab_type": "code",
    "id": "SSV-kRR1vWF1",
    "outputId": "e40af222-e5d5-4969-fa3f-ea588c430395"
   },
   "outputs": [
    {
     "name": "stdout",
     "output_type": "stream",
     "text": [
      "Fitting 10 folds for each of 800 candidates, totalling 8000 fits\n"
     ]
    },
    {
     "name": "stderr",
     "output_type": "stream",
     "text": [
      "[Parallel(n_jobs=-1)]: Using backend LokyBackend with 12 concurrent workers.\n",
      "[Parallel(n_jobs=-1)]: Done   8 tasks      | elapsed:    0.5s\n",
      "[Parallel(n_jobs=-1)]: Done 104 tasks      | elapsed:   22.1s\n",
      "[Parallel(n_jobs=-1)]: Done 264 tasks      | elapsed:  1.3min\n",
      "[Parallel(n_jobs=-1)]: Done 488 tasks      | elapsed:  2.5min\n",
      "[Parallel(n_jobs=-1)]: Done 776 tasks      | elapsed:  4.0min\n",
      "[Parallel(n_jobs=-1)]: Done 1128 tasks      | elapsed:  5.7min\n",
      "[Parallel(n_jobs=-1)]: Done 1544 tasks      | elapsed:  8.0min\n",
      "[Parallel(n_jobs=-1)]: Done 2024 tasks      | elapsed:  9.9min\n",
      "[Parallel(n_jobs=-1)]: Done 2568 tasks      | elapsed: 12.4min\n",
      "[Parallel(n_jobs=-1)]: Done 3176 tasks      | elapsed: 15.5min\n",
      "[Parallel(n_jobs=-1)]: Done 3848 tasks      | elapsed: 19.1min\n",
      "[Parallel(n_jobs=-1)]: Done 4584 tasks      | elapsed: 22.6min\n",
      "[Parallel(n_jobs=-1)]: Done 5384 tasks      | elapsed: 26.4min\n",
      "[Parallel(n_jobs=-1)]: Done 6248 tasks      | elapsed: 30.4min\n",
      "[Parallel(n_jobs=-1)]: Done 7176 tasks      | elapsed: 35.1min\n",
      "[Parallel(n_jobs=-1)]: Done 8000 out of 8000 | elapsed: 38.8min finished\n",
      "C:\\Users\\iThings_lab\\Anaconda3\\envs\\tf_gpu\\lib\\site-packages\\sklearn\\model_selection\\_search.py:841: DeprecationWarning: The default of the `iid` parameter will change from True to False in version 0.22 and will be removed in 0.24. This will change numeric results when test-set sizes are unequal.\n",
      "  DeprecationWarning)\n"
     ]
    },
    {
     "name": "stdout",
     "output_type": "stream",
     "text": [
      "\n",
      " Time taken: 0 hours 38 minutes and 46.04 seconds.\n"
     ]
    }
   ],
   "source": [
    "folds = 10\n",
    "skf = StratifiedKFold(n_splits=folds, shuffle = True, random_state = 1994)\n",
    "\n",
    "random_search_xgb = RandomizedSearchCV(xgb, \n",
    "                                       param_distributions=params1, \n",
    "                                       n_iter=800, scoring='roc_auc', \n",
    "                                       n_jobs=-1, cv=skf.split(X_train.iloc[:,1:],y_train), \n",
    "                                       verbose=3, random_state=1994,return_train_score=True )\n",
    "\n",
    "# Here we go\n",
    "start_time = timer(None) # timing starts from this point for \"start_time\" variable\n",
    "random_search_xgb.fit(X_train.iloc[:,1:], y_train.values)\n",
    "timer(start_time) # timing ends here for \"start_time\" variable"
   ]
  },
  {
   "cell_type": "code",
   "execution_count": 83,
   "metadata": {
    "colab": {
     "base_uri": "https://localhost:8080/",
     "height": 505
    },
    "colab_type": "code",
    "id": "Jzx_86Onvm7k",
    "outputId": "5d69be10-7cbf-4e59-b79e-35233dac21cd",
    "scrolled": true
   },
   "outputs": [
    {
     "name": "stdout",
     "output_type": "stream",
     "text": [
      "----------------------------------------------------------------------------------------------------\n",
      "\n",
      " 1. Best estimator:\n",
      "XGBClassifier(base_score=0.5, booster='gbtree', colsample_bylevel=1,\n",
      "       colsample_bynode=1, colsample_bytree=0.5, gamma=0,\n",
      "       learning_rate=0.04, max_delta_step=0, max_depth=31,\n",
      "       min_child_weight=15, missing=None, n_estimators=100, n_jobs=1,\n",
      "       nthread=0, objective='binary:logistic', random_state=0,\n",
      "       reg_alpha=0.999, reg_lambda=1, scale_pos_weight=0.6, seed=None,\n",
      "       silent=0, subsample=1.0, verbosity=1)\n",
      "----------------------------------------------------------------------------------------------------\n",
      "\n",
      " 2. 10 Fold & mean_test_score& std_test_score\n",
      "split0_test_score     0.844444\n",
      "split1_test_score      0.75848\n",
      "split2_test_score      0.77193\n",
      "split3_test_score     0.736244\n",
      "split4_test_score     0.769091\n",
      "split5_test_score     0.771515\n",
      "split6_test_score     0.758485\n",
      "split7_test_score     0.765152\n",
      "split8_test_score         0.78\n",
      "split9_test_score     0.744545\n",
      "mean_test_score       0.770069\n",
      "std_test_score       0.0279002\n",
      "rank_test_score              1\n",
      "Name: 486, dtype: object\n",
      "----------------------------------------------------------------------------------------------------\n",
      "\n",
      " 3. Best hyperparameters:\n",
      "{'subsample': 1.0, 'silent': 0, 'scale_pos_weight': 0.6, 'reg_lambda': 1, 'reg_alpha': 0.999, 'objective': 'binary:logistic', 'nthread': 0, 'n_estimators': 100, 'min_child_weight': 15, 'max_depth': 31, 'learning_rate': 0.04, 'colsample_bytree': 0.5}\n",
      "----------------------------------------------------------------------------------------------------\n"
     ]
    }
   ],
   "source": [
    "results_xgb = pd.DataFrame(random_search_xgb.cv_results_)\n",
    "print('-'*100)\n",
    "print('\\n 1. Best estimator:')\n",
    "print(random_search_xgb.best_estimator_)\n",
    "print('-'*100)\n",
    "print('\\n 2. %d Fold & mean_test_score& std_test_score' % folds)\n",
    "print(results_xgb.sort_values(by=['rank_test_score'],ascending=True).iloc[0,-25:-12])\n",
    "print('-'*100)\n",
    "print('\\n 3. Best hyperparameters:')\n",
    "print(random_search_xgb.best_params_)\n",
    "print('-'*100)"
   ]
  },
  {
   "cell_type": "code",
   "execution_count": 79,
   "metadata": {
    "colab": {},
    "colab_type": "code",
    "id": "zkT2iVisIEvk"
   },
   "outputs": [],
   "source": [
    "xgb_gs_clf1 = XGBClassifier(base_score=0.5, booster='gbtree', colsample_bylevel=1,\n",
    "       colsample_bynode=1, colsample_bytree=0.4, gamma=0,\n",
    "       learning_rate=0.15, max_delta_step=0, max_depth=31,\n",
    "       min_child_weight=5, missing=None, n_estimators=100, n_jobs=1,\n",
    "       nthread=1, objective='binary:logistic', random_state=0,\n",
    "       reg_alpha=0.999, reg_lambda=1, scale_pos_weight=1.0, seed=None,\n",
    "       silent=0, subsample=1.0, verbosity=1)\n",
    "# mean_test_score       0.717627\n",
    "# std_test_score       0.0407103\n",
    "# final test score     0.69"
   ]
  },
  {
   "cell_type": "code",
   "execution_count": 85,
   "metadata": {},
   "outputs": [],
   "source": [
    "xgb_gs_clf = XGBClassifier(base_score=0.5, booster='gbtree', colsample_bylevel=1,\n",
    "       colsample_bynode=1, colsample_bytree=0.5, gamma=0,\n",
    "       learning_rate=0.04, max_delta_step=0, max_depth=31,\n",
    "       min_child_weight=15, missing=None, n_estimators=100, n_jobs=1,\n",
    "       nthread=0, objective='binary:logistic', random_state=0,\n",
    "       reg_alpha=0.999, reg_lambda=1, scale_pos_weight=0.6, seed=None,\n",
    "       silent=0, subsample=1.0, verbosity=1)\n",
    "# mean_test_score       0.770069\n",
    "# std_test_score       0.0279002\n",
    "# final test score 0.7\n"
   ]
  },
  {
   "cell_type": "code",
   "execution_count": 86,
   "metadata": {
    "colab": {
     "base_uri": "https://localhost:8080/",
     "height": 143
    },
    "colab_type": "code",
    "id": "FLDtFtacwK1W",
    "outputId": "d37720f2-b31c-49fc-b510-793ad81be9fe"
   },
   "outputs": [
    {
     "data": {
      "text/plain": [
       "XGBClassifier(base_score=0.5, booster='gbtree', colsample_bylevel=1,\n",
       "       colsample_bynode=1, colsample_bytree=0.5, gamma=0,\n",
       "       learning_rate=0.04, max_delta_step=0, max_depth=31,\n",
       "       min_child_weight=15, missing=None, n_estimators=100, n_jobs=1,\n",
       "       nthread=0, objective='binary:logistic', random_state=0,\n",
       "       reg_alpha=0.999, reg_lambda=1, scale_pos_weight=0.6, seed=None,\n",
       "       silent=0, subsample=1.0, verbosity=1)"
      ]
     },
     "execution_count": 86,
     "metadata": {},
     "output_type": "execute_result"
    }
   ],
   "source": [
    "xgb_gs_clf.fit(X_train.iloc[:,1:],y_train)"
   ]
  },
  {
   "cell_type": "code",
   "execution_count": 87,
   "metadata": {
    "colab": {
     "base_uri": "https://localhost:8080/",
     "height": 35
    },
    "colab_type": "code",
    "id": "rlyjRWy6wK1a",
    "outputId": "ec9d5c17-2f3f-4882-88fe-acc22addc7a5"
   },
   "outputs": [
    {
     "name": "stdout",
     "output_type": "stream",
     "text": [
      "0.7\n"
     ]
    }
   ],
   "source": [
    "xgb_gs_pred = xgb_gs_clf.predict(X_test.iloc[:,1:])\n",
    "print(accuracy_score(y_test, xgb_gs_pred))"
   ]
  },
  {
   "cell_type": "code",
   "execution_count": null,
   "metadata": {},
   "outputs": [],
   "source": [
    "import numpy as np\n",
    "import matplotlib.pyplot as plt\n",
    "from sklearn.pipeline import Pipeline\n",
    "from sklearn.preprocessing import PolynomialFeatures\n",
    "from sklearn.linear_model import LinearRegression\n",
    "from sklearn.model_selection import cross_val_score"
   ]
  },
  {
   "cell_type": "code",
   "execution_count": null,
   "metadata": {},
   "outputs": [],
   "source": [
    "plt.figure(figsize=(14, 5))\n",
    "for i in range(len(degrees)):\n",
    "    ax = plt.subplot(1, len(degrees), i + 1)\n",
    "    plt.setp(ax, xticks=(), yticks=())\n",
    "\n",
    "    polynomial_features = PolynomialFeatures(degree=degrees[i],\n",
    "                                             include_bias=False)\n",
    "    linear_regression = LinearRegression()\n",
    "    pipeline = Pipeline([(\"polynomial_features\", polynomial_features),\n",
    "                         (\"linear_regression\", linear_regression)])\n",
    "    pipeline.fit(X[:, np.newaxis], y)\n",
    "\n",
    "    # Evaluate the models using crossvalidation\n",
    "    scores = cross_val_score(pipeline, X[:, np.newaxis], y,\n",
    "                             scoring=\"neg_mean_squared_error\", cv=10)\n",
    "\n",
    "    X_test = np.linspace(0, 1, 100)\n",
    "    plt.plot(X_test, pipeline.predict(X_test[:, np.newaxis]), label=\"Model\")\n",
    "    plt.plot(X_test, true_fun(X_test), label=\"True function\")\n",
    "    plt.scatter(X, y, label=\"Samples\")\n",
    "    plt.xlabel(\"x\")\n",
    "    plt.ylabel(\"y\")\n",
    "    plt.xlim((0, 1))\n",
    "    plt.ylim((-2, 2))\n",
    "    plt.legend(loc=\"best\")\n",
    "    plt.title(\"Degree {}\\nMSE = {:.2e}(+/- {:.2e})\".format(\n",
    "        degrees[i], -scores.mean(), scores.std()))\n",
    "plt.show()"
   ]
  },
  {
   "cell_type": "code",
   "execution_count": 0,
   "metadata": {
    "colab": {},
    "colab_type": "code",
    "id": "I4AHB406FUdK"
   },
   "outputs": [],
   "source": [
    "from sklearn.metrics import confusion_matrix"
   ]
  },
  {
   "cell_type": "code",
   "execution_count": 0,
   "metadata": {
    "colab": {},
    "colab_type": "code",
    "id": "pr1AaZ2pFdb5"
   },
   "outputs": [],
   "source": []
  },
  {
   "cell_type": "code",
   "execution_count": 0,
   "metadata": {
    "colab": {
     "base_uri": "https://localhost:8080/",
     "height": 53
    },
    "colab_type": "code",
    "id": "0Jutdcj9FUdM",
    "outputId": "ffbeb247-cb1e-4370-fcc0-4bc7e33d443c"
   },
   "outputs": [
    {
     "name": "stdout",
     "output_type": "stream",
     "text": [
      "[[ 67  42]\n",
      " [ 24 167]]\n"
     ]
    }
   ],
   "source": [
    "confusion_matrix_xgb1 = confusion_matrix(y_test,xgb_gs_pred)\n",
    "print(confusion_matrix_xgb1)\n",
    "# 0,0 : TP\n",
    "# 0,1 : FP\n",
    "# 1,0 : FN\n",
    "# 1,1 : TN"
   ]
  },
  {
   "cell_type": "code",
   "execution_count": 0,
   "metadata": {
    "colab": {
     "base_uri": "https://localhost:8080/",
     "height": 53
    },
    "colab_type": "code",
    "id": "4NCrnqbRQIkW",
    "outputId": "4bd4fddd-b485-4fe9-84ff-e82f749cdddc"
   },
   "outputs": [
    {
     "name": "stdout",
     "output_type": "stream",
     "text": [
      "[[ 67  42]\n",
      " [ 24 167]]\n"
     ]
    }
   ],
   "source": [
    "confusion_matrix_xgb2 = confusion_matrix(y_test,xgb_gs_pred)\n",
    "print(confusion_matrix_xgb2)\n",
    "# 0,0 : TP\n",
    "# 0,1 : FP\n",
    "# 1,0 : FN\n",
    "# 1,1 : TN"
   ]
  },
  {
   "cell_type": "code",
   "execution_count": 0,
   "metadata": {
    "colab": {
     "base_uri": "https://localhost:8080/",
     "height": 53
    },
    "colab_type": "code",
    "id": "q9BDEDxzrfXF",
    "outputId": "0ad4d2c8-5997-4b27-c68c-3447e8042197"
   },
   "outputs": [
    {
     "data": {
      "text/plain": [
       "array([[ 67,  24],\n",
       "       [ 42, 167]])"
      ]
     },
     "execution_count": 109,
     "metadata": {
      "tags": []
     },
     "output_type": "execute_result"
    }
   ],
   "source": [
    "np.transpose(confusion_matrix_xgb2)"
   ]
  },
  {
   "cell_type": "code",
   "execution_count": 0,
   "metadata": {
    "colab": {},
    "colab_type": "code",
    "id": "-YFitNbTsOsQ"
   },
   "outputs": [],
   "source": [
    "0.61      "
   ]
  },
  {
   "cell_type": "code",
   "execution_count": 0,
   "metadata": {
    "colab": {
     "base_uri": "https://localhost:8080/",
     "height": 179
    },
    "colab_type": "code",
    "id": "Mz-FF6UqwOM1",
    "outputId": "2f50d388-5e10-436e-c646-0e6a755b581c"
   },
   "outputs": [
    {
     "name": "stdout",
     "output_type": "stream",
     "text": [
      "              precision    recall  f1-score   support\n",
      "\n",
      "           0       0.74      0.61      0.67       109\n",
      "           1       0.80      0.87      0.83       191\n",
      "\n",
      "    accuracy                           0.78       300\n",
      "   macro avg       0.77      0.74      0.75       300\n",
      "weighted avg       0.78      0.78      0.78       300\n",
      "\n"
     ]
    }
   ],
   "source": [
    "print(classification_report(y_test,xgb_gs_pred))"
   ]
  },
  {
   "cell_type": "code",
   "execution_count": 0,
   "metadata": {
    "colab": {},
    "colab_type": "code",
    "id": "AEdYBkpygIzY"
   },
   "outputs": [],
   "source": [
    "#either \"gain\", \"weight\", \"cover\", \"total_gain\" or \"total_cover\"\n",
    "xgb_gs_FI = xgb_gs_clf.get_booster().get_score(importance_type='gain')\n",
    "xgb_gs_FI = pd.DataFrame.from_dict(xgb_gs_FI,orient='index').sort_values(by=0,ascending=False)"
   ]
  },
  {
   "cell_type": "code",
   "execution_count": 0,
   "metadata": {
    "colab": {
     "base_uri": "https://localhost:8080/",
     "height": 35
    },
    "colab_type": "code",
    "id": "iW_MwHnO5eJo",
    "outputId": "6ace76de-fb06-46b3-8bce-9a0902918fa3"
   },
   "outputs": [
    {
     "data": {
      "text/plain": [
       "520.553660596803"
      ]
     },
     "execution_count": 111,
     "metadata": {
      "tags": []
     },
     "output_type": "execute_result"
    }
   ],
   "source": [
    "xgb_gs_FI[0].sum()"
   ]
  },
  {
   "cell_type": "code",
   "execution_count": 0,
   "metadata": {
    "colab": {},
    "colab_type": "code",
    "id": "N6qvNu_u5w8A"
   },
   "outputs": [],
   "source": [
    "xgb_gs_FI[0] = list(map(lambda x: x*100/xgb_gs_FI[0].sum(), xgb_gs_FI[0]))"
   ]
  },
  {
   "cell_type": "code",
   "execution_count": 0,
   "metadata": {
    "colab": {
     "base_uri": "https://localhost:8080/",
     "height": 1000
    },
    "colab_type": "code",
    "id": "2hSM0WO_Dq3j",
    "outputId": "76332066-92a0-463e-858d-7ddee07a1c10"
   },
   "outputs": [
    {
     "data": {
      "text/html": [
       "<div>\n",
       "<style scoped>\n",
       "    .dataframe tbody tr th:only-of-type {\n",
       "        vertical-align: middle;\n",
       "    }\n",
       "\n",
       "    .dataframe tbody tr th {\n",
       "        vertical-align: top;\n",
       "    }\n",
       "\n",
       "    .dataframe thead th {\n",
       "        text-align: right;\n",
       "    }\n",
       "</style>\n",
       "<table border=\"1\" class=\"dataframe\">\n",
       "  <thead>\n",
       "    <tr style=\"text-align: right;\">\n",
       "      <th></th>\n",
       "      <th>0</th>\n",
       "    </tr>\n",
       "  </thead>\n",
       "  <tbody>\n",
       "    <tr>\n",
       "      <th>건강생활을 위한 앱 이용</th>\n",
       "      <td>12.188661</td>\n",
       "    </tr>\n",
       "    <tr>\n",
       "      <th>주관적규범_2</th>\n",
       "      <td>4.968072</td>\n",
       "    </tr>\n",
       "    <tr>\n",
       "      <th>주관적규범_3</th>\n",
       "      <td>3.599178</td>\n",
       "    </tr>\n",
       "    <tr>\n",
       "      <th>소셜미디어이용빈도</th>\n",
       "      <td>2.158053</td>\n",
       "    </tr>\n",
       "    <tr>\n",
       "      <th>스마트폰앱이용갯수</th>\n",
       "      <td>2.055941</td>\n",
       "    </tr>\n",
       "    <tr>\n",
       "      <th>주관적규범_1</th>\n",
       "      <td>1.917508</td>\n",
       "    </tr>\n",
       "    <tr>\n",
       "      <th>체중조절</th>\n",
       "      <td>1.741465</td>\n",
       "    </tr>\n",
       "    <tr>\n",
       "      <th>다이어트의향_7</th>\n",
       "      <td>1.684536</td>\n",
       "    </tr>\n",
       "    <tr>\n",
       "      <th>운동에대한태도_5</th>\n",
       "      <td>1.678964</td>\n",
       "    </tr>\n",
       "    <tr>\n",
       "      <th>운동의유익성_5</th>\n",
       "      <td>1.509573</td>\n",
       "    </tr>\n",
       "    <tr>\n",
       "      <th>과식성향_9</th>\n",
       "      <td>1.508386</td>\n",
       "    </tr>\n",
       "    <tr>\n",
       "      <th>운동의유익성_4</th>\n",
       "      <td>1.458949</td>\n",
       "    </tr>\n",
       "    <tr>\n",
       "      <th>다이어트의향_3</th>\n",
       "      <td>1.418519</td>\n",
       "    </tr>\n",
       "    <tr>\n",
       "      <th>운동에대한태도_2</th>\n",
       "      <td>1.380850</td>\n",
       "    </tr>\n",
       "    <tr>\n",
       "      <th>문19_3</th>\n",
       "      <td>1.321083</td>\n",
       "    </tr>\n",
       "    <tr>\n",
       "      <th>운동의유익성_8</th>\n",
       "      <td>1.278340</td>\n",
       "    </tr>\n",
       "    <tr>\n",
       "      <th>운동에대한태도_3</th>\n",
       "      <td>1.269639</td>\n",
       "    </tr>\n",
       "    <tr>\n",
       "      <th>스마트폰앱이용시간</th>\n",
       "      <td>1.266152</td>\n",
       "    </tr>\n",
       "    <tr>\n",
       "      <th>문19_2</th>\n",
       "      <td>1.237834</td>\n",
       "    </tr>\n",
       "    <tr>\n",
       "      <th>운동의유익성_2</th>\n",
       "      <td>1.229882</td>\n",
       "    </tr>\n",
       "    <tr>\n",
       "      <th>운동의유익성_7</th>\n",
       "      <td>1.182678</td>\n",
       "    </tr>\n",
       "    <tr>\n",
       "      <th>운동에대한장애_5</th>\n",
       "      <td>1.181717</td>\n",
       "    </tr>\n",
       "    <tr>\n",
       "      <th>운동의유익성_6</th>\n",
       "      <td>1.132714</td>\n",
       "    </tr>\n",
       "    <tr>\n",
       "      <th>스스로 규칙적인 운동</th>\n",
       "      <td>1.091187</td>\n",
       "    </tr>\n",
       "    <tr>\n",
       "      <th>운동에대한태도_6</th>\n",
       "      <td>1.047462</td>\n",
       "    </tr>\n",
       "    <tr>\n",
       "      <th>운동에대한태도_1</th>\n",
       "      <td>1.011014</td>\n",
       "    </tr>\n",
       "    <tr>\n",
       "      <th>문18_3</th>\n",
       "      <td>0.995171</td>\n",
       "    </tr>\n",
       "    <tr>\n",
       "      <th>스스로 식사조절</th>\n",
       "      <td>0.962165</td>\n",
       "    </tr>\n",
       "    <tr>\n",
       "      <th>운동에대한장애_4</th>\n",
       "      <td>0.960448</td>\n",
       "    </tr>\n",
       "    <tr>\n",
       "      <th>다이어트의향_4</th>\n",
       "      <td>0.957524</td>\n",
       "    </tr>\n",
       "    <tr>\n",
       "      <th>...</th>\n",
       "      <td>...</td>\n",
       "    </tr>\n",
       "    <tr>\n",
       "      <th>다이어트의향_5</th>\n",
       "      <td>0.645552</td>\n",
       "    </tr>\n",
       "    <tr>\n",
       "      <th>성별</th>\n",
       "      <td>0.641710</td>\n",
       "    </tr>\n",
       "    <tr>\n",
       "      <th>운동의유익성_1</th>\n",
       "      <td>0.638243</td>\n",
       "    </tr>\n",
       "    <tr>\n",
       "      <th>문18_4</th>\n",
       "      <td>0.637576</td>\n",
       "    </tr>\n",
       "    <tr>\n",
       "      <th>문50</th>\n",
       "      <td>0.633181</td>\n",
       "    </tr>\n",
       "    <tr>\n",
       "      <th>체중관리효능감_5</th>\n",
       "      <td>0.630053</td>\n",
       "    </tr>\n",
       "    <tr>\n",
       "      <th>운동에대한장애_6</th>\n",
       "      <td>0.625335</td>\n",
       "    </tr>\n",
       "    <tr>\n",
       "      <th>BMI</th>\n",
       "      <td>0.611775</td>\n",
       "    </tr>\n",
       "    <tr>\n",
       "      <th>문20_2</th>\n",
       "      <td>0.609165</td>\n",
       "    </tr>\n",
       "    <tr>\n",
       "      <th>문18_5</th>\n",
       "      <td>0.606925</td>\n",
       "    </tr>\n",
       "    <tr>\n",
       "      <th>문19_1</th>\n",
       "      <td>0.596681</td>\n",
       "    </tr>\n",
       "    <tr>\n",
       "      <th>지각된심각성_3</th>\n",
       "      <td>0.590163</td>\n",
       "    </tr>\n",
       "    <tr>\n",
       "      <th>체형</th>\n",
       "      <td>0.553692</td>\n",
       "    </tr>\n",
       "    <tr>\n",
       "      <th>운동에대한장애_2</th>\n",
       "      <td>0.550620</td>\n",
       "    </tr>\n",
       "    <tr>\n",
       "      <th>문18_1</th>\n",
       "      <td>0.549134</td>\n",
       "    </tr>\n",
       "    <tr>\n",
       "      <th>과식성향_5</th>\n",
       "      <td>0.537192</td>\n",
       "    </tr>\n",
       "    <tr>\n",
       "      <th>지각된민감성_3</th>\n",
       "      <td>0.536850</td>\n",
       "    </tr>\n",
       "    <tr>\n",
       "      <th>지각된심각성_1</th>\n",
       "      <td>0.536505</td>\n",
       "    </tr>\n",
       "    <tr>\n",
       "      <th>다이어트의향_2</th>\n",
       "      <td>0.536468</td>\n",
       "    </tr>\n",
       "    <tr>\n",
       "      <th>지각된심각성_2</th>\n",
       "      <td>0.535776</td>\n",
       "    </tr>\n",
       "    <tr>\n",
       "      <th>문19_5</th>\n",
       "      <td>0.513551</td>\n",
       "    </tr>\n",
       "    <tr>\n",
       "      <th>운동에대한장애_7</th>\n",
       "      <td>0.504593</td>\n",
       "    </tr>\n",
       "    <tr>\n",
       "      <th>운동에대한장애_3</th>\n",
       "      <td>0.503232</td>\n",
       "    </tr>\n",
       "    <tr>\n",
       "      <th>과식성향_1</th>\n",
       "      <td>0.490649</td>\n",
       "    </tr>\n",
       "    <tr>\n",
       "      <th>문20_4</th>\n",
       "      <td>0.470587</td>\n",
       "    </tr>\n",
       "    <tr>\n",
       "      <th>문20_3</th>\n",
       "      <td>0.465213</td>\n",
       "    </tr>\n",
       "    <tr>\n",
       "      <th>과식성향_7</th>\n",
       "      <td>0.456302</td>\n",
       "    </tr>\n",
       "    <tr>\n",
       "      <th>체중관리효능감_6</th>\n",
       "      <td>0.438472</td>\n",
       "    </tr>\n",
       "    <tr>\n",
       "      <th>문17_2</th>\n",
       "      <td>0.406725</td>\n",
       "    </tr>\n",
       "    <tr>\n",
       "      <th>과식성향_8</th>\n",
       "      <td>0.301565</td>\n",
       "    </tr>\n",
       "  </tbody>\n",
       "</table>\n",
       "<p>93 rows × 1 columns</p>\n",
       "</div>"
      ],
      "text/plain": [
       "                       0\n",
       "건강생활을 위한 앱 이용  12.188661\n",
       "주관적규범_2         4.968072\n",
       "주관적규범_3         3.599178\n",
       "소셜미디어이용빈도       2.158053\n",
       "스마트폰앱이용갯수       2.055941\n",
       "주관적규범_1         1.917508\n",
       "체중조절            1.741465\n",
       "다이어트의향_7        1.684536\n",
       "운동에대한태도_5       1.678964\n",
       "운동의유익성_5        1.509573\n",
       "과식성향_9          1.508386\n",
       "운동의유익성_4        1.458949\n",
       "다이어트의향_3        1.418519\n",
       "운동에대한태도_2       1.380850\n",
       "문19_3           1.321083\n",
       "운동의유익성_8        1.278340\n",
       "운동에대한태도_3       1.269639\n",
       "스마트폰앱이용시간       1.266152\n",
       "문19_2           1.237834\n",
       "운동의유익성_2        1.229882\n",
       "운동의유익성_7        1.182678\n",
       "운동에대한장애_5       1.181717\n",
       "운동의유익성_6        1.132714\n",
       "스스로 규칙적인 운동     1.091187\n",
       "운동에대한태도_6       1.047462\n",
       "운동에대한태도_1       1.011014\n",
       "문18_3           0.995171\n",
       "스스로 식사조절        0.962165\n",
       "운동에대한장애_4       0.960448\n",
       "다이어트의향_4        0.957524\n",
       "...                  ...\n",
       "다이어트의향_5        0.645552\n",
       "성별              0.641710\n",
       "운동의유익성_1        0.638243\n",
       "문18_4           0.637576\n",
       "문50             0.633181\n",
       "체중관리효능감_5       0.630053\n",
       "운동에대한장애_6       0.625335\n",
       "BMI             0.611775\n",
       "문20_2           0.609165\n",
       "문18_5           0.606925\n",
       "문19_1           0.596681\n",
       "지각된심각성_3        0.590163\n",
       "체형              0.553692\n",
       "운동에대한장애_2       0.550620\n",
       "문18_1           0.549134\n",
       "과식성향_5          0.537192\n",
       "지각된민감성_3        0.536850\n",
       "지각된심각성_1        0.536505\n",
       "다이어트의향_2        0.536468\n",
       "지각된심각성_2        0.535776\n",
       "문19_5           0.513551\n",
       "운동에대한장애_7       0.504593\n",
       "운동에대한장애_3       0.503232\n",
       "과식성향_1          0.490649\n",
       "문20_4           0.470587\n",
       "문20_3           0.465213\n",
       "과식성향_7          0.456302\n",
       "체중관리효능감_6       0.438472\n",
       "문17_2           0.406725\n",
       "과식성향_8          0.301565\n",
       "\n",
       "[93 rows x 1 columns]"
      ]
     },
     "execution_count": 113,
     "metadata": {
      "tags": []
     },
     "output_type": "execute_result"
    }
   ],
   "source": [
    "xgb_gs_FI"
   ]
  },
  {
   "cell_type": "markdown",
   "metadata": {
    "colab_type": "text",
    "id": "Wm0_uPiNW9BC"
   },
   "source": [
    "---"
   ]
  },
  {
   "cell_type": "markdown",
   "metadata": {
    "colab_type": "text",
    "id": "s0_g5OldhwbR"
   },
   "source": [
    "## GradientBoostingClassifier"
   ]
  },
  {
   "cell_type": "code",
   "execution_count": 0,
   "metadata": {
    "colab": {},
    "colab_type": "code",
    "id": "mBUah_lQh9m9"
   },
   "outputs": [],
   "source": [
    "from sklearn.ensemble import GradientBoostingClassifier\n",
    "\n",
    "gbc_clf = GradientBoostingClassifier(n_estimators=100, learning_rate=1.0,\n",
    "    max_depth=5, random_state=0)"
   ]
  },
  {
   "cell_type": "code",
   "execution_count": 0,
   "metadata": {
    "colab": {
     "base_uri": "https://localhost:8080/",
     "height": 197
    },
    "colab_type": "code",
    "id": "Oa6wA1ZDiPs4",
    "outputId": "229a7fde-74d5-45c4-8bf0-7ce6b90f2013"
   },
   "outputs": [
    {
     "data": {
      "text/plain": [
       "GradientBoostingClassifier(criterion='friedman_mse', init=None,\n",
       "                           learning_rate=1.0, loss='deviance', max_depth=5,\n",
       "                           max_features=None, max_leaf_nodes=None,\n",
       "                           min_impurity_decrease=0.0, min_impurity_split=None,\n",
       "                           min_samples_leaf=1, min_samples_split=2,\n",
       "                           min_weight_fraction_leaf=0.0, n_estimators=100,\n",
       "                           n_iter_no_change=None, presort='auto',\n",
       "                           random_state=0, subsample=1.0, tol=0.0001,\n",
       "                           validation_fraction=0.1, verbose=0,\n",
       "                           warm_start=False)"
      ]
     },
     "execution_count": 86,
     "metadata": {
      "tags": []
     },
     "output_type": "execute_result"
    }
   ],
   "source": [
    "gbc_clf.fit(X_train.iloc[:,1:],y_train)"
   ]
  },
  {
   "cell_type": "code",
   "execution_count": 0,
   "metadata": {
    "colab": {
     "base_uri": "https://localhost:8080/",
     "height": 35
    },
    "colab_type": "code",
    "id": "w6S15folidM7",
    "outputId": "d0d6071f-8d09-428c-c3f9-55e2634dccce"
   },
   "outputs": [
    {
     "data": {
      "text/plain": [
       "array([0.685     , 0.70175439, 0.70100503])"
      ]
     },
     "execution_count": 87,
     "metadata": {
      "tags": []
     },
     "output_type": "execute_result"
    }
   ],
   "source": [
    "cross_val_score(gbc_clf, X_train.iloc[:,1:], y_train, cv=3, scoring=\"accuracy\")"
   ]
  },
  {
   "cell_type": "code",
   "execution_count": 0,
   "metadata": {
    "colab": {
     "base_uri": "https://localhost:8080/",
     "height": 35
    },
    "colab_type": "code",
    "id": "YTrKGopqidM-",
    "outputId": "13652b31-635e-4b06-a505-a11ea5422fd2"
   },
   "outputs": [
    {
     "name": "stdout",
     "output_type": "stream",
     "text": [
      "0.7333333333333333\n"
     ]
    }
   ],
   "source": [
    "gbc_pred = gbc_clf.predict(X_test.iloc[:,1:])\n",
    "print(accuracy_score(y_test, gbc_pred))"
   ]
  },
  {
   "cell_type": "code",
   "execution_count": 0,
   "metadata": {
    "colab": {},
    "colab_type": "code",
    "id": "9cZ0hVrgidNE"
   },
   "outputs": [],
   "source": [
    "gbc_FI = pd.DataFrame(zip(X_train.iloc[:,1:], gbc_clf.feature_importances_),columns=['Xtrain','FI'])"
   ]
  },
  {
   "cell_type": "code",
   "execution_count": 0,
   "metadata": {
    "colab": {
     "base_uri": "https://localhost:8080/",
     "height": 359
    },
    "colab_type": "code",
    "id": "YTZ_sgWBidNG",
    "outputId": "e651a272-3e55-4ab7-d314-496c5f6f61c9"
   },
   "outputs": [
    {
     "data": {
      "text/html": [
       "<div>\n",
       "<style scoped>\n",
       "    .dataframe tbody tr th:only-of-type {\n",
       "        vertical-align: middle;\n",
       "    }\n",
       "\n",
       "    .dataframe tbody tr th {\n",
       "        vertical-align: top;\n",
       "    }\n",
       "\n",
       "    .dataframe thead th {\n",
       "        text-align: right;\n",
       "    }\n",
       "</style>\n",
       "<table border=\"1\" class=\"dataframe\">\n",
       "  <thead>\n",
       "    <tr style=\"text-align: right;\">\n",
       "      <th></th>\n",
       "      <th>Xtrain</th>\n",
       "      <th>FI</th>\n",
       "    </tr>\n",
       "  </thead>\n",
       "  <tbody>\n",
       "    <tr>\n",
       "      <th>72</th>\n",
       "      <td>건강생활을 위한 앱 이용</td>\n",
       "      <td>0.195286</td>\n",
       "    </tr>\n",
       "    <tr>\n",
       "      <th>39</th>\n",
       "      <td>주관적규범_2</td>\n",
       "      <td>0.068948</td>\n",
       "    </tr>\n",
       "    <tr>\n",
       "      <th>5</th>\n",
       "      <td>스마트폰앱이용갯수</td>\n",
       "      <td>0.063887</td>\n",
       "    </tr>\n",
       "    <tr>\n",
       "      <th>2</th>\n",
       "      <td>연령</td>\n",
       "      <td>0.038284</td>\n",
       "    </tr>\n",
       "    <tr>\n",
       "      <th>4</th>\n",
       "      <td>소셜미디어이용빈도</td>\n",
       "      <td>0.034119</td>\n",
       "    </tr>\n",
       "    <tr>\n",
       "      <th>68</th>\n",
       "      <td>BMI</td>\n",
       "      <td>0.030191</td>\n",
       "    </tr>\n",
       "    <tr>\n",
       "      <th>105</th>\n",
       "      <td>문53</td>\n",
       "      <td>0.025782</td>\n",
       "    </tr>\n",
       "    <tr>\n",
       "      <th>6</th>\n",
       "      <td>스마트폰앱이용시간</td>\n",
       "      <td>0.021850</td>\n",
       "    </tr>\n",
       "    <tr>\n",
       "      <th>28</th>\n",
       "      <td>운동에대한장애_4</td>\n",
       "      <td>0.019791</td>\n",
       "    </tr>\n",
       "    <tr>\n",
       "      <th>94</th>\n",
       "      <td>문20_4</td>\n",
       "      <td>0.017275</td>\n",
       "    </tr>\n",
       "  </tbody>\n",
       "</table>\n",
       "</div>"
      ],
      "text/plain": [
       "            Xtrain        FI\n",
       "72   건강생활을 위한 앱 이용  0.195286\n",
       "39         주관적규범_2  0.068948\n",
       "5        스마트폰앱이용갯수  0.063887\n",
       "2               연령  0.038284\n",
       "4        소셜미디어이용빈도  0.034119\n",
       "68             BMI  0.030191\n",
       "105            문53  0.025782\n",
       "6        스마트폰앱이용시간  0.021850\n",
       "28       운동에대한장애_4  0.019791\n",
       "94           문20_4  0.017275"
      ]
     },
     "execution_count": 90,
     "metadata": {
      "tags": []
     },
     "output_type": "execute_result"
    }
   ],
   "source": [
    "gbc_FI.sort_values(by=['FI'],ascending=False).head(10)"
   ]
  },
  {
   "cell_type": "markdown",
   "metadata": {
    "colab_type": "text",
    "id": "DkunMTn0k_xh"
   },
   "source": [
    "## Light GBM"
   ]
  },
  {
   "cell_type": "code",
   "execution_count": 0,
   "metadata": {
    "colab": {},
    "colab_type": "code",
    "id": "sdmpJMo9k_me"
   },
   "outputs": [],
   "source": [
    "import lightgbm as lgb\n",
    "from sklearn.model_selection import StratifiedKFold"
   ]
  },
  {
   "cell_type": "code",
   "execution_count": 0,
   "metadata": {
    "colab": {},
    "colab_type": "code",
    "id": "cnUuKtftlKld"
   },
   "outputs": [],
   "source": [
    "lgb_clf = lgb.LGBMClassifier(class_weight='balanced',drop_rate=0.9, min_data_in_leaf=100, max_bin=255,\n",
    "                                 n_estimators=500,min_sum_hessian_in_leaf=1,importance_type='gain',learning_rate=0.1,bagging_fraction = 0.85,\n",
    "                                 colsample_bytree = 1.0,feature_fraction = 0.1,lambda_l1 = 5.0,lambda_l2 = 3.0,max_depth =  9,\n",
    "                                 min_child_samples = 55,min_child_weight = 5.0,min_split_gain = 0.1,num_leaves = 45,subsample = 0.75)  "
   ]
  },
  {
   "cell_type": "code",
   "execution_count": 0,
   "metadata": {
    "colab": {
     "base_uri": "https://localhost:8080/",
     "height": 179
    },
    "colab_type": "code",
    "id": "iImGHG0ZlS97",
    "outputId": "3e0e8d62-74b2-42f4-b0ca-66c878cd7e57"
   },
   "outputs": [
    {
     "data": {
      "text/plain": [
       "LGBMClassifier(bagging_fraction=0.85, boosting_type='gbdt',\n",
       "               class_weight='balanced', colsample_bytree=1.0, drop_rate=0.9,\n",
       "               feature_fraction=0.1, importance_type='gain', lambda_l1=5.0,\n",
       "               lambda_l2=3.0, learning_rate=0.1, max_bin=255, max_depth=9,\n",
       "               min_child_samples=55, min_child_weight=5.0, min_data_in_leaf=100,\n",
       "               min_split_gain=0.1, min_sum_hessian_in_leaf=1, n_estimators=500,\n",
       "               n_jobs=-1, num_leaves=45, objective=None, random_state=None,\n",
       "               reg_alpha=0.0, reg_lambda=0.0, silent=True, subsample=0.75,\n",
       "               subsample_for_bin=200000, subsample_freq=0)"
      ]
     },
     "execution_count": 132,
     "metadata": {
      "tags": []
     },
     "output_type": "execute_result"
    }
   ],
   "source": [
    "lgb_clf.fit(X_train.iloc[:,1:],y_train)"
   ]
  },
  {
   "cell_type": "code",
   "execution_count": 0,
   "metadata": {
    "colab": {
     "base_uri": "https://localhost:8080/",
     "height": 35
    },
    "colab_type": "code",
    "id": "5K3emqzEmEDT",
    "outputId": "f18037cb-c1a9-4c95-ba4c-24df0369f760"
   },
   "outputs": [
    {
     "data": {
      "text/plain": [
       "array([0.7325    , 0.72932331, 0.7160804 ])"
      ]
     },
     "execution_count": 133,
     "metadata": {
      "tags": []
     },
     "output_type": "execute_result"
    }
   ],
   "source": [
    "cross_val_score(lgb_clf, X_train.iloc[:,1:], y_train, cv=3, scoring=\"accuracy\")"
   ]
  },
  {
   "cell_type": "code",
   "execution_count": 0,
   "metadata": {
    "colab": {
     "base_uri": "https://localhost:8080/",
     "height": 35
    },
    "colab_type": "code",
    "id": "_RbOloAzmEDf",
    "outputId": "9b986d00-71a9-4fd3-c8f3-92529127e7aa"
   },
   "outputs": [
    {
     "name": "stdout",
     "output_type": "stream",
     "text": [
      "0.7366666666666667\n"
     ]
    }
   ],
   "source": [
    "lgb_pred = lgb_clf.predict(X_test.iloc[:,1:])\n",
    "print(accuracy_score(y_test, lgb_pred))"
   ]
  },
  {
   "cell_type": "code",
   "execution_count": 0,
   "metadata": {
    "colab": {},
    "colab_type": "code",
    "id": "hMPc4ND8mEDk"
   },
   "outputs": [],
   "source": [
    "lgb_FI = pd.DataFrame(zip(X_train.iloc[:,1:], lgb_clf.feature_importances_),columns=['Xtrain','FI'])"
   ]
  },
  {
   "cell_type": "code",
   "execution_count": 0,
   "metadata": {
    "colab": {
     "base_uri": "https://localhost:8080/",
     "height": 359
    },
    "colab_type": "code",
    "id": "INosd8_HmEDp",
    "outputId": "d1428feb-5261-48af-f4f9-e99f9834bb15"
   },
   "outputs": [
    {
     "data": {
      "text/html": [
       "<div>\n",
       "<style scoped>\n",
       "    .dataframe tbody tr th:only-of-type {\n",
       "        vertical-align: middle;\n",
       "    }\n",
       "\n",
       "    .dataframe tbody tr th {\n",
       "        vertical-align: top;\n",
       "    }\n",
       "\n",
       "    .dataframe thead th {\n",
       "        text-align: right;\n",
       "    }\n",
       "</style>\n",
       "<table border=\"1\" class=\"dataframe\">\n",
       "  <thead>\n",
       "    <tr style=\"text-align: right;\">\n",
       "      <th></th>\n",
       "      <th>Xtrain</th>\n",
       "      <th>FI</th>\n",
       "    </tr>\n",
       "  </thead>\n",
       "  <tbody>\n",
       "    <tr>\n",
       "      <th>72</th>\n",
       "      <td>건강생활을 위한 앱 이용</td>\n",
       "      <td>426.170743</td>\n",
       "    </tr>\n",
       "    <tr>\n",
       "      <th>5</th>\n",
       "      <td>스마트폰앱이용갯수</td>\n",
       "      <td>241.386454</td>\n",
       "    </tr>\n",
       "    <tr>\n",
       "      <th>39</th>\n",
       "      <td>주관적규범_2</td>\n",
       "      <td>234.342318</td>\n",
       "    </tr>\n",
       "    <tr>\n",
       "      <th>4</th>\n",
       "      <td>소셜미디어이용빈도</td>\n",
       "      <td>161.826812</td>\n",
       "    </tr>\n",
       "    <tr>\n",
       "      <th>40</th>\n",
       "      <td>주관적규범_3</td>\n",
       "      <td>114.634423</td>\n",
       "    </tr>\n",
       "    <tr>\n",
       "      <th>38</th>\n",
       "      <td>주관적규범_1</td>\n",
       "      <td>94.777152</td>\n",
       "    </tr>\n",
       "    <tr>\n",
       "      <th>71</th>\n",
       "      <td>체중조절</td>\n",
       "      <td>67.161706</td>\n",
       "    </tr>\n",
       "    <tr>\n",
       "      <th>75</th>\n",
       "      <td>스스로 규칙적인 운동</td>\n",
       "      <td>64.804124</td>\n",
       "    </tr>\n",
       "    <tr>\n",
       "      <th>62</th>\n",
       "      <td>다이어트의향_7</td>\n",
       "      <td>64.693869</td>\n",
       "    </tr>\n",
       "    <tr>\n",
       "      <th>2</th>\n",
       "      <td>연령</td>\n",
       "      <td>63.674038</td>\n",
       "    </tr>\n",
       "  </tbody>\n",
       "</table>\n",
       "</div>"
      ],
      "text/plain": [
       "           Xtrain          FI\n",
       "72  건강생활을 위한 앱 이용  426.170743\n",
       "5       스마트폰앱이용갯수  241.386454\n",
       "39        주관적규범_2  234.342318\n",
       "4       소셜미디어이용빈도  161.826812\n",
       "40        주관적규범_3  114.634423\n",
       "38        주관적규범_1   94.777152\n",
       "71           체중조절   67.161706\n",
       "75    스스로 규칙적인 운동   64.804124\n",
       "62       다이어트의향_7   64.693869\n",
       "2              연령   63.674038"
      ]
     },
     "execution_count": 136,
     "metadata": {
      "tags": []
     },
     "output_type": "execute_result"
    }
   ],
   "source": [
    "lgb_FI.sort_values(by=['FI'],ascending=False).head(10)"
   ]
  },
  {
   "cell_type": "markdown",
   "metadata": {
    "colab_type": "text",
    "id": "bOKAZr80RDjP"
   },
   "source": [
    "#### Randomsearch로 최적의 parameter 찾기"
   ]
  },
  {
   "cell_type": "code",
   "execution_count": 0,
   "metadata": {
    "colab": {},
    "colab_type": "code",
    "id": "vUHgG7OS63RU"
   },
   "outputs": [],
   "source": [
    "import numpy as np\n",
    "import pandas as pd\n",
    "from datetime import datetime\n",
    "from sklearn.model_selection import RandomizedSearchCV, GridSearchCV\n",
    "from sklearn.metrics import roc_auc_score\n",
    "from sklearn.model_selection import StratifiedKFold\n",
    "import lightgbm as lgb\n",
    "from sklearn.metrics import classification_report\n"
   ]
  },
  {
   "cell_type": "code",
   "execution_count": 0,
   "metadata": {
    "colab": {},
    "colab_type": "code",
    "id": "58KvR80R63RW"
   },
   "outputs": [],
   "source": [
    "def timer(start_time=None):\n",
    "    if not start_time:\n",
    "        start_time = datetime.now()\n",
    "        return start_time\n",
    "    elif start_time:\n",
    "        thour, temp_sec = divmod((datetime.now() - start_time).total_seconds(), 3600)\n",
    "        tmin, tsec = divmod(temp_sec, 60)\n",
    "        print('\\n Time taken: %i hours %i minutes and %s seconds.' % (thour, tmin, round(tsec, 2)))"
   ]
  },
  {
   "cell_type": "code",
   "execution_count": 0,
   "metadata": {
    "colab": {},
    "colab_type": "code",
    "id": "GRMvW6cA63RX"
   },
   "outputs": [],
   "source": [
    "# A parameter grid for LGB\n",
    "params = {\n",
    "        'min_child_weight': [n for n in range(1,21,5)],\n",
    "        'gamma': [n for n in np.arange(0.5, 10, 0.5)],\n",
    "        'subsample': [n for n in np.arange(0.1, 1.0, 0.1)],\n",
    "        'colsample_bytree': [n for n in np.arange(0.1, 1.1, 0.1)],\n",
    "        'max_depth' : [n for n in range(1,31)],\n",
    "        'learning_rate' : [n for n in np.arange(0.01, 0.2, 0.01)],\n",
    "        'n_esrimators' : [n for n in range(50,1001,50)],\n",
    "        'seed' : [n for n in range(1,10)]\n",
    "        }\n"
   ]
  },
  {
   "cell_type": "code",
   "execution_count": 0,
   "metadata": {
    "colab": {},
    "colab_type": "code",
    "id": "TcEemhT_63Rc"
   },
   "outputs": [],
   "source": [
    "lgb_clf_rs = lgb.LGBMClassifier(learning_rate=0.02, n_estimators=600, objective='binary',\n",
    "                    silent=True, nthread=1)"
   ]
  },
  {
   "cell_type": "code",
   "execution_count": 0,
   "metadata": {
    "colab": {
     "base_uri": "https://localhost:8080/",
     "height": 233
    },
    "colab_type": "code",
    "id": "seCoU2sz63Rd",
    "outputId": "b8db7cf1-8120-4081-e7b7-f8f5720f4c61"
   },
   "outputs": [
    {
     "name": "stdout",
     "output_type": "stream",
     "text": [
      "Fitting 5 folds for each of 400 candidates, totalling 2000 fits\n"
     ]
    },
    {
     "name": "stderr",
     "output_type": "stream",
     "text": [
      "[Parallel(n_jobs=4)]: Using backend LokyBackend with 4 concurrent workers.\n",
      "[Parallel(n_jobs=4)]: Done  24 tasks      | elapsed:   10.7s\n",
      "[Parallel(n_jobs=4)]: Done 120 tasks      | elapsed:   42.4s\n",
      "[Parallel(n_jobs=4)]: Done 280 tasks      | elapsed:  1.6min\n",
      "[Parallel(n_jobs=4)]: Done 504 tasks      | elapsed:  2.9min\n",
      "[Parallel(n_jobs=4)]: Done 792 tasks      | elapsed:  4.5min\n",
      "[Parallel(n_jobs=4)]: Done 1144 tasks      | elapsed:  6.5min\n",
      "[Parallel(n_jobs=4)]: Done 1560 tasks      | elapsed:  8.8min\n",
      "[Parallel(n_jobs=4)]: Done 2000 out of 2000 | elapsed: 11.4min finished\n"
     ]
    },
    {
     "name": "stdout",
     "output_type": "stream",
     "text": [
      "\n",
      " Time taken: 0 hours 11 minutes and 21.98 seconds.\n"
     ]
    }
   ],
   "source": [
    "folds = 5\n",
    "\n",
    "skf = StratifiedKFold(n_splits=folds, shuffle = True, random_state = 1001)\n",
    "\n",
    "random_search_lgb = RandomizedSearchCV(lgb_clf_rs, param_distributions=params, n_iter=800, scoring='accuracy', n_jobs=4, cv=skf.split(X_train.iloc[:,1:],y_train), verbose=3, random_state=1001 )\n",
    "\n",
    "# Here we go\n",
    "start_time = timer(None) # timing starts from this point for \"start_time\" variable\n",
    "random_search_lgb.fit(X_train.iloc[:,1:], y_train.values)\n",
    "timer(start_time) # timing ends here for \"start_time\" variable"
   ]
  },
  {
   "cell_type": "code",
   "execution_count": 0,
   "metadata": {
    "colab": {
     "base_uri": "https://localhost:8080/",
     "height": 523
    },
    "colab_type": "code",
    "id": "IghNBfmY63Rf",
    "outputId": "f14c3ee3-c0b3-4aa8-a969-59590aa72395"
   },
   "outputs": [
    {
     "name": "stdout",
     "output_type": "stream",
     "text": [
      "----------------------------------------------------------------------------------------------------\n",
      "\n",
      " 1. Best estimator:\n",
      "LGBMClassifier(boosting_type='gbdt', class_weight=None,\n",
      "               colsample_bytree=0.30000000000000004, gamma=6.0,\n",
      "               importance_type='split', learning_rate=0.01, max_depth=6,\n",
      "               min_child_samples=20, min_child_weight=6, min_split_gain=0.0,\n",
      "               n_esrimators=500, n_estimators=600, n_jobs=-1, nthread=1,\n",
      "               num_leaves=31, objective='binary', random_state=None,\n",
      "               reg_alpha=0.0, reg_lambda=0.0, seed=5, silent=True,\n",
      "               subsample=0.4, subsample_for_bin=200000, subsample_freq=0)\n",
      "----------------------------------------------------------------------------------------------------\n",
      "\n",
      " 2. 5 Fold & mean_test_score& std_test_score\n",
      "split0_test_score     0.755187\n",
      "split1_test_score     0.786611\n",
      "split2_test_score     0.753138\n",
      "split3_test_score     0.774059\n",
      "split4_test_score     0.711297\n",
      "mean_test_score       0.756057\n",
      "std_test_score       0.0255533\n",
      "Name: 155, dtype: object\n",
      "----------------------------------------------------------------------------------------------------\n",
      "\n",
      " 3. Best hyperparameters:\n",
      "{'subsample': 0.4, 'seed': 5, 'n_esrimators': 500, 'min_child_weight': 6, 'max_depth': 6, 'learning_rate': 0.01, 'gamma': 6.0, 'colsample_bytree': 0.30000000000000004}\n",
      "----------------------------------------------------------------------------------------------------\n"
     ]
    }
   ],
   "source": [
    "print('-'*100)\n",
    "print('\\n 1. Best estimator:')\n",
    "print(random_search_lgb.best_estimator_)\n",
    "print('-'*100)\n",
    "print('\\n 2. %d Fold & mean_test_score& std_test_score' % folds)\n",
    "print(results_lgb.sort_values(by=['rank_test_score'],ascending=True).iloc[0,-8:-1])\n",
    "print('-'*100)\n",
    "print('\\n 3. Best hyperparameters:')\n",
    "print(random_search_lgb.best_params_)\n",
    "print('-'*100)\n",
    "results_lgb = pd.DataFrame(random_search_lgb.cv_results_)\n"
   ]
  },
  {
   "cell_type": "code",
   "execution_count": 0,
   "metadata": {
    "colab": {},
    "colab_type": "code",
    "id": "ABqV5t-2Tgo7"
   },
   "outputs": [],
   "source": [
    "# array([0.75      , 0.73684211, 0.71105528]) 0.7633333333333333\n",
    "lgb_gs_clf = lgb.LGBMClassifier(boosting_type='gbdt', class_weight=None, colsample_bytree=1.0,\n",
    "               gamma=5, importance_type='split', learning_rate=0.01,\n",
    "               max_depth=1, min_child_samples=20, min_child_weight=5,\n",
    "               min_split_gain=0.0, n_esrimators=200, n_estimators=600,\n",
    "               n_jobs=-1, nthread=1, num_leaves=31, objective='binary',\n",
    "               random_state=None, reg_alpha=0.0, reg_lambda=0.0, seed=9,\n",
    "               silent=True, subsample=0.8, subsample_for_bin=200000,\n",
    "               subsample_freq=0)"
   ]
  },
  {
   "cell_type": "code",
   "execution_count": 0,
   "metadata": {
    "colab": {},
    "colab_type": "code",
    "id": "n9k6D0l3lkfM"
   },
   "outputs": [],
   "source": [
    "# array([0.7325    , 0.72932331, 0.72110553]) 0.78\n",
    "lgb_gs_clf = lgb.LGBMClassifier(boosting_type='gbdt', class_weight=None, colsample_bytree=0.8,\n",
    "               gamma=8.0, importance_type='split', learning_rate=0.01,\n",
    "               max_depth=13, min_child_samples=20, min_child_weight=11,\n",
    "               min_split_gain=0.0, n_esrimators=450, n_estimators=600,\n",
    "               n_jobs=-1, nthread=1, num_leaves=31, objective='binary',\n",
    "               random_state=None, reg_alpha=0.0, reg_lambda=0.0, seed=8,\n",
    "               silent=True, subsample=0.6, subsample_for_bin=200000,\n",
    "               subsample_freq=0)"
   ]
  },
  {
   "cell_type": "code",
   "execution_count": 0,
   "metadata": {
    "colab": {},
    "colab_type": "code",
    "id": "tkclWzvPDl8W"
   },
   "outputs": [],
   "source": [
    "# 0.755187\t0.786611\t0.753138\t0.774059\t0.711297 //\t0.756057 // \t0.025553\n",
    "lgb_gs_clf =  lgb.LGBMClassifier(boosting_type='gbdt', class_weight=None,\n",
    "               colsample_bytree=0.30000000000000004, gamma=6.0,\n",
    "               importance_type='split', learning_rate=0.01, max_depth=6,\n",
    "               min_child_samples=20, min_child_weight=6, min_split_gain=0.0,\n",
    "               n_esrimators=500, n_estimators=600, n_jobs=-1, nthread=1,\n",
    "               num_leaves=31, objective='binary', random_state=None,\n",
    "               reg_alpha=0.0, reg_lambda=0.0, seed=5, silent=True,\n",
    "               subsample=0.4, subsample_for_bin=200000, subsample_freq=0)"
   ]
  },
  {
   "cell_type": "code",
   "execution_count": 0,
   "metadata": {
    "colab": {
     "base_uri": "https://localhost:8080/",
     "height": 161
    },
    "colab_type": "code",
    "id": "B5FeD821Tgo_",
    "outputId": "b58bd8a1-dba2-4dd9-8c40-0229cae97320"
   },
   "outputs": [
    {
     "data": {
      "text/plain": [
       "LGBMClassifier(boosting_type='gbdt', class_weight=None, colsample_bytree=0.8,\n",
       "               gamma=8.0, importance_type='split', learning_rate=0.01,\n",
       "               max_depth=13, min_child_samples=20, min_child_weight=11,\n",
       "               min_split_gain=0.0, n_esrimators=450, n_estimators=600,\n",
       "               n_jobs=-1, nthread=1, num_leaves=31, objective='binary',\n",
       "               random_state=None, reg_alpha=0.0, reg_lambda=0.0, seed=8,\n",
       "               silent=True, subsample=0.6, subsample_for_bin=200000,\n",
       "               subsample_freq=0)"
      ]
     },
     "execution_count": 151,
     "metadata": {
      "tags": []
     },
     "output_type": "execute_result"
    }
   ],
   "source": [
    "lgb_gs_clf.fit(X_train.iloc[:,1:],y_train)"
   ]
  },
  {
   "cell_type": "code",
   "execution_count": 0,
   "metadata": {
    "colab": {
     "base_uri": "https://localhost:8080/",
     "height": 35
    },
    "colab_type": "code",
    "id": "j435sVJtTgpC",
    "outputId": "4207b56d-2729-473a-c17f-6e6c82baac30"
   },
   "outputs": [
    {
     "name": "stdout",
     "output_type": "stream",
     "text": [
      "0.7633333333333333\n"
     ]
    }
   ],
   "source": [
    "lgb_gs_pred = lgb_gs_clf.predict(X_test.iloc[:,1:])\n",
    "print(accuracy_score(y_test, lgb_gs_pred))"
   ]
  },
  {
   "cell_type": "code",
   "execution_count": 0,
   "metadata": {
    "colab": {},
    "colab_type": "code",
    "id": "o7fGsd5GF84y"
   },
   "outputs": [],
   "source": []
  },
  {
   "cell_type": "code",
   "execution_count": 0,
   "metadata": {
    "colab": {
     "base_uri": "https://localhost:8080/",
     "height": 161
    },
    "colab_type": "code",
    "id": "qojW4Z6rD0Xy",
    "outputId": "32d55794-01c6-43f3-c158-a69d18924e3f"
   },
   "outputs": [
    {
     "data": {
      "text/plain": [
       "split0_test_score     0.755187\n",
       "split1_test_score     0.786611\n",
       "split2_test_score     0.753138\n",
       "split3_test_score     0.774059\n",
       "split4_test_score     0.711297\n",
       "mean_test_score       0.756057\n",
       "std_test_score       0.0255533\n",
       "Name: 155, dtype: object"
      ]
     },
     "execution_count": 162,
     "metadata": {
      "tags": []
     },
     "output_type": "execute_result"
    }
   ],
   "source": [
    "results_lgb.sort_values(by=['rank_test_score'],ascending=True).iloc[0,-8:-1]"
   ]
  },
  {
   "cell_type": "code",
   "execution_count": 0,
   "metadata": {
    "colab": {},
    "colab_type": "code",
    "id": "CW2Z8H3XE1qa"
   },
   "outputs": [],
   "source": [
    "from sklearn.metrics import confusion_matrix"
   ]
  },
  {
   "cell_type": "code",
   "execution_count": 0,
   "metadata": {
    "colab": {
     "base_uri": "https://localhost:8080/",
     "height": 53
    },
    "colab_type": "code",
    "id": "oQ2j-ksGE9Xh",
    "outputId": "f47c1a60-491f-498a-b617-7ba506da32ee"
   },
   "outputs": [
    {
     "name": "stdout",
     "output_type": "stream",
     "text": [
      "[[ 64  45]\n",
      " [ 26 165]]\n"
     ]
    }
   ],
   "source": [
    "confusion_matrix_lgb = confusion_matrix(y_test,lgb_gs_pred)\n",
    "print(confusion_matrix_lgb)\n",
    "# 0,0 : TP\n",
    "# 0,1 : FP\n",
    "# 1,0 : FN\n",
    "# 1,1 : TN"
   ]
  },
  {
   "cell_type": "code",
   "execution_count": 0,
   "metadata": {
    "colab": {
     "base_uri": "https://localhost:8080/",
     "height": 179
    },
    "colab_type": "code",
    "id": "wDoqrqizTgpE",
    "outputId": "4f51bfb3-6d2f-47af-ea75-9df9d921baa1"
   },
   "outputs": [
    {
     "name": "stdout",
     "output_type": "stream",
     "text": [
      "              precision    recall  f1-score   support\n",
      "\n",
      "           0       0.66      0.61      0.64       109\n",
      "           1       0.79      0.82      0.81       191\n",
      "\n",
      "    accuracy                           0.75       300\n",
      "   macro avg       0.73      0.72      0.72       300\n",
      "weighted avg       0.74      0.75      0.74       300\n",
      "\n"
     ]
    }
   ],
   "source": [
    "print(classification_report(y_test,lgb_gs_pred))"
   ]
  },
  {
   "cell_type": "markdown",
   "metadata": {
    "colab_type": "text",
    "id": "hxYRSnvhiI1a"
   },
   "source": [
    "---"
   ]
  },
  {
   "cell_type": "markdown",
   "metadata": {
    "colab_type": "text",
    "id": "AgScEcHOEdZW"
   },
   "source": [
    "## AdaBoost"
   ]
  },
  {
   "cell_type": "code",
   "execution_count": 0,
   "metadata": {
    "colab": {},
    "colab_type": "code",
    "id": "hgG0vxbMEj97"
   },
   "outputs": [],
   "source": [
    "# Load libraries\n",
    "from sklearn.ensemble import AdaBoostClassifier\n",
    "from sklearn import datasets\n",
    "# Import train_test_split function\n",
    "from sklearn.model_selection import train_test_split\n",
    "#Import scikit-learn metrics module for accuracy calculation\n",
    "from sklearn import metrics"
   ]
  },
  {
   "cell_type": "code",
   "execution_count": 0,
   "metadata": {
    "colab": {},
    "colab_type": "code",
    "id": "JBU1NyeFEpJR"
   },
   "outputs": [],
   "source": [
    "# Create adaboost classifer object\n",
    "ada_clf = AdaBoostClassifier(n_estimators=500,\n",
    "                         learning_rate=0.1)\n",
    "# Train Adaboost Classifer\n",
    "ada_clf = ada_clf.fit(X_train.iloc[:,1:], y_train)\n",
    "\n",
    "#Predict the response for test dataset\n",
    "ada_clf_pred = ada_clf.predict(X_test.iloc[:,1:])"
   ]
  },
  {
   "cell_type": "code",
   "execution_count": 0,
   "metadata": {
    "colab": {
     "base_uri": "https://localhost:8080/",
     "height": 35
    },
    "colab_type": "code",
    "id": "mdFXox0gC5QJ",
    "outputId": "3d42dd14-0c5c-495b-b82c-76f603660a1a"
   },
   "outputs": [
    {
     "name": "stdout",
     "output_type": "stream",
     "text": [
      "Accuracy: 0.7633333333333333\n"
     ]
    }
   ],
   "source": [
    "print(\"Accuracy:\",metrics.accuracy_score(y_test, ada_clf_pred))\n"
   ]
  },
  {
   "cell_type": "code",
   "execution_count": 0,
   "metadata": {
    "colab": {
     "base_uri": "https://localhost:8080/",
     "height": 35
    },
    "colab_type": "code",
    "id": "H_rmvXT-EvTA",
    "outputId": "ce39f4af-4377-4078-ef9d-f44abd714549"
   },
   "outputs": [
    {
     "name": "stdout",
     "output_type": "stream",
     "text": [
      "<zip object at 0x7fa36b9ec808>\n"
     ]
    }
   ],
   "source": [
    "print(zip(X_train.iloc[:,1:], ada_clf.feature_importances_))"
   ]
  },
  {
   "cell_type": "code",
   "execution_count": 0,
   "metadata": {
    "colab": {},
    "colab_type": "code",
    "id": "SWsRedYKiUse"
   },
   "outputs": [],
   "source": [
    "ada_FI = pd.DataFrame(zip(X_train.iloc[:,1:], ada_clf.feature_importances_),columns=['Xtrain','FI'])"
   ]
  },
  {
   "cell_type": "code",
   "execution_count": 0,
   "metadata": {
    "colab": {
     "base_uri": "https://localhost:8080/",
     "height": 35
    },
    "colab_type": "code",
    "id": "DcSR4I5PifaN",
    "outputId": "d957ad09-8226-4fd7-f56c-75625d4180e1"
   },
   "outputs": [
    {
     "data": {
      "text/plain": [
       "1.0"
      ]
     },
     "execution_count": 115,
     "metadata": {
      "tags": []
     },
     "output_type": "execute_result"
    }
   ],
   "source": [
    "ada_clf.feature_importances_.sum()"
   ]
  },
  {
   "cell_type": "code",
   "execution_count": 0,
   "metadata": {
    "colab": {
     "base_uri": "https://localhost:8080/",
     "height": 1000
    },
    "colab_type": "code",
    "id": "2OhnoxySiUsn",
    "outputId": "1d587fce-64c4-48d1-8530-8c660e4c895f"
   },
   "outputs": [
    {
     "data": {
      "text/html": [
       "<div>\n",
       "<style scoped>\n",
       "    .dataframe tbody tr th:only-of-type {\n",
       "        vertical-align: middle;\n",
       "    }\n",
       "\n",
       "    .dataframe tbody tr th {\n",
       "        vertical-align: top;\n",
       "    }\n",
       "\n",
       "    .dataframe thead th {\n",
       "        text-align: right;\n",
       "    }\n",
       "</style>\n",
       "<table border=\"1\" class=\"dataframe\">\n",
       "  <thead>\n",
       "    <tr style=\"text-align: right;\">\n",
       "      <th></th>\n",
       "      <th>Xtrain</th>\n",
       "      <th>FI</th>\n",
       "    </tr>\n",
       "  </thead>\n",
       "  <tbody>\n",
       "    <tr>\n",
       "      <th>2</th>\n",
       "      <td>연령</td>\n",
       "      <td>0.068</td>\n",
       "    </tr>\n",
       "    <tr>\n",
       "      <th>39</th>\n",
       "      <td>주관적규범_2</td>\n",
       "      <td>0.066</td>\n",
       "    </tr>\n",
       "    <tr>\n",
       "      <th>5</th>\n",
       "      <td>스마트폰앱이용갯수</td>\n",
       "      <td>0.062</td>\n",
       "    </tr>\n",
       "    <tr>\n",
       "      <th>72</th>\n",
       "      <td>건강생활을 위한 앱 이용</td>\n",
       "      <td>0.054</td>\n",
       "    </tr>\n",
       "    <tr>\n",
       "      <th>4</th>\n",
       "      <td>소셜미디어이용빈도</td>\n",
       "      <td>0.052</td>\n",
       "    </tr>\n",
       "    <tr>\n",
       "      <th>105</th>\n",
       "      <td>문53</td>\n",
       "      <td>0.038</td>\n",
       "    </tr>\n",
       "    <tr>\n",
       "      <th>6</th>\n",
       "      <td>스마트폰앱이용시간</td>\n",
       "      <td>0.034</td>\n",
       "    </tr>\n",
       "    <tr>\n",
       "      <th>62</th>\n",
       "      <td>다이어트의향_7</td>\n",
       "      <td>0.032</td>\n",
       "    </tr>\n",
       "    <tr>\n",
       "      <th>28</th>\n",
       "      <td>운동에대한장애_4</td>\n",
       "      <td>0.030</td>\n",
       "    </tr>\n",
       "    <tr>\n",
       "      <th>49</th>\n",
       "      <td>다이어트의향_1</td>\n",
       "      <td>0.028</td>\n",
       "    </tr>\n",
       "    <tr>\n",
       "      <th>94</th>\n",
       "      <td>문20_4</td>\n",
       "      <td>0.024</td>\n",
       "    </tr>\n",
       "    <tr>\n",
       "      <th>33</th>\n",
       "      <td>운동에대한태도_2</td>\n",
       "      <td>0.022</td>\n",
       "    </tr>\n",
       "    <tr>\n",
       "      <th>68</th>\n",
       "      <td>BMI</td>\n",
       "      <td>0.022</td>\n",
       "    </tr>\n",
       "    <tr>\n",
       "      <th>38</th>\n",
       "      <td>주관적규범_1</td>\n",
       "      <td>0.022</td>\n",
       "    </tr>\n",
       "    <tr>\n",
       "      <th>78</th>\n",
       "      <td>문17_3</td>\n",
       "      <td>0.020</td>\n",
       "    </tr>\n",
       "    <tr>\n",
       "      <th>100</th>\n",
       "      <td>당뇨병</td>\n",
       "      <td>0.020</td>\n",
       "    </tr>\n",
       "    <tr>\n",
       "      <th>43</th>\n",
       "      <td>체중관리효능감_3</td>\n",
       "      <td>0.020</td>\n",
       "    </tr>\n",
       "    <tr>\n",
       "      <th>46</th>\n",
       "      <td>체중관리효능감_6</td>\n",
       "      <td>0.018</td>\n",
       "    </tr>\n",
       "    <tr>\n",
       "      <th>77</th>\n",
       "      <td>문17_2</td>\n",
       "      <td>0.018</td>\n",
       "    </tr>\n",
       "    <tr>\n",
       "      <th>54</th>\n",
       "      <td>다이어트의향_3</td>\n",
       "      <td>0.016</td>\n",
       "    </tr>\n",
       "    <tr>\n",
       "      <th>102</th>\n",
       "      <td>관절염</td>\n",
       "      <td>0.016</td>\n",
       "    </tr>\n",
       "    <tr>\n",
       "      <th>40</th>\n",
       "      <td>주관적규범_3</td>\n",
       "      <td>0.016</td>\n",
       "    </tr>\n",
       "    <tr>\n",
       "      <th>56</th>\n",
       "      <td>다이어트의향_4</td>\n",
       "      <td>0.016</td>\n",
       "    </tr>\n",
       "    <tr>\n",
       "      <th>23</th>\n",
       "      <td>운동의유익성_7</td>\n",
       "      <td>0.016</td>\n",
       "    </tr>\n",
       "    <tr>\n",
       "      <th>80</th>\n",
       "      <td>문18_1</td>\n",
       "      <td>0.016</td>\n",
       "    </tr>\n",
       "    <tr>\n",
       "      <th>41</th>\n",
       "      <td>체중관리효능감_1</td>\n",
       "      <td>0.014</td>\n",
       "    </tr>\n",
       "    <tr>\n",
       "      <th>81</th>\n",
       "      <td>문18_2</td>\n",
       "      <td>0.014</td>\n",
       "    </tr>\n",
       "    <tr>\n",
       "      <th>17</th>\n",
       "      <td>운동의유익성_1</td>\n",
       "      <td>0.014</td>\n",
       "    </tr>\n",
       "    <tr>\n",
       "      <th>44</th>\n",
       "      <td>체중관리효능감_4</td>\n",
       "      <td>0.012</td>\n",
       "    </tr>\n",
       "    <tr>\n",
       "      <th>92</th>\n",
       "      <td>문20_2</td>\n",
       "      <td>0.012</td>\n",
       "    </tr>\n",
       "    <tr>\n",
       "      <th>...</th>\n",
       "      <td>...</td>\n",
       "      <td>...</td>\n",
       "    </tr>\n",
       "    <tr>\n",
       "      <th>10</th>\n",
       "      <td>지각된민감성_4</td>\n",
       "      <td>0.000</td>\n",
       "    </tr>\n",
       "    <tr>\n",
       "      <th>95</th>\n",
       "      <td>문21</td>\n",
       "      <td>0.000</td>\n",
       "    </tr>\n",
       "    <tr>\n",
       "      <th>7</th>\n",
       "      <td>지각된민감성_1</td>\n",
       "      <td>0.000</td>\n",
       "    </tr>\n",
       "    <tr>\n",
       "      <th>99</th>\n",
       "      <td>고혈압</td>\n",
       "      <td>0.000</td>\n",
       "    </tr>\n",
       "    <tr>\n",
       "      <th>82</th>\n",
       "      <td>문18_3</td>\n",
       "      <td>0.000</td>\n",
       "    </tr>\n",
       "    <tr>\n",
       "      <th>71</th>\n",
       "      <td>체중조절</td>\n",
       "      <td>0.000</td>\n",
       "    </tr>\n",
       "    <tr>\n",
       "      <th>15</th>\n",
       "      <td>지각된심각성_4</td>\n",
       "      <td>0.000</td>\n",
       "    </tr>\n",
       "    <tr>\n",
       "      <th>79</th>\n",
       "      <td>문17_4</td>\n",
       "      <td>0.000</td>\n",
       "    </tr>\n",
       "    <tr>\n",
       "      <th>32</th>\n",
       "      <td>운동에대한태도_1</td>\n",
       "      <td>0.000</td>\n",
       "    </tr>\n",
       "    <tr>\n",
       "      <th>31</th>\n",
       "      <td>운동에대한장애_7</td>\n",
       "      <td>0.000</td>\n",
       "    </tr>\n",
       "    <tr>\n",
       "      <th>42</th>\n",
       "      <td>체중관리효능감_1.1</td>\n",
       "      <td>0.000</td>\n",
       "    </tr>\n",
       "    <tr>\n",
       "      <th>52</th>\n",
       "      <td>다이어트의향_2</td>\n",
       "      <td>0.000</td>\n",
       "    </tr>\n",
       "    <tr>\n",
       "      <th>1</th>\n",
       "      <td>성별</td>\n",
       "      <td>0.000</td>\n",
       "    </tr>\n",
       "    <tr>\n",
       "      <th>24</th>\n",
       "      <td>운동의유익성_8</td>\n",
       "      <td>0.000</td>\n",
       "    </tr>\n",
       "    <tr>\n",
       "      <th>22</th>\n",
       "      <td>운동의유익성_6</td>\n",
       "      <td>0.000</td>\n",
       "    </tr>\n",
       "    <tr>\n",
       "      <th>57</th>\n",
       "      <td>다이어트의향_5</td>\n",
       "      <td>0.000</td>\n",
       "    </tr>\n",
       "    <tr>\n",
       "      <th>58</th>\n",
       "      <td>과식성향_5</td>\n",
       "      <td>0.000</td>\n",
       "    </tr>\n",
       "    <tr>\n",
       "      <th>21</th>\n",
       "      <td>운동의유익성_5</td>\n",
       "      <td>0.000</td>\n",
       "    </tr>\n",
       "    <tr>\n",
       "      <th>64</th>\n",
       "      <td>과식성향_9</td>\n",
       "      <td>0.000</td>\n",
       "    </tr>\n",
       "    <tr>\n",
       "      <th>66</th>\n",
       "      <td>과식성향_10</td>\n",
       "      <td>0.000</td>\n",
       "    </tr>\n",
       "    <tr>\n",
       "      <th>20</th>\n",
       "      <td>운동의유익성_4</td>\n",
       "      <td>0.000</td>\n",
       "    </tr>\n",
       "    <tr>\n",
       "      <th>69</th>\n",
       "      <td>체형</td>\n",
       "      <td>0.000</td>\n",
       "    </tr>\n",
       "    <tr>\n",
       "      <th>70</th>\n",
       "      <td>비만인식</td>\n",
       "      <td>0.000</td>\n",
       "    </tr>\n",
       "    <tr>\n",
       "      <th>19</th>\n",
       "      <td>운동의유익성_3</td>\n",
       "      <td>0.000</td>\n",
       "    </tr>\n",
       "    <tr>\n",
       "      <th>73</th>\n",
       "      <td>관리를 위한 전문기관 이용</td>\n",
       "      <td>0.000</td>\n",
       "    </tr>\n",
       "    <tr>\n",
       "      <th>75</th>\n",
       "      <td>스스로 규칙적인 운동</td>\n",
       "      <td>0.000</td>\n",
       "    </tr>\n",
       "    <tr>\n",
       "      <th>76</th>\n",
       "      <td>문17_1</td>\n",
       "      <td>0.000</td>\n",
       "    </tr>\n",
       "    <tr>\n",
       "      <th>18</th>\n",
       "      <td>운동의유익성_2</td>\n",
       "      <td>0.000</td>\n",
       "    </tr>\n",
       "    <tr>\n",
       "      <th>16</th>\n",
       "      <td>지각된심각성_5</td>\n",
       "      <td>0.000</td>\n",
       "    </tr>\n",
       "    <tr>\n",
       "      <th>0</th>\n",
       "      <td>거주지역</td>\n",
       "      <td>0.000</td>\n",
       "    </tr>\n",
       "  </tbody>\n",
       "</table>\n",
       "<p>106 rows × 2 columns</p>\n",
       "</div>"
      ],
      "text/plain": [
       "             Xtrain     FI\n",
       "2                연령  0.068\n",
       "39          주관적규범_2  0.066\n",
       "5         스마트폰앱이용갯수  0.062\n",
       "72    건강생활을 위한 앱 이용  0.054\n",
       "4         소셜미디어이용빈도  0.052\n",
       "105             문53  0.038\n",
       "6         스마트폰앱이용시간  0.034\n",
       "62         다이어트의향_7  0.032\n",
       "28        운동에대한장애_4  0.030\n",
       "49         다이어트의향_1  0.028\n",
       "94            문20_4  0.024\n",
       "33        운동에대한태도_2  0.022\n",
       "68              BMI  0.022\n",
       "38          주관적규범_1  0.022\n",
       "78            문17_3  0.020\n",
       "100             당뇨병  0.020\n",
       "43        체중관리효능감_3  0.020\n",
       "46        체중관리효능감_6  0.018\n",
       "77            문17_2  0.018\n",
       "54         다이어트의향_3  0.016\n",
       "102             관절염  0.016\n",
       "40          주관적규범_3  0.016\n",
       "56         다이어트의향_4  0.016\n",
       "23         운동의유익성_7  0.016\n",
       "80            문18_1  0.016\n",
       "41        체중관리효능감_1  0.014\n",
       "81            문18_2  0.014\n",
       "17         운동의유익성_1  0.014\n",
       "44        체중관리효능감_4  0.012\n",
       "92            문20_2  0.012\n",
       "..              ...    ...\n",
       "10         지각된민감성_4  0.000\n",
       "95              문21  0.000\n",
       "7          지각된민감성_1  0.000\n",
       "99              고혈압  0.000\n",
       "82            문18_3  0.000\n",
       "71             체중조절  0.000\n",
       "15         지각된심각성_4  0.000\n",
       "79            문17_4  0.000\n",
       "32        운동에대한태도_1  0.000\n",
       "31        운동에대한장애_7  0.000\n",
       "42      체중관리효능감_1.1  0.000\n",
       "52         다이어트의향_2  0.000\n",
       "1                성별  0.000\n",
       "24         운동의유익성_8  0.000\n",
       "22         운동의유익성_6  0.000\n",
       "57         다이어트의향_5  0.000\n",
       "58           과식성향_5  0.000\n",
       "21         운동의유익성_5  0.000\n",
       "64           과식성향_9  0.000\n",
       "66          과식성향_10  0.000\n",
       "20         운동의유익성_4  0.000\n",
       "69               체형  0.000\n",
       "70             비만인식  0.000\n",
       "19         운동의유익성_3  0.000\n",
       "73   관리를 위한 전문기관 이용  0.000\n",
       "75      스스로 규칙적인 운동  0.000\n",
       "76            문17_1  0.000\n",
       "18         운동의유익성_2  0.000\n",
       "16         지각된심각성_5  0.000\n",
       "0              거주지역  0.000\n",
       "\n",
       "[106 rows x 2 columns]"
      ]
     },
     "execution_count": 116,
     "metadata": {
      "tags": []
     },
     "output_type": "execute_result"
    }
   ],
   "source": [
    "ada_FI.sort_values(by=['FI'],ascending=False)"
   ]
  },
  {
   "cell_type": "markdown",
   "metadata": {
    "colab_type": "text",
    "id": "YcZHN5zKiboK"
   },
   "source": [
    "#### Randomsearch로 최적의 parameter 찾기"
   ]
  },
  {
   "cell_type": "code",
   "execution_count": 0,
   "metadata": {
    "colab": {},
    "colab_type": "code",
    "id": "1N4YAL4NXgOM"
   },
   "outputs": [],
   "source": [
    "from sklearn.tree import DecisionTreeClassifier\n",
    "from sklearn.model_selection import GridSearchCV"
   ]
  },
  {
   "cell_type": "code",
   "execution_count": 0,
   "metadata": {
    "colab": {},
    "colab_type": "code",
    "id": "pVCsPxz0S1oh"
   },
   "outputs": [],
   "source": [
    "# A parameter grid for Adab\n",
    "param_grid = {\"base_estimator__criterion\" : [\"gini\", \"entropy\"],\n",
    "              \"base_estimator__splitter\" :   [\"best\", \"random\"],\n",
    "              'base_estimator__max_depth' : range(1,31),\n",
    "              'n_estimators' : range(50,1001,50),\n",
    "              'learning_rate': np.arange(0.01, 1.0, 0.01),\n",
    "              'algorithm' : ['SAMME', 'SAMME.R'],\n",
    "              'random_state' : range(1,10)\n",
    "             }\n",
    "# 띄어쓰기 조심"
   ]
  },
  {
   "cell_type": "code",
   "execution_count": 0,
   "metadata": {
    "colab": {},
    "colab_type": "code",
    "id": "rSJwx5yHS1ok"
   },
   "outputs": [],
   "source": [
    "DTC = DecisionTreeClassifier(random_state = 11, max_features = \"auto\")\n",
    "ada_clf_gs = AdaBoostClassifier(base_estimator = DTC)"
   ]
  },
  {
   "cell_type": "code",
   "execution_count": 0,
   "metadata": {
    "colab": {
     "base_uri": "https://localhost:8080/",
     "height": 179
    },
    "colab_type": "code",
    "id": "2sGTHhceXT20",
    "outputId": "c1ac1721-fdd4-41d2-ff65-4eaf4d8b4331"
   },
   "outputs": [
    {
     "name": "stdout",
     "output_type": "stream",
     "text": [
      "Fitting 5 folds for each of 100 candidates, totalling 500 fits\n"
     ]
    },
    {
     "name": "stderr",
     "output_type": "stream",
     "text": [
      "[Parallel(n_jobs=-1)]: Using backend LokyBackend with 2 concurrent workers.\n",
      "[Parallel(n_jobs=-1)]: Done  28 tasks      | elapsed:    9.6s\n",
      "[Parallel(n_jobs=-1)]: Done 146 tasks      | elapsed:   52.5s\n",
      "[Parallel(n_jobs=-1)]: Done 316 tasks      | elapsed:  2.8min\n",
      "[Parallel(n_jobs=-1)]: Done 497 out of 500 | elapsed:  4.2min remaining:    1.5s\n",
      "[Parallel(n_jobs=-1)]: Done 500 out of 500 | elapsed:  4.2min finished\n"
     ]
    },
    {
     "name": "stdout",
     "output_type": "stream",
     "text": [
      "\n",
      " Time taken: 0 hours 4 minutes and 14.44 seconds.\n"
     ]
    }
   ],
   "source": [
    "from sklearn.ensemble import AdaBoostClassifier\n",
    "\n",
    "skf = StratifiedKFold(n_splits=5, shuffle = True, random_state = 1001)\n",
    "start_time = timer(None) # timing starts from this point for \"start_time\" variable\n",
    "random_search_ada = RandomizedSearchCV(ada_clf_gs,\n",
    "                               param_distributions =param_grid,\n",
    "                               scoring = 'accuracy',\n",
    "                               n_jobs=5,\n",
    "                               cv=skf.split(X_train.iloc[:,1:],y_train),\n",
    "                               n_iter = 100,\n",
    "                               verbose=3)\n",
    "random_search_ada.fit(X_train.iloc[:,1:], y_train.values)\n",
    "timer(start_time) # timing ends here for \"start_time\" variable"
   ]
  },
  {
   "cell_type": "code",
   "execution_count": 0,
   "metadata": {
    "colab": {
     "base_uri": "https://localhost:8080/",
     "height": 244
    },
    "colab_type": "code",
    "id": "hrZ0mGR_S1on",
    "outputId": "f6d9597a-9fb9-4caa-ef86-2381062bd330"
   },
   "outputs": [
    {
     "ename": "NameError",
     "evalue": "ignored",
     "output_type": "error",
     "traceback": [
      "\u001b[0;31m---------------------------------------------------------------------------\u001b[0m",
      "\u001b[0;31mNameError\u001b[0m                                 Traceback (most recent call last)",
      "\u001b[0;32m<ipython-input-176-a525c2b3bf91>\u001b[0m in \u001b[0;36m<module>\u001b[0;34m()\u001b[0m\n\u001b[0;32m----> 1\u001b[0;31m \u001b[0mresults_ada\u001b[0m \u001b[0;34m=\u001b[0m \u001b[0mpd\u001b[0m\u001b[0;34m.\u001b[0m\u001b[0mDataFrame\u001b[0m\u001b[0;34m(\u001b[0m\u001b[0mrandom_search_ada\u001b[0m\u001b[0;34m.\u001b[0m\u001b[0mcv_results_\u001b[0m\u001b[0;34m)\u001b[0m\u001b[0;34m\u001b[0m\u001b[0;34m\u001b[0m\u001b[0m\n\u001b[0m\u001b[1;32m      2\u001b[0m \u001b[0mprint\u001b[0m\u001b[0;34m(\u001b[0m\u001b[0;34m'-'\u001b[0m\u001b[0;34m*\u001b[0m\u001b[0;36m100\u001b[0m\u001b[0;34m)\u001b[0m\u001b[0;34m\u001b[0m\u001b[0;34m\u001b[0m\u001b[0m\n\u001b[1;32m      3\u001b[0m \u001b[0mprint\u001b[0m\u001b[0;34m(\u001b[0m\u001b[0;34m'\\n 1. Best estimator:'\u001b[0m\u001b[0;34m)\u001b[0m\u001b[0;34m\u001b[0m\u001b[0;34m\u001b[0m\u001b[0m\n\u001b[1;32m      4\u001b[0m \u001b[0mprint\u001b[0m\u001b[0;34m(\u001b[0m\u001b[0mrandom_search_ada\u001b[0m\u001b[0;34m.\u001b[0m\u001b[0mbest_estimator_\u001b[0m\u001b[0;34m)\u001b[0m\u001b[0;34m\u001b[0m\u001b[0;34m\u001b[0m\u001b[0m\n\u001b[1;32m      5\u001b[0m \u001b[0mprint\u001b[0m\u001b[0;34m(\u001b[0m\u001b[0;34m'-'\u001b[0m\u001b[0;34m*\u001b[0m\u001b[0;36m100\u001b[0m\u001b[0;34m)\u001b[0m\u001b[0;34m\u001b[0m\u001b[0;34m\u001b[0m\u001b[0m\n",
      "\u001b[0;31mNameError\u001b[0m: name 'random_search_ada' is not defined"
     ]
    }
   ],
   "source": [
    "results_ada = pd.DataFrame(random_search_ada.cv_results_)\n",
    "print('-'*100)\n",
    "print('\\n 1. Best estimator:')\n",
    "print(random_search_ada.best_estimator_)\n",
    "print('-'*100)\n",
    "print('\\n 2. %d Fold & mean_test_score& std_test_score' % folds)\n",
    "print(results_ada.sort_values(by=['rank_test_score'],ascending=True).iloc[0,-8:-1])\n",
    "print('-'*100)\n",
    "print('\\n 3. Best hyperparameters:')\n",
    "print(random_search_ada.best_params_)\n",
    "print('-'*100)\n"
   ]
  },
  {
   "cell_type": "code",
   "execution_count": 0,
   "metadata": {
    "colab": {},
    "colab_type": "code",
    "id": "AERFnIcRqnbp"
   },
   "outputs": [],
   "source": [
    "results = pd.DataFrame(grid_search_ada.cv_results_)"
   ]
  },
  {
   "cell_type": "code",
   "execution_count": 0,
   "metadata": {
    "colab": {},
    "colab_type": "code",
    "id": "AgH_H2udZvU7"
   },
   "outputs": [],
   "source": [
    "ada_clf_gs = grid_search_ada.best_estimator_"
   ]
  },
  {
   "cell_type": "code",
   "execution_count": 0,
   "metadata": {
    "colab": {},
    "colab_type": "code",
    "id": "RUyQFZ4taS1K"
   },
   "outputs": [],
   "source": [
    "ada_clf_gs = ada_clf_gs.fit(X_train.iloc[:,1:], y_train)"
   ]
  },
  {
   "cell_type": "code",
   "execution_count": 0,
   "metadata": {
    "colab": {},
    "colab_type": "code",
    "id": "xmmp3guhaZ7t"
   },
   "outputs": [],
   "source": [
    "ada_clf_gs_pred = ada_clf_gs.predict(X_test.iloc[:,1:])"
   ]
  },
  {
   "cell_type": "code",
   "execution_count": 0,
   "metadata": {
    "colab": {
     "base_uri": "https://localhost:8080/",
     "height": 35
    },
    "colab_type": "code",
    "id": "uPBK_A0NZvU9",
    "outputId": "479d9ccc-dfdd-48d9-c3e8-b55bb32100ed"
   },
   "outputs": [
    {
     "name": "stdout",
     "output_type": "stream",
     "text": [
      "Accuracy: 0.74\n"
     ]
    }
   ],
   "source": [
    "print(\"Accuracy:\",metrics.accuracy_score(y_test, ada_clf_gs_pred))"
   ]
  },
  {
   "cell_type": "code",
   "execution_count": 0,
   "metadata": {
    "colab": {
     "base_uri": "https://localhost:8080/",
     "height": 35
    },
    "colab_type": "code",
    "id": "5vuZPlD5ZvU_",
    "outputId": "ce39f4af-4377-4078-ef9d-f44abd714549"
   },
   "outputs": [
    {
     "name": "stdout",
     "output_type": "stream",
     "text": [
      "<zip object at 0x7fa36b9ec808>\n"
     ]
    }
   ],
   "source": [
    "print(zip(X_train.iloc[:,1:], ada_clf.feature_importances_))"
   ]
  },
  {
   "cell_type": "code",
   "execution_count": 0,
   "metadata": {
    "colab": {},
    "colab_type": "code",
    "id": "zsvmXcy6ZvVA"
   },
   "outputs": [],
   "source": [
    "ada_FI = pd.DataFrame(zip(X_train.iloc[:,1:], ada_clf.feature_importances_),columns=['Xtrain','FI'])"
   ]
  },
  {
   "cell_type": "code",
   "execution_count": 0,
   "metadata": {
    "colab": {
     "base_uri": "https://localhost:8080/",
     "height": 35
    },
    "colab_type": "code",
    "id": "0cbLmpZuZvVB",
    "outputId": "d957ad09-8226-4fd7-f56c-75625d4180e1"
   },
   "outputs": [
    {
     "data": {
      "text/plain": [
       "1.0"
      ]
     },
     "execution_count": 115,
     "metadata": {
      "tags": []
     },
     "output_type": "execute_result"
    }
   ],
   "source": [
    "ada_clf.feature_importances_.sum()"
   ]
  },
  {
   "cell_type": "code",
   "execution_count": 0,
   "metadata": {
    "colab": {
     "base_uri": "https://localhost:8080/",
     "height": 1000
    },
    "colab_type": "code",
    "id": "aaRP5sqGZvVC",
    "outputId": "1d587fce-64c4-48d1-8530-8c660e4c895f"
   },
   "outputs": [
    {
     "data": {
      "text/html": [
       "<div>\n",
       "<style scoped>\n",
       "    .dataframe tbody tr th:only-of-type {\n",
       "        vertical-align: middle;\n",
       "    }\n",
       "\n",
       "    .dataframe tbody tr th {\n",
       "        vertical-align: top;\n",
       "    }\n",
       "\n",
       "    .dataframe thead th {\n",
       "        text-align: right;\n",
       "    }\n",
       "</style>\n",
       "<table border=\"1\" class=\"dataframe\">\n",
       "  <thead>\n",
       "    <tr style=\"text-align: right;\">\n",
       "      <th></th>\n",
       "      <th>Xtrain</th>\n",
       "      <th>FI</th>\n",
       "    </tr>\n",
       "  </thead>\n",
       "  <tbody>\n",
       "    <tr>\n",
       "      <th>2</th>\n",
       "      <td>연령</td>\n",
       "      <td>0.068</td>\n",
       "    </tr>\n",
       "    <tr>\n",
       "      <th>39</th>\n",
       "      <td>주관적규범_2</td>\n",
       "      <td>0.066</td>\n",
       "    </tr>\n",
       "    <tr>\n",
       "      <th>5</th>\n",
       "      <td>스마트폰앱이용갯수</td>\n",
       "      <td>0.062</td>\n",
       "    </tr>\n",
       "    <tr>\n",
       "      <th>72</th>\n",
       "      <td>건강생활을 위한 앱 이용</td>\n",
       "      <td>0.054</td>\n",
       "    </tr>\n",
       "    <tr>\n",
       "      <th>4</th>\n",
       "      <td>소셜미디어이용빈도</td>\n",
       "      <td>0.052</td>\n",
       "    </tr>\n",
       "    <tr>\n",
       "      <th>105</th>\n",
       "      <td>문53</td>\n",
       "      <td>0.038</td>\n",
       "    </tr>\n",
       "    <tr>\n",
       "      <th>6</th>\n",
       "      <td>스마트폰앱이용시간</td>\n",
       "      <td>0.034</td>\n",
       "    </tr>\n",
       "    <tr>\n",
       "      <th>62</th>\n",
       "      <td>다이어트의향_7</td>\n",
       "      <td>0.032</td>\n",
       "    </tr>\n",
       "    <tr>\n",
       "      <th>28</th>\n",
       "      <td>운동에대한장애_4</td>\n",
       "      <td>0.030</td>\n",
       "    </tr>\n",
       "    <tr>\n",
       "      <th>49</th>\n",
       "      <td>다이어트의향_1</td>\n",
       "      <td>0.028</td>\n",
       "    </tr>\n",
       "    <tr>\n",
       "      <th>94</th>\n",
       "      <td>문20_4</td>\n",
       "      <td>0.024</td>\n",
       "    </tr>\n",
       "    <tr>\n",
       "      <th>33</th>\n",
       "      <td>운동에대한태도_2</td>\n",
       "      <td>0.022</td>\n",
       "    </tr>\n",
       "    <tr>\n",
       "      <th>68</th>\n",
       "      <td>BMI</td>\n",
       "      <td>0.022</td>\n",
       "    </tr>\n",
       "    <tr>\n",
       "      <th>38</th>\n",
       "      <td>주관적규범_1</td>\n",
       "      <td>0.022</td>\n",
       "    </tr>\n",
       "    <tr>\n",
       "      <th>78</th>\n",
       "      <td>문17_3</td>\n",
       "      <td>0.020</td>\n",
       "    </tr>\n",
       "    <tr>\n",
       "      <th>100</th>\n",
       "      <td>당뇨병</td>\n",
       "      <td>0.020</td>\n",
       "    </tr>\n",
       "    <tr>\n",
       "      <th>43</th>\n",
       "      <td>체중관리효능감_3</td>\n",
       "      <td>0.020</td>\n",
       "    </tr>\n",
       "    <tr>\n",
       "      <th>46</th>\n",
       "      <td>체중관리효능감_6</td>\n",
       "      <td>0.018</td>\n",
       "    </tr>\n",
       "    <tr>\n",
       "      <th>77</th>\n",
       "      <td>문17_2</td>\n",
       "      <td>0.018</td>\n",
       "    </tr>\n",
       "    <tr>\n",
       "      <th>54</th>\n",
       "      <td>다이어트의향_3</td>\n",
       "      <td>0.016</td>\n",
       "    </tr>\n",
       "    <tr>\n",
       "      <th>102</th>\n",
       "      <td>관절염</td>\n",
       "      <td>0.016</td>\n",
       "    </tr>\n",
       "    <tr>\n",
       "      <th>40</th>\n",
       "      <td>주관적규범_3</td>\n",
       "      <td>0.016</td>\n",
       "    </tr>\n",
       "    <tr>\n",
       "      <th>56</th>\n",
       "      <td>다이어트의향_4</td>\n",
       "      <td>0.016</td>\n",
       "    </tr>\n",
       "    <tr>\n",
       "      <th>23</th>\n",
       "      <td>운동의유익성_7</td>\n",
       "      <td>0.016</td>\n",
       "    </tr>\n",
       "    <tr>\n",
       "      <th>80</th>\n",
       "      <td>문18_1</td>\n",
       "      <td>0.016</td>\n",
       "    </tr>\n",
       "    <tr>\n",
       "      <th>41</th>\n",
       "      <td>체중관리효능감_1</td>\n",
       "      <td>0.014</td>\n",
       "    </tr>\n",
       "    <tr>\n",
       "      <th>81</th>\n",
       "      <td>문18_2</td>\n",
       "      <td>0.014</td>\n",
       "    </tr>\n",
       "    <tr>\n",
       "      <th>17</th>\n",
       "      <td>운동의유익성_1</td>\n",
       "      <td>0.014</td>\n",
       "    </tr>\n",
       "    <tr>\n",
       "      <th>44</th>\n",
       "      <td>체중관리효능감_4</td>\n",
       "      <td>0.012</td>\n",
       "    </tr>\n",
       "    <tr>\n",
       "      <th>92</th>\n",
       "      <td>문20_2</td>\n",
       "      <td>0.012</td>\n",
       "    </tr>\n",
       "    <tr>\n",
       "      <th>...</th>\n",
       "      <td>...</td>\n",
       "      <td>...</td>\n",
       "    </tr>\n",
       "    <tr>\n",
       "      <th>10</th>\n",
       "      <td>지각된민감성_4</td>\n",
       "      <td>0.000</td>\n",
       "    </tr>\n",
       "    <tr>\n",
       "      <th>95</th>\n",
       "      <td>문21</td>\n",
       "      <td>0.000</td>\n",
       "    </tr>\n",
       "    <tr>\n",
       "      <th>7</th>\n",
       "      <td>지각된민감성_1</td>\n",
       "      <td>0.000</td>\n",
       "    </tr>\n",
       "    <tr>\n",
       "      <th>99</th>\n",
       "      <td>고혈압</td>\n",
       "      <td>0.000</td>\n",
       "    </tr>\n",
       "    <tr>\n",
       "      <th>82</th>\n",
       "      <td>문18_3</td>\n",
       "      <td>0.000</td>\n",
       "    </tr>\n",
       "    <tr>\n",
       "      <th>71</th>\n",
       "      <td>체중조절</td>\n",
       "      <td>0.000</td>\n",
       "    </tr>\n",
       "    <tr>\n",
       "      <th>15</th>\n",
       "      <td>지각된심각성_4</td>\n",
       "      <td>0.000</td>\n",
       "    </tr>\n",
       "    <tr>\n",
       "      <th>79</th>\n",
       "      <td>문17_4</td>\n",
       "      <td>0.000</td>\n",
       "    </tr>\n",
       "    <tr>\n",
       "      <th>32</th>\n",
       "      <td>운동에대한태도_1</td>\n",
       "      <td>0.000</td>\n",
       "    </tr>\n",
       "    <tr>\n",
       "      <th>31</th>\n",
       "      <td>운동에대한장애_7</td>\n",
       "      <td>0.000</td>\n",
       "    </tr>\n",
       "    <tr>\n",
       "      <th>42</th>\n",
       "      <td>체중관리효능감_1.1</td>\n",
       "      <td>0.000</td>\n",
       "    </tr>\n",
       "    <tr>\n",
       "      <th>52</th>\n",
       "      <td>다이어트의향_2</td>\n",
       "      <td>0.000</td>\n",
       "    </tr>\n",
       "    <tr>\n",
       "      <th>1</th>\n",
       "      <td>성별</td>\n",
       "      <td>0.000</td>\n",
       "    </tr>\n",
       "    <tr>\n",
       "      <th>24</th>\n",
       "      <td>운동의유익성_8</td>\n",
       "      <td>0.000</td>\n",
       "    </tr>\n",
       "    <tr>\n",
       "      <th>22</th>\n",
       "      <td>운동의유익성_6</td>\n",
       "      <td>0.000</td>\n",
       "    </tr>\n",
       "    <tr>\n",
       "      <th>57</th>\n",
       "      <td>다이어트의향_5</td>\n",
       "      <td>0.000</td>\n",
       "    </tr>\n",
       "    <tr>\n",
       "      <th>58</th>\n",
       "      <td>과식성향_5</td>\n",
       "      <td>0.000</td>\n",
       "    </tr>\n",
       "    <tr>\n",
       "      <th>21</th>\n",
       "      <td>운동의유익성_5</td>\n",
       "      <td>0.000</td>\n",
       "    </tr>\n",
       "    <tr>\n",
       "      <th>64</th>\n",
       "      <td>과식성향_9</td>\n",
       "      <td>0.000</td>\n",
       "    </tr>\n",
       "    <tr>\n",
       "      <th>66</th>\n",
       "      <td>과식성향_10</td>\n",
       "      <td>0.000</td>\n",
       "    </tr>\n",
       "    <tr>\n",
       "      <th>20</th>\n",
       "      <td>운동의유익성_4</td>\n",
       "      <td>0.000</td>\n",
       "    </tr>\n",
       "    <tr>\n",
       "      <th>69</th>\n",
       "      <td>체형</td>\n",
       "      <td>0.000</td>\n",
       "    </tr>\n",
       "    <tr>\n",
       "      <th>70</th>\n",
       "      <td>비만인식</td>\n",
       "      <td>0.000</td>\n",
       "    </tr>\n",
       "    <tr>\n",
       "      <th>19</th>\n",
       "      <td>운동의유익성_3</td>\n",
       "      <td>0.000</td>\n",
       "    </tr>\n",
       "    <tr>\n",
       "      <th>73</th>\n",
       "      <td>관리를 위한 전문기관 이용</td>\n",
       "      <td>0.000</td>\n",
       "    </tr>\n",
       "    <tr>\n",
       "      <th>75</th>\n",
       "      <td>스스로 규칙적인 운동</td>\n",
       "      <td>0.000</td>\n",
       "    </tr>\n",
       "    <tr>\n",
       "      <th>76</th>\n",
       "      <td>문17_1</td>\n",
       "      <td>0.000</td>\n",
       "    </tr>\n",
       "    <tr>\n",
       "      <th>18</th>\n",
       "      <td>운동의유익성_2</td>\n",
       "      <td>0.000</td>\n",
       "    </tr>\n",
       "    <tr>\n",
       "      <th>16</th>\n",
       "      <td>지각된심각성_5</td>\n",
       "      <td>0.000</td>\n",
       "    </tr>\n",
       "    <tr>\n",
       "      <th>0</th>\n",
       "      <td>거주지역</td>\n",
       "      <td>0.000</td>\n",
       "    </tr>\n",
       "  </tbody>\n",
       "</table>\n",
       "<p>106 rows × 2 columns</p>\n",
       "</div>"
      ],
      "text/plain": [
       "             Xtrain     FI\n",
       "2                연령  0.068\n",
       "39          주관적규범_2  0.066\n",
       "5         스마트폰앱이용갯수  0.062\n",
       "72    건강생활을 위한 앱 이용  0.054\n",
       "4         소셜미디어이용빈도  0.052\n",
       "105             문53  0.038\n",
       "6         스마트폰앱이용시간  0.034\n",
       "62         다이어트의향_7  0.032\n",
       "28        운동에대한장애_4  0.030\n",
       "49         다이어트의향_1  0.028\n",
       "94            문20_4  0.024\n",
       "33        운동에대한태도_2  0.022\n",
       "68              BMI  0.022\n",
       "38          주관적규범_1  0.022\n",
       "78            문17_3  0.020\n",
       "100             당뇨병  0.020\n",
       "43        체중관리효능감_3  0.020\n",
       "46        체중관리효능감_6  0.018\n",
       "77            문17_2  0.018\n",
       "54         다이어트의향_3  0.016\n",
       "102             관절염  0.016\n",
       "40          주관적규범_3  0.016\n",
       "56         다이어트의향_4  0.016\n",
       "23         운동의유익성_7  0.016\n",
       "80            문18_1  0.016\n",
       "41        체중관리효능감_1  0.014\n",
       "81            문18_2  0.014\n",
       "17         운동의유익성_1  0.014\n",
       "44        체중관리효능감_4  0.012\n",
       "92            문20_2  0.012\n",
       "..              ...    ...\n",
       "10         지각된민감성_4  0.000\n",
       "95              문21  0.000\n",
       "7          지각된민감성_1  0.000\n",
       "99              고혈압  0.000\n",
       "82            문18_3  0.000\n",
       "71             체중조절  0.000\n",
       "15         지각된심각성_4  0.000\n",
       "79            문17_4  0.000\n",
       "32        운동에대한태도_1  0.000\n",
       "31        운동에대한장애_7  0.000\n",
       "42      체중관리효능감_1.1  0.000\n",
       "52         다이어트의향_2  0.000\n",
       "1                성별  0.000\n",
       "24         운동의유익성_8  0.000\n",
       "22         운동의유익성_6  0.000\n",
       "57         다이어트의향_5  0.000\n",
       "58           과식성향_5  0.000\n",
       "21         운동의유익성_5  0.000\n",
       "64           과식성향_9  0.000\n",
       "66          과식성향_10  0.000\n",
       "20         운동의유익성_4  0.000\n",
       "69               체형  0.000\n",
       "70             비만인식  0.000\n",
       "19         운동의유익성_3  0.000\n",
       "73   관리를 위한 전문기관 이용  0.000\n",
       "75      스스로 규칙적인 운동  0.000\n",
       "76            문17_1  0.000\n",
       "18         운동의유익성_2  0.000\n",
       "16         지각된심각성_5  0.000\n",
       "0              거주지역  0.000\n",
       "\n",
       "[106 rows x 2 columns]"
      ]
     },
     "execution_count": 116,
     "metadata": {
      "tags": []
     },
     "output_type": "execute_result"
    }
   ],
   "source": [
    "ada_FI.sort_values(by=['FI'],ascending=False)"
   ]
  }
 ],
 "metadata": {
  "accelerator": "GPU",
  "colab": {
   "collapsed_sections": [],
   "machine_shape": "hm",
   "name": "Trial_3.ipynb",
   "provenance": [],
   "toc_visible": true
  },
  "kernelspec": {
   "display_name": "Python 3",
   "language": "python",
   "name": "python3"
  },
  "language_info": {
   "codemirror_mode": {
    "name": "ipython",
    "version": 3
   },
   "file_extension": ".py",
   "mimetype": "text/x-python",
   "name": "python",
   "nbconvert_exporter": "python",
   "pygments_lexer": "ipython3",
   "version": "3.6.8"
  },
  "toc": {
   "base_numbering": 1,
   "nav_menu": {},
   "number_sections": true,
   "sideBar": true,
   "skip_h1_title": false,
   "title_cell": "Table of Contents",
   "title_sidebar": "Contents",
   "toc_cell": true,
   "toc_position": {
    "height": "calc(100% - 180px)",
    "left": "10px",
    "top": "150px",
    "width": "384px"
   },
   "toc_section_display": true,
   "toc_window_display": true
  }
 },
 "nbformat": 4,
 "nbformat_minor": 1
}
